{
  "nbformat": 4,
  "nbformat_minor": 0,
  "metadata": {
    "colab": {
      "name": "DACON_주차수요예측_팀플.ipynb",
      "provenance": [],
      "collapsed_sections": [],
      "authorship_tag": "ABX9TyOkIl7Itn51lwGN3sblCJP0",
      "include_colab_link": true
    },
    "kernelspec": {
      "name": "python3",
      "display_name": "Python 3"
    },
    "language_info": {
      "name": "python"
    }
  },
  "cells": [
    {
      "cell_type": "markdown",
      "metadata": {
        "id": "view-in-github",
        "colab_type": "text"
      },
      "source": [
        "<a href=\"https://colab.research.google.com/github/blockmoo/Python/blob/main/DACON_%EC%A3%BC%EC%B0%A8%EC%88%98%EC%9A%94%EC%98%88%EC%B8%A1_%ED%8C%80%ED%94%8C.ipynb\" target=\"_parent\"><img src=\"https://colab.research.google.com/assets/colab-badge.svg\" alt=\"Open In Colab\"/></a>"
      ]
    },
    {
      "cell_type": "markdown",
      "metadata": {
        "id": "-OxNFAk0L_cM"
      },
      "source": [
        "\n",
        "# **데이콘**\n",
        "[배경]\n",
        "\n",
        "아파트 단지 내 필요한 주차대수는 ①법정주차대수 ②장래주차수요 중 큰 값에 따라 결정하게되어 있어, 정확한 ②장래주차수요의 산정을 필요로 합니다.  \n",
        "\n",
        "현재 ②장래주차수요는 ‘주차원단위’와 ‘건축연면적’을 기초로하여 산출되고 있으며, ‘주차원단위’는 신규 건축예정 부지 인근의 유사 단지를 피크 시간대 방문하여 주차된 차량대수를 세는 방법으로 조사하고 있습니다.  \n",
        "\n",
        "이 경우 인력조사로 인한 오차발생, 현장조사 시점과 실제 건축시점과의 시간차 등의 문제로 과대 또는 과소 산정의 가능성을 배제할 수 없습니다.  \n",
        "\n",
        "\n",
        "[주제]\n",
        "\n",
        "\n",
        "\n",
        "🏠 유형별 임대주택 설계 시 단지 내 적정 🅿️ 주차 수요를 예측"
      ]
    },
    {
      "cell_type": "code",
      "metadata": {
        "colab": {
          "base_uri": "https://localhost:8080/",
          "height": 53
        },
        "id": "WEJWZoVRL5d9",
        "outputId": "06f1ff17-5f4b-4e53-f5c8-7d1657d827db"
      },
      "source": [
        "from google.colab import drive\n",
        "drive.mount('/content/drive')\n",
        "import os\n",
        "os.chdir(\"/content/drive/MyDrive/데이콘 주차수요 예측 AI 경진대회\")\n",
        "os.getcwd()"
      ],
      "execution_count": 1,
      "outputs": [
        {
          "output_type": "stream",
          "text": [
            "Mounted at /content/drive\n"
          ],
          "name": "stdout"
        },
        {
          "output_type": "execute_result",
          "data": {
            "application/vnd.google.colaboratory.intrinsic+json": {
              "type": "string"
            },
            "text/plain": [
              "'/content/drive/MyDrive/데이콘 주차수요 예측 AI 경진대회'"
            ]
          },
          "metadata": {
            "tags": []
          },
          "execution_count": 1
        }
      ]
    },
    {
      "cell_type": "code",
      "metadata": {
        "id": "CmknXN-5MMt4"
      },
      "source": [
        "import pandas as pd\n",
        "import numpy as np\n",
        "import matplotlib\n",
        "from matplotlib import pyplot as plt\n",
        "from matplotlib import font_manager, rc\n",
        "plt.rc('font', family='NanumBarunGothic') "
      ],
      "execution_count": 2,
      "outputs": []
    },
    {
      "cell_type": "code",
      "metadata": {
        "colab": {
          "base_uri": "https://localhost:8080/",
          "height": 363
        },
        "id": "GCLkpBIwMM8F",
        "outputId": "5c632051-65bd-43f1-852e-6ce0712f5c06"
      },
      "source": [
        "age = pd.read_csv(\"age_gender_info.csv\")\n",
        "age.head(3)"
      ],
      "execution_count": 3,
      "outputs": [
        {
          "output_type": "execute_result",
          "data": {
            "text/html": [
              "<div>\n",
              "<style scoped>\n",
              "    .dataframe tbody tr th:only-of-type {\n",
              "        vertical-align: middle;\n",
              "    }\n",
              "\n",
              "    .dataframe tbody tr th {\n",
              "        vertical-align: top;\n",
              "    }\n",
              "\n",
              "    .dataframe thead th {\n",
              "        text-align: right;\n",
              "    }\n",
              "</style>\n",
              "<table border=\"1\" class=\"dataframe\">\n",
              "  <thead>\n",
              "    <tr style=\"text-align: right;\">\n",
              "      <th></th>\n",
              "      <th>지역</th>\n",
              "      <th>10대미만(여자)</th>\n",
              "      <th>10대미만(남자)</th>\n",
              "      <th>10대(여자)</th>\n",
              "      <th>10대(남자)</th>\n",
              "      <th>20대(여자)</th>\n",
              "      <th>20대(남자)</th>\n",
              "      <th>30대(여자)</th>\n",
              "      <th>30대(남자)</th>\n",
              "      <th>40대(여자)</th>\n",
              "      <th>40대(남자)</th>\n",
              "      <th>50대(여자)</th>\n",
              "      <th>50대(남자)</th>\n",
              "      <th>60대(여자)</th>\n",
              "      <th>60대(남자)</th>\n",
              "      <th>70대(여자)</th>\n",
              "      <th>70대(남자)</th>\n",
              "      <th>80대(여자)</th>\n",
              "      <th>80대(남자)</th>\n",
              "      <th>90대(여자)</th>\n",
              "      <th>90대(남자)</th>\n",
              "      <th>100대(여자)</th>\n",
              "      <th>100대(남자)</th>\n",
              "    </tr>\n",
              "  </thead>\n",
              "  <tbody>\n",
              "    <tr>\n",
              "      <th>0</th>\n",
              "      <td>경상북도</td>\n",
              "      <td>0.030158</td>\n",
              "      <td>0.033195</td>\n",
              "      <td>0.056346</td>\n",
              "      <td>0.061360</td>\n",
              "      <td>0.060096</td>\n",
              "      <td>0.067859</td>\n",
              "      <td>0.053433</td>\n",
              "      <td>0.049572</td>\n",
              "      <td>0.083660</td>\n",
              "      <td>0.072613</td>\n",
              "      <td>0.087149</td>\n",
              "      <td>0.072146</td>\n",
              "      <td>0.082684</td>\n",
              "      <td>0.063889</td>\n",
              "      <td>0.047717</td>\n",
              "      <td>0.030172</td>\n",
              "      <td>0.029361</td>\n",
              "      <td>0.011211</td>\n",
              "      <td>0.005578</td>\n",
              "      <td>0.001553</td>\n",
              "      <td>0.000234</td>\n",
              "      <td>0.000014</td>\n",
              "    </tr>\n",
              "    <tr>\n",
              "      <th>1</th>\n",
              "      <td>경상남도</td>\n",
              "      <td>0.027400</td>\n",
              "      <td>0.026902</td>\n",
              "      <td>0.053257</td>\n",
              "      <td>0.055568</td>\n",
              "      <td>0.064920</td>\n",
              "      <td>0.070618</td>\n",
              "      <td>0.056414</td>\n",
              "      <td>0.057550</td>\n",
              "      <td>0.077092</td>\n",
              "      <td>0.067600</td>\n",
              "      <td>0.086873</td>\n",
              "      <td>0.072570</td>\n",
              "      <td>0.087201</td>\n",
              "      <td>0.069562</td>\n",
              "      <td>0.048357</td>\n",
              "      <td>0.033277</td>\n",
              "      <td>0.027361</td>\n",
              "      <td>0.011295</td>\n",
              "      <td>0.004910</td>\n",
              "      <td>0.001086</td>\n",
              "      <td>0.000179</td>\n",
              "      <td>0.000010</td>\n",
              "    </tr>\n",
              "    <tr>\n",
              "      <th>2</th>\n",
              "      <td>대전광역시</td>\n",
              "      <td>0.028197</td>\n",
              "      <td>0.029092</td>\n",
              "      <td>0.040490</td>\n",
              "      <td>0.042793</td>\n",
              "      <td>0.060834</td>\n",
              "      <td>0.064247</td>\n",
              "      <td>0.068654</td>\n",
              "      <td>0.066848</td>\n",
              "      <td>0.074667</td>\n",
              "      <td>0.067925</td>\n",
              "      <td>0.085751</td>\n",
              "      <td>0.068819</td>\n",
              "      <td>0.088468</td>\n",
              "      <td>0.070261</td>\n",
              "      <td>0.051010</td>\n",
              "      <td>0.037143</td>\n",
              "      <td>0.032455</td>\n",
              "      <td>0.013751</td>\n",
              "      <td>0.006494</td>\n",
              "      <td>0.001740</td>\n",
              "      <td>0.000298</td>\n",
              "      <td>0.000066</td>\n",
              "    </tr>\n",
              "  </tbody>\n",
              "</table>\n",
              "</div>"
            ],
            "text/plain": [
              "      지역  10대미만(여자)  10대미만(남자)  ...   90대(남자)  100대(여자)  100대(남자)\n",
              "0   경상북도   0.030158   0.033195  ...  0.001553  0.000234  0.000014\n",
              "1   경상남도   0.027400   0.026902  ...  0.001086  0.000179  0.000010\n",
              "2  대전광역시   0.028197   0.029092  ...  0.001740  0.000298  0.000066\n",
              "\n",
              "[3 rows x 23 columns]"
            ]
          },
          "metadata": {
            "tags": []
          },
          "execution_count": 3
        }
      ]
    },
    {
      "cell_type": "code",
      "metadata": {
        "colab": {
          "base_uri": "https://localhost:8080/",
          "height": 494
        },
        "id": "Oyzg8By6MM-6",
        "outputId": "4e96124e-66f0-468d-efd3-3463a6963bc5"
      },
      "source": [
        "# 불필요한 데이터 제거 파일 : 데이터 공지 참고\n",
        "train2 = pd.read_csv(\"train2.csv\", encoding='cp949')\n",
        "test2 = pd.read_csv('test2.csv', encoding='cp949')\n",
        "submission = pd.read_csv('sample_submission.csv')\n",
        "train2.head(3)"
      ],
      "execution_count": 4,
      "outputs": [
        {
          "output_type": "execute_result",
          "data": {
            "text/html": [
              "<div>\n",
              "<style scoped>\n",
              "    .dataframe tbody tr th:only-of-type {\n",
              "        vertical-align: middle;\n",
              "    }\n",
              "\n",
              "    .dataframe tbody tr th {\n",
              "        vertical-align: top;\n",
              "    }\n",
              "\n",
              "    .dataframe thead th {\n",
              "        text-align: right;\n",
              "    }\n",
              "</style>\n",
              "<table border=\"1\" class=\"dataframe\">\n",
              "  <thead>\n",
              "    <tr style=\"text-align: right;\">\n",
              "      <th></th>\n",
              "      <th>단지코드</th>\n",
              "      <th>총세대수</th>\n",
              "      <th>임대건물구분</th>\n",
              "      <th>지역</th>\n",
              "      <th>공급유형</th>\n",
              "      <th>전용면적</th>\n",
              "      <th>전용면적별세대수</th>\n",
              "      <th>공가수</th>\n",
              "      <th>자격유형</th>\n",
              "      <th>임대보증금</th>\n",
              "      <th>임대료</th>\n",
              "      <th>도보 10분거리 내 지하철역 수(환승노선 수 반영)</th>\n",
              "      <th>도보 10분거리 내 버스정류장 수</th>\n",
              "      <th>단지내주차면수</th>\n",
              "      <th>등록차량수</th>\n",
              "    </tr>\n",
              "  </thead>\n",
              "  <tbody>\n",
              "    <tr>\n",
              "      <th>0</th>\n",
              "      <td>C2515</td>\n",
              "      <td>545</td>\n",
              "      <td>아파트</td>\n",
              "      <td>경상남도</td>\n",
              "      <td>국민임대</td>\n",
              "      <td>33.48</td>\n",
              "      <td>276</td>\n",
              "      <td>17</td>\n",
              "      <td>A</td>\n",
              "      <td>9216000</td>\n",
              "      <td>82940</td>\n",
              "      <td>0.0</td>\n",
              "      <td>3</td>\n",
              "      <td>624</td>\n",
              "      <td>205</td>\n",
              "    </tr>\n",
              "    <tr>\n",
              "      <th>1</th>\n",
              "      <td>C2515</td>\n",
              "      <td>545</td>\n",
              "      <td>아파트</td>\n",
              "      <td>경상남도</td>\n",
              "      <td>국민임대</td>\n",
              "      <td>39.60</td>\n",
              "      <td>60</td>\n",
              "      <td>17</td>\n",
              "      <td>A</td>\n",
              "      <td>12672000</td>\n",
              "      <td>107130</td>\n",
              "      <td>0.0</td>\n",
              "      <td>3</td>\n",
              "      <td>624</td>\n",
              "      <td>205</td>\n",
              "    </tr>\n",
              "    <tr>\n",
              "      <th>2</th>\n",
              "      <td>C2515</td>\n",
              "      <td>545</td>\n",
              "      <td>아파트</td>\n",
              "      <td>경상남도</td>\n",
              "      <td>국민임대</td>\n",
              "      <td>39.60</td>\n",
              "      <td>20</td>\n",
              "      <td>17</td>\n",
              "      <td>A</td>\n",
              "      <td>12672000</td>\n",
              "      <td>107130</td>\n",
              "      <td>0.0</td>\n",
              "      <td>3</td>\n",
              "      <td>624</td>\n",
              "      <td>205</td>\n",
              "    </tr>\n",
              "  </tbody>\n",
              "</table>\n",
              "</div>"
            ],
            "text/plain": [
              "    단지코드  총세대수 임대건물구분  ... 도보 10분거리 내 버스정류장 수 단지내주차면수  등록차량수\n",
              "0  C2515   545    아파트  ...                  3     624    205\n",
              "1  C2515   545    아파트  ...                  3     624    205\n",
              "2  C2515   545    아파트  ...                  3     624    205\n",
              "\n",
              "[3 rows x 15 columns]"
            ]
          },
          "metadata": {
            "tags": []
          },
          "execution_count": 4
        }
      ]
    },
    {
      "cell_type": "code",
      "metadata": {
        "colab": {
          "base_uri": "https://localhost:8080/"
        },
        "id": "FqTASmGXMNBp",
        "outputId": "bb6a3bc0-e9f7-4d08-fe07-48c6569a31c2"
      },
      "source": [
        "# 지하철역 수, 버스정류장 수 컬럼명을 지하철, 버스로 변경\n",
        "print(train2.columns)\n",
        "train2.rename(columns = {'도보 10분거리 내 지하철역 수(환승노선 수 반영)' : '지하철',\"도보 10분거리 내 버스정류장 수\" : \"버스\"}, inplace = True)\n",
        "test2.rename(columns = {'도보 10분거리 내 지하철역 수(환승노선 수 반영)' : '지하철',\"도보 10분거리 내 버스정류장 수\" : \"버스\"}, inplace = True)\n",
        "print(train2.columns)"
      ],
      "execution_count": 5,
      "outputs": [
        {
          "output_type": "stream",
          "text": [
            "Index(['단지코드', '총세대수', '임대건물구분', '지역', '공급유형', '전용면적', '전용면적별세대수', '공가수',\n",
            "       '자격유형', '임대보증금', '임대료', '도보 10분거리 내 지하철역 수(환승노선 수 반영)',\n",
            "       '도보 10분거리 내 버스정류장 수', '단지내주차면수', '등록차량수'],\n",
            "      dtype='object')\n",
            "Index(['단지코드', '총세대수', '임대건물구분', '지역', '공급유형', '전용면적', '전용면적별세대수', '공가수',\n",
            "       '자격유형', '임대보증금', '임대료', '지하철', '버스', '단지내주차면수', '등록차량수'],\n",
            "      dtype='object')\n"
          ],
          "name": "stdout"
        }
      ]
    },
    {
      "cell_type": "code",
      "metadata": {
        "colab": {
          "base_uri": "https://localhost:8080/",
          "height": 142
        },
        "id": "WllpcNXVMNEu",
        "outputId": "73238c42-3cbf-42e7-bc47-25d3e692c445"
      },
      "source": [
        "# 지하철 수 NULL값 처리: 모두 0 (직접 실제 아파트와 비교)\n",
        "train2.지하철 = train2.지하철.fillna(0)\n",
        "train2.tail(3)"
      ],
      "execution_count": 6,
      "outputs": [
        {
          "output_type": "execute_result",
          "data": {
            "text/html": [
              "<div>\n",
              "<style scoped>\n",
              "    .dataframe tbody tr th:only-of-type {\n",
              "        vertical-align: middle;\n",
              "    }\n",
              "\n",
              "    .dataframe tbody tr th {\n",
              "        vertical-align: top;\n",
              "    }\n",
              "\n",
              "    .dataframe thead th {\n",
              "        text-align: right;\n",
              "    }\n",
              "</style>\n",
              "<table border=\"1\" class=\"dataframe\">\n",
              "  <thead>\n",
              "    <tr style=\"text-align: right;\">\n",
              "      <th></th>\n",
              "      <th>단지코드</th>\n",
              "      <th>총세대수</th>\n",
              "      <th>임대건물구분</th>\n",
              "      <th>지역</th>\n",
              "      <th>공급유형</th>\n",
              "      <th>전용면적</th>\n",
              "      <th>전용면적별세대수</th>\n",
              "      <th>공가수</th>\n",
              "      <th>자격유형</th>\n",
              "      <th>임대보증금</th>\n",
              "      <th>임대료</th>\n",
              "      <th>지하철</th>\n",
              "      <th>버스</th>\n",
              "      <th>단지내주차면수</th>\n",
              "      <th>등록차량수</th>\n",
              "    </tr>\n",
              "  </thead>\n",
              "  <tbody>\n",
              "    <tr>\n",
              "      <th>2866</th>\n",
              "      <td>C2532</td>\n",
              "      <td>239</td>\n",
              "      <td>아파트</td>\n",
              "      <td>강원도</td>\n",
              "      <td>국민임대</td>\n",
              "      <td>51.73</td>\n",
              "      <td>34</td>\n",
              "      <td>7</td>\n",
              "      <td>A</td>\n",
              "      <td>14005000</td>\n",
              "      <td>142310</td>\n",
              "      <td>0.0</td>\n",
              "      <td>1</td>\n",
              "      <td>166</td>\n",
              "      <td>146</td>\n",
              "    </tr>\n",
              "    <tr>\n",
              "      <th>2867</th>\n",
              "      <td>C2532</td>\n",
              "      <td>239</td>\n",
              "      <td>아파트</td>\n",
              "      <td>강원도</td>\n",
              "      <td>국민임대</td>\n",
              "      <td>51.96</td>\n",
              "      <td>114</td>\n",
              "      <td>7</td>\n",
              "      <td>A</td>\n",
              "      <td>14005000</td>\n",
              "      <td>142310</td>\n",
              "      <td>0.0</td>\n",
              "      <td>1</td>\n",
              "      <td>166</td>\n",
              "      <td>146</td>\n",
              "    </tr>\n",
              "    <tr>\n",
              "      <th>2868</th>\n",
              "      <td>C2532</td>\n",
              "      <td>239</td>\n",
              "      <td>아파트</td>\n",
              "      <td>강원도</td>\n",
              "      <td>국민임대</td>\n",
              "      <td>54.95</td>\n",
              "      <td>19</td>\n",
              "      <td>7</td>\n",
              "      <td>A</td>\n",
              "      <td>14830000</td>\n",
              "      <td>151030</td>\n",
              "      <td>0.0</td>\n",
              "      <td>1</td>\n",
              "      <td>166</td>\n",
              "      <td>146</td>\n",
              "    </tr>\n",
              "  </tbody>\n",
              "</table>\n",
              "</div>"
            ],
            "text/plain": [
              "       단지코드  총세대수 임대건물구분   지역  공급유형  ...     임대료  지하철  버스 단지내주차면수 등록차량수\n",
              "2866  C2532   239    아파트  강원도  국민임대  ...  142310  0.0   1     166   146\n",
              "2867  C2532   239    아파트  강원도  국민임대  ...  142310  0.0   1     166   146\n",
              "2868  C2532   239    아파트  강원도  국민임대  ...  151030  0.0   1     166   146\n",
              "\n",
              "[3 rows x 15 columns]"
            ]
          },
          "metadata": {
            "tags": []
          },
          "execution_count": 6
        }
      ]
    },
    {
      "cell_type": "code",
      "metadata": {
        "colab": {
          "base_uri": "https://localhost:8080/"
        },
        "id": "qo8TtzvxMNHi",
        "outputId": "7e28039b-e834-46da-f069-06c2fd6d72db"
      },
      "source": [
        "uni_all = train2.단지코드.unique()  #unique한 단지코드만 추출\n",
        "len(uni_all)"
      ],
      "execution_count": 7,
      "outputs": [
        {
          "output_type": "execute_result",
          "data": {
            "text/plain": [
              "411"
            ]
          },
          "metadata": {
            "tags": []
          },
          "execution_count": 7
        }
      ]
    },
    {
      "cell_type": "code",
      "metadata": {
        "colab": {
          "base_uri": "https://localhost:8080/",
          "height": 142
        },
        "id": "k6lBtp1NMNKB",
        "outputId": "f22df540-60d0-43f0-d938-fd9eb0903caa"
      },
      "source": [
        "#실질세대수 변수 추가(총 세대수 삭제 안함, 추후 불필요할 시 삭제)\n",
        "train2 = train2.set_index('단지코드')\n",
        "train2['ssd'] = train2.groupby('단지코드')['전용면적별세대수'].sum()\n",
        "train2['dif'] = train2.총세대수 - train2.ssd\n",
        "train2 = train2.reset_index()\n",
        "train2.tail(3) "
      ],
      "execution_count": 8,
      "outputs": [
        {
          "output_type": "execute_result",
          "data": {
            "text/html": [
              "<div>\n",
              "<style scoped>\n",
              "    .dataframe tbody tr th:only-of-type {\n",
              "        vertical-align: middle;\n",
              "    }\n",
              "\n",
              "    .dataframe tbody tr th {\n",
              "        vertical-align: top;\n",
              "    }\n",
              "\n",
              "    .dataframe thead th {\n",
              "        text-align: right;\n",
              "    }\n",
              "</style>\n",
              "<table border=\"1\" class=\"dataframe\">\n",
              "  <thead>\n",
              "    <tr style=\"text-align: right;\">\n",
              "      <th></th>\n",
              "      <th>단지코드</th>\n",
              "      <th>총세대수</th>\n",
              "      <th>임대건물구분</th>\n",
              "      <th>지역</th>\n",
              "      <th>공급유형</th>\n",
              "      <th>전용면적</th>\n",
              "      <th>전용면적별세대수</th>\n",
              "      <th>공가수</th>\n",
              "      <th>자격유형</th>\n",
              "      <th>임대보증금</th>\n",
              "      <th>임대료</th>\n",
              "      <th>지하철</th>\n",
              "      <th>버스</th>\n",
              "      <th>단지내주차면수</th>\n",
              "      <th>등록차량수</th>\n",
              "      <th>ssd</th>\n",
              "      <th>dif</th>\n",
              "    </tr>\n",
              "  </thead>\n",
              "  <tbody>\n",
              "    <tr>\n",
              "      <th>2866</th>\n",
              "      <td>C2532</td>\n",
              "      <td>239</td>\n",
              "      <td>아파트</td>\n",
              "      <td>강원도</td>\n",
              "      <td>국민임대</td>\n",
              "      <td>51.73</td>\n",
              "      <td>34</td>\n",
              "      <td>7</td>\n",
              "      <td>A</td>\n",
              "      <td>14005000</td>\n",
              "      <td>142310</td>\n",
              "      <td>0.0</td>\n",
              "      <td>1</td>\n",
              "      <td>166</td>\n",
              "      <td>146</td>\n",
              "      <td>239</td>\n",
              "      <td>0</td>\n",
              "    </tr>\n",
              "    <tr>\n",
              "      <th>2867</th>\n",
              "      <td>C2532</td>\n",
              "      <td>239</td>\n",
              "      <td>아파트</td>\n",
              "      <td>강원도</td>\n",
              "      <td>국민임대</td>\n",
              "      <td>51.96</td>\n",
              "      <td>114</td>\n",
              "      <td>7</td>\n",
              "      <td>A</td>\n",
              "      <td>14005000</td>\n",
              "      <td>142310</td>\n",
              "      <td>0.0</td>\n",
              "      <td>1</td>\n",
              "      <td>166</td>\n",
              "      <td>146</td>\n",
              "      <td>239</td>\n",
              "      <td>0</td>\n",
              "    </tr>\n",
              "    <tr>\n",
              "      <th>2868</th>\n",
              "      <td>C2532</td>\n",
              "      <td>239</td>\n",
              "      <td>아파트</td>\n",
              "      <td>강원도</td>\n",
              "      <td>국민임대</td>\n",
              "      <td>54.95</td>\n",
              "      <td>19</td>\n",
              "      <td>7</td>\n",
              "      <td>A</td>\n",
              "      <td>14830000</td>\n",
              "      <td>151030</td>\n",
              "      <td>0.0</td>\n",
              "      <td>1</td>\n",
              "      <td>166</td>\n",
              "      <td>146</td>\n",
              "      <td>239</td>\n",
              "      <td>0</td>\n",
              "    </tr>\n",
              "  </tbody>\n",
              "</table>\n",
              "</div>"
            ],
            "text/plain": [
              "       단지코드  총세대수 임대건물구분   지역  공급유형   전용면적  ...  지하철  버스 단지내주차면수 등록차량수  ssd  dif\n",
              "2866  C2532   239    아파트  강원도  국민임대  51.73  ...  0.0   1     166   146  239    0\n",
              "2867  C2532   239    아파트  강원도  국민임대  51.96  ...  0.0   1     166   146  239    0\n",
              "2868  C2532   239    아파트  강원도  국민임대  54.95  ...  0.0   1     166   146  239    0\n",
              "\n",
              "[3 rows x 17 columns]"
            ]
          },
          "metadata": {
            "tags": []
          },
          "execution_count": 8
        }
      ]
    },
    {
      "cell_type": "code",
      "metadata": {
        "colab": {
          "base_uri": "https://localhost:8080/"
        },
        "id": "EMcXKwEiMNMw",
        "outputId": "55c601cc-5374-4880-8ae2-2f719960decc"
      },
      "source": [
        "# 총세대 수와 실질세대수가 다른 단지 확인 \n",
        "# 실질세대수 차이\n",
        "train2.groupby(train2.dif).단지코드.unique()"
      ],
      "execution_count": 9,
      "outputs": [
        {
          "output_type": "execute_result",
          "data": {
            "text/plain": [
              "dif\n",
              "0      [C2515, C1407, C1945, C1470, C1898, C1244, C11...\n",
              "1      [C1925, C1312, C2013, C1424, C2319, C1068, C26...\n",
              "2                           [C2568, C2245, C2549, C1732]\n",
              "3                    [C1850, C1695, C2556, C2298, C2433]\n",
              "4                                                [C1910]\n",
              "5                                         [C2139, C2508]\n",
              "6                                         [C2225, C1156]\n",
              "7                                                [C1584]\n",
              "8                                         [C2142, C2186]\n",
              "9                                                [C2362]\n",
              "10                                               [C2520]\n",
              "14                                               [C1970]\n",
              "94                                               [C1490]\n",
              "123                                              [C2620]\n",
              "124                                              [C1344]\n",
              "203                                              [C1024]\n",
              "230                                              [C2470]\n",
              "267                                              [C1206]\n",
              "316                                       [C1740, C2405]\n",
              "452                                              [C1804]\n",
              "Name: 단지코드, dtype: object"
            ]
          },
          "metadata": {
            "tags": []
          },
          "execution_count": 9
        }
      ]
    },
    {
      "cell_type": "code",
      "metadata": {
        "colab": {
          "base_uri": "https://localhost:8080/",
          "height": 142
        },
        "id": "FFI8DKgKVBjz",
        "outputId": "c65c542b-c380-4a33-b915-08224566ac52"
      },
      "source": [
        "# test2도 똑같은 프로세스\n",
        "# 지하철 수 NULL값 처리: 모두 0 (직접 실제 아파트와 비교)\n",
        "test2.지하철 = test2.지하철.fillna(0)\n",
        "test2.tail(3)"
      ],
      "execution_count": 10,
      "outputs": [
        {
          "output_type": "execute_result",
          "data": {
            "text/html": [
              "<div>\n",
              "<style scoped>\n",
              "    .dataframe tbody tr th:only-of-type {\n",
              "        vertical-align: middle;\n",
              "    }\n",
              "\n",
              "    .dataframe tbody tr th {\n",
              "        vertical-align: top;\n",
              "    }\n",
              "\n",
              "    .dataframe thead th {\n",
              "        text-align: right;\n",
              "    }\n",
              "</style>\n",
              "<table border=\"1\" class=\"dataframe\">\n",
              "  <thead>\n",
              "    <tr style=\"text-align: right;\">\n",
              "      <th></th>\n",
              "      <th>단지코드</th>\n",
              "      <th>총세대수</th>\n",
              "      <th>임대건물구분</th>\n",
              "      <th>지역</th>\n",
              "      <th>공급유형</th>\n",
              "      <th>전용면적</th>\n",
              "      <th>전용면적별세대수</th>\n",
              "      <th>공가수</th>\n",
              "      <th>자격유형</th>\n",
              "      <th>임대보증금</th>\n",
              "      <th>임대료</th>\n",
              "      <th>지하철</th>\n",
              "      <th>버스</th>\n",
              "      <th>단지내주차면수</th>\n",
              "    </tr>\n",
              "  </thead>\n",
              "  <tbody>\n",
              "    <tr>\n",
              "      <th>1005</th>\n",
              "      <td>C2189</td>\n",
              "      <td>382</td>\n",
              "      <td>아파트</td>\n",
              "      <td>전라북도</td>\n",
              "      <td>국민임대</td>\n",
              "      <td>29.19</td>\n",
              "      <td>20</td>\n",
              "      <td>45</td>\n",
              "      <td>H</td>\n",
              "      <td>6872000</td>\n",
              "      <td>106400</td>\n",
              "      <td>0.0</td>\n",
              "      <td>2</td>\n",
              "      <td>300</td>\n",
              "    </tr>\n",
              "    <tr>\n",
              "      <th>1006</th>\n",
              "      <td>C2189</td>\n",
              "      <td>382</td>\n",
              "      <td>아파트</td>\n",
              "      <td>전라북도</td>\n",
              "      <td>국민임대</td>\n",
              "      <td>39.45</td>\n",
              "      <td>202</td>\n",
              "      <td>45</td>\n",
              "      <td>H</td>\n",
              "      <td>13410000</td>\n",
              "      <td>144600</td>\n",
              "      <td>0.0</td>\n",
              "      <td>2</td>\n",
              "      <td>300</td>\n",
              "    </tr>\n",
              "    <tr>\n",
              "      <th>1007</th>\n",
              "      <td>C2189</td>\n",
              "      <td>382</td>\n",
              "      <td>아파트</td>\n",
              "      <td>전라북도</td>\n",
              "      <td>국민임대</td>\n",
              "      <td>46.23</td>\n",
              "      <td>60</td>\n",
              "      <td>45</td>\n",
              "      <td>H</td>\n",
              "      <td>18689000</td>\n",
              "      <td>166500</td>\n",
              "      <td>0.0</td>\n",
              "      <td>2</td>\n",
              "      <td>300</td>\n",
              "    </tr>\n",
              "  </tbody>\n",
              "</table>\n",
              "</div>"
            ],
            "text/plain": [
              "       단지코드  총세대수 임대건물구분    지역  공급유형  ...     임대보증금     임대료  지하철 버스 단지내주차면수\n",
              "1005  C2189   382    아파트  전라북도  국민임대  ...   6872000  106400  0.0  2     300\n",
              "1006  C2189   382    아파트  전라북도  국민임대  ...  13410000  144600  0.0  2     300\n",
              "1007  C2189   382    아파트  전라북도  국민임대  ...  18689000  166500  0.0  2     300\n",
              "\n",
              "[3 rows x 14 columns]"
            ]
          },
          "metadata": {
            "tags": []
          },
          "execution_count": 10
        }
      ]
    },
    {
      "cell_type": "code",
      "metadata": {
        "colab": {
          "base_uri": "https://localhost:8080/"
        },
        "id": "iO4RZraBWhE3",
        "outputId": "27ed15ef-cb9c-45a7-c720-cb535667a738"
      },
      "source": [
        "uni_all = test2.단지코드.unique()  #unique한 단지코드만 추출\n",
        "len(uni_all)"
      ],
      "execution_count": 11,
      "outputs": [
        {
          "output_type": "execute_result",
          "data": {
            "text/plain": [
              "147"
            ]
          },
          "metadata": {
            "tags": []
          },
          "execution_count": 11
        }
      ]
    },
    {
      "cell_type": "code",
      "metadata": {
        "colab": {
          "base_uri": "https://localhost:8080/",
          "height": 142
        },
        "id": "Kpg2hMVPWrvE",
        "outputId": "52143723-6f30-4722-a1dc-06b8a6d6bac2"
      },
      "source": [
        "#실질세대수 변수 추가(총 세대수 삭제 안함, 추후 불필요할 시 삭제)\n",
        "test2 = test2.set_index('단지코드')\n",
        "test2['ssd'] = test2.groupby('단지코드')['전용면적별세대수'].sum()\n",
        "test2['dif'] = test2.총세대수 - test2.ssd\n",
        "test2 = test2.reset_index()\n",
        "test2.tail(3) "
      ],
      "execution_count": 12,
      "outputs": [
        {
          "output_type": "execute_result",
          "data": {
            "text/html": [
              "<div>\n",
              "<style scoped>\n",
              "    .dataframe tbody tr th:only-of-type {\n",
              "        vertical-align: middle;\n",
              "    }\n",
              "\n",
              "    .dataframe tbody tr th {\n",
              "        vertical-align: top;\n",
              "    }\n",
              "\n",
              "    .dataframe thead th {\n",
              "        text-align: right;\n",
              "    }\n",
              "</style>\n",
              "<table border=\"1\" class=\"dataframe\">\n",
              "  <thead>\n",
              "    <tr style=\"text-align: right;\">\n",
              "      <th></th>\n",
              "      <th>단지코드</th>\n",
              "      <th>총세대수</th>\n",
              "      <th>임대건물구분</th>\n",
              "      <th>지역</th>\n",
              "      <th>공급유형</th>\n",
              "      <th>전용면적</th>\n",
              "      <th>전용면적별세대수</th>\n",
              "      <th>공가수</th>\n",
              "      <th>자격유형</th>\n",
              "      <th>임대보증금</th>\n",
              "      <th>임대료</th>\n",
              "      <th>지하철</th>\n",
              "      <th>버스</th>\n",
              "      <th>단지내주차면수</th>\n",
              "      <th>ssd</th>\n",
              "      <th>dif</th>\n",
              "    </tr>\n",
              "  </thead>\n",
              "  <tbody>\n",
              "    <tr>\n",
              "      <th>1005</th>\n",
              "      <td>C2189</td>\n",
              "      <td>382</td>\n",
              "      <td>아파트</td>\n",
              "      <td>전라북도</td>\n",
              "      <td>국민임대</td>\n",
              "      <td>29.19</td>\n",
              "      <td>20</td>\n",
              "      <td>45</td>\n",
              "      <td>H</td>\n",
              "      <td>6872000</td>\n",
              "      <td>106400</td>\n",
              "      <td>0.0</td>\n",
              "      <td>2</td>\n",
              "      <td>300</td>\n",
              "      <td>378</td>\n",
              "      <td>4</td>\n",
              "    </tr>\n",
              "    <tr>\n",
              "      <th>1006</th>\n",
              "      <td>C2189</td>\n",
              "      <td>382</td>\n",
              "      <td>아파트</td>\n",
              "      <td>전라북도</td>\n",
              "      <td>국민임대</td>\n",
              "      <td>39.45</td>\n",
              "      <td>202</td>\n",
              "      <td>45</td>\n",
              "      <td>H</td>\n",
              "      <td>13410000</td>\n",
              "      <td>144600</td>\n",
              "      <td>0.0</td>\n",
              "      <td>2</td>\n",
              "      <td>300</td>\n",
              "      <td>378</td>\n",
              "      <td>4</td>\n",
              "    </tr>\n",
              "    <tr>\n",
              "      <th>1007</th>\n",
              "      <td>C2189</td>\n",
              "      <td>382</td>\n",
              "      <td>아파트</td>\n",
              "      <td>전라북도</td>\n",
              "      <td>국민임대</td>\n",
              "      <td>46.23</td>\n",
              "      <td>60</td>\n",
              "      <td>45</td>\n",
              "      <td>H</td>\n",
              "      <td>18689000</td>\n",
              "      <td>166500</td>\n",
              "      <td>0.0</td>\n",
              "      <td>2</td>\n",
              "      <td>300</td>\n",
              "      <td>378</td>\n",
              "      <td>4</td>\n",
              "    </tr>\n",
              "  </tbody>\n",
              "</table>\n",
              "</div>"
            ],
            "text/plain": [
              "       단지코드  총세대수 임대건물구분    지역  공급유형   전용면적  ...     임대료  지하철 버스 단지내주차면수  ssd  dif\n",
              "1005  C2189   382    아파트  전라북도  국민임대  29.19  ...  106400  0.0  2     300  378    4\n",
              "1006  C2189   382    아파트  전라북도  국민임대  39.45  ...  144600  0.0  2     300  378    4\n",
              "1007  C2189   382    아파트  전라북도  국민임대  46.23  ...  166500  0.0  2     300  378    4\n",
              "\n",
              "[3 rows x 16 columns]"
            ]
          },
          "metadata": {
            "tags": []
          },
          "execution_count": 12
        }
      ]
    },
    {
      "cell_type": "code",
      "metadata": {
        "colab": {
          "base_uri": "https://localhost:8080/"
        },
        "id": "FnSGLWe8WxDa",
        "outputId": "3d2eedce-0c37-4d10-ce85-24924d0d2d11"
      },
      "source": [
        "# 총세대 수와 실질세대수가 다른 단지 확인 \n",
        "# 실질세대수 차이\n",
        "test2.groupby(test2.dif).단지코드.unique()"
      ],
      "execution_count": 13,
      "outputs": [
        {
          "output_type": "execute_result",
          "data": {
            "text/plain": [
              "dif\n",
              "0      [C1072, C1128, C1456, C1840, C1332, C1563, C17...\n",
              "1                                                [C2411]\n",
              "2                                                [C1683]\n",
              "3                                  [C1229, C1414, C2456]\n",
              "4                                         [C1038, C2189]\n",
              "5                           [C1030, C1349, C1266, C1267]\n",
              "8                                  [C1749, C2363, C2174]\n",
              "9                                                [C2043]\n",
              "12                                               [C1812]\n",
              "14                                               [C2404]\n",
              "122                                              [C2497]\n",
              "Name: 단지코드, dtype: object"
            ]
          },
          "metadata": {
            "tags": []
          },
          "execution_count": 13
        }
      ]
    },
    {
      "cell_type": "code",
      "metadata": {
        "colab": {
          "base_uri": "https://localhost:8080/",
          "height": 430
        },
        "id": "0DoMdI1NW16O",
        "outputId": "63c27c5d-7353-4a9e-ba89-575cc5a4eb2e"
      },
      "source": [
        "# 임대가 있는 아파트 단지 찾기\n",
        "임대상가 = train2.loc[train2.공급유형 == \"임대상가\"]\n",
        "임대단지코드 = 임대상가.단지코드.unique()\n",
        "임대상가아파트 = train2.loc[train2.단지코드.isin(임대단지코드)]\n",
        "임대상가아파트.head(3)"
      ],
      "execution_count": 14,
      "outputs": [
        {
          "output_type": "execute_result",
          "data": {
            "text/html": [
              "<div>\n",
              "<style scoped>\n",
              "    .dataframe tbody tr th:only-of-type {\n",
              "        vertical-align: middle;\n",
              "    }\n",
              "\n",
              "    .dataframe tbody tr th {\n",
              "        vertical-align: top;\n",
              "    }\n",
              "\n",
              "    .dataframe thead th {\n",
              "        text-align: right;\n",
              "    }\n",
              "</style>\n",
              "<table border=\"1\" class=\"dataframe\">\n",
              "  <thead>\n",
              "    <tr style=\"text-align: right;\">\n",
              "      <th></th>\n",
              "      <th>단지코드</th>\n",
              "      <th>총세대수</th>\n",
              "      <th>임대건물구분</th>\n",
              "      <th>지역</th>\n",
              "      <th>공급유형</th>\n",
              "      <th>전용면적</th>\n",
              "      <th>전용면적별세대수</th>\n",
              "      <th>공가수</th>\n",
              "      <th>자격유형</th>\n",
              "      <th>임대보증금</th>\n",
              "      <th>임대료</th>\n",
              "      <th>지하철</th>\n",
              "      <th>버스</th>\n",
              "      <th>단지내주차면수</th>\n",
              "      <th>등록차량수</th>\n",
              "      <th>ssd</th>\n",
              "      <th>dif</th>\n",
              "    </tr>\n",
              "  </thead>\n",
              "  <tbody>\n",
              "    <tr>\n",
              "      <th>78</th>\n",
              "      <td>C1925</td>\n",
              "      <td>601</td>\n",
              "      <td>아파트</td>\n",
              "      <td>강원도</td>\n",
              "      <td>영구임대</td>\n",
              "      <td>26.37</td>\n",
              "      <td>298</td>\n",
              "      <td>9</td>\n",
              "      <td>C</td>\n",
              "      <td>8052000</td>\n",
              "      <td>130850</td>\n",
              "      <td>0.0</td>\n",
              "      <td>4</td>\n",
              "      <td>117</td>\n",
              "      <td>75</td>\n",
              "      <td>600</td>\n",
              "      <td>1</td>\n",
              "    </tr>\n",
              "    <tr>\n",
              "      <th>79</th>\n",
              "      <td>C1925</td>\n",
              "      <td>601</td>\n",
              "      <td>아파트</td>\n",
              "      <td>강원도</td>\n",
              "      <td>영구임대</td>\n",
              "      <td>31.32</td>\n",
              "      <td>298</td>\n",
              "      <td>9</td>\n",
              "      <td>C</td>\n",
              "      <td>9174000</td>\n",
              "      <td>144460</td>\n",
              "      <td>0.0</td>\n",
              "      <td>4</td>\n",
              "      <td>117</td>\n",
              "      <td>75</td>\n",
              "      <td>600</td>\n",
              "      <td>1</td>\n",
              "    </tr>\n",
              "    <tr>\n",
              "      <th>80</th>\n",
              "      <td>C1925</td>\n",
              "      <td>601</td>\n",
              "      <td>상가</td>\n",
              "      <td>강원도</td>\n",
              "      <td>임대상가</td>\n",
              "      <td>32.10</td>\n",
              "      <td>1</td>\n",
              "      <td>9</td>\n",
              "      <td>D</td>\n",
              "      <td>NaN</td>\n",
              "      <td>NaN</td>\n",
              "      <td>0.0</td>\n",
              "      <td>4</td>\n",
              "      <td>117</td>\n",
              "      <td>75</td>\n",
              "      <td>600</td>\n",
              "      <td>1</td>\n",
              "    </tr>\n",
              "  </tbody>\n",
              "</table>\n",
              "</div>"
            ],
            "text/plain": [
              "     단지코드  총세대수 임대건물구분   지역  공급유형   전용면적  ...  지하철  버스 단지내주차면수 등록차량수  ssd  dif\n",
              "78  C1925   601    아파트  강원도  영구임대  26.37  ...  0.0   4     117    75  600    1\n",
              "79  C1925   601    아파트  강원도  영구임대  31.32  ...  0.0   4     117    75  600    1\n",
              "80  C1925   601     상가  강원도  임대상가  32.10  ...  0.0   4     117    75  600    1\n",
              "\n",
              "[3 rows x 17 columns]"
            ]
          },
          "metadata": {
            "tags": []
          },
          "execution_count": 14
        }
      ]
    },
    {
      "cell_type": "code",
      "metadata": {
        "colab": {
          "base_uri": "https://localhost:8080/"
        },
        "id": "p40QAA3-XVnG",
        "outputId": "9e966dd5-99ca-4155-917d-6d322fc7fc43"
      },
      "source": [
        "# 임대상가가 있는 아파트 유형 확인\n",
        "임대상가아파트.groupby(임대상가아파트.단지코드).공급유형.unique() # 33개 단지코드"
      ],
      "execution_count": 15,
      "outputs": [
        {
          "output_type": "execute_result",
          "data": {
            "text/plain": [
              "단지코드\n",
              "C1004               [영구임대, 임대상가]\n",
              "C1056               [영구임대, 임대상가]\n",
              "C1109               [영구임대, 임대상가]\n",
              "C1206               [영구임대, 임대상가]\n",
              "C1439               [영구임대, 임대상가]\n",
              "C1476               [영구임대, 임대상가]\n",
              "C1616               [영구임대, 임대상가]\n",
              "C1698               [영구임대, 임대상가]\n",
              "C1704               [영구임대, 임대상가]\n",
              "C1722    [공공임대(50년), 영구임대, 임대상가]\n",
              "C1775               [영구임대, 임대상가]\n",
              "C1790               [영구임대, 임대상가]\n",
              "C1859               [영구임대, 임대상가]\n",
              "C1874               [영구임대, 임대상가]\n",
              "C1875               [영구임대, 임대상가]\n",
              "C1899               [영구임대, 임대상가]\n",
              "C1925               [영구임대, 임대상가]\n",
              "C1983    [공공임대(50년), 영구임대, 임대상가]\n",
              "C2034               [영구임대, 임대상가]\n",
              "C2038               [영구임대, 임대상가]\n",
              "C2109               [영구임대, 임대상가]\n",
              "C2132               [영구임대, 임대상가]\n",
              "C2135               [영구임대, 임대상가]\n",
              "C2190               [영구임대, 임대상가]\n",
              "C2212               [영구임대, 임대상가]\n",
              "C2258               [영구임대, 임대상가]\n",
              "C2289               [영구임대, 임대상가]\n",
              "C2310               [영구임대, 임대상가]\n",
              "C2416               [영구임대, 임대상가]\n",
              "C2571               [영구임대, 임대상가]\n",
              "C2597               [영구임대, 임대상가]\n",
              "C2621               [영구임대, 임대상가]\n",
              "C2644    [공공임대(50년), 영구임대, 임대상가]\n",
              "Name: 공급유형, dtype: object"
            ]
          },
          "metadata": {
            "tags": []
          },
          "execution_count": 15
        }
      ]
    },
    {
      "cell_type": "code",
      "metadata": {
        "colab": {
          "base_uri": "https://localhost:8080/",
          "height": 142
        },
        "id": "XeNuBDEOXZ97",
        "outputId": "8a69fee0-16d8-45e2-abaf-2acd6280fb1c"
      },
      "source": [
        "# 임대상가 갯수 변수 만들기\n",
        "temp = 임대상가아파트.groupby(임대상가아파트.단지코드)\n",
        "단지별임대 = temp.공급유형.value_counts()[:,'임대상가']\n",
        "단지별임대 = 단지별임대.reset_index('단지코드')\n",
        "단지별임대.rename(columns = {\"공급유형\" : \"rent_mall\"}, inplace = True)\n",
        "단지별임대.head(3)\n"
      ],
      "execution_count": 16,
      "outputs": [
        {
          "output_type": "execute_result",
          "data": {
            "text/html": [
              "<div>\n",
              "<style scoped>\n",
              "    .dataframe tbody tr th:only-of-type {\n",
              "        vertical-align: middle;\n",
              "    }\n",
              "\n",
              "    .dataframe tbody tr th {\n",
              "        vertical-align: top;\n",
              "    }\n",
              "\n",
              "    .dataframe thead th {\n",
              "        text-align: right;\n",
              "    }\n",
              "</style>\n",
              "<table border=\"1\" class=\"dataframe\">\n",
              "  <thead>\n",
              "    <tr style=\"text-align: right;\">\n",
              "      <th></th>\n",
              "      <th>단지코드</th>\n",
              "      <th>rent_mall</th>\n",
              "    </tr>\n",
              "  </thead>\n",
              "  <tbody>\n",
              "    <tr>\n",
              "      <th>0</th>\n",
              "      <td>C1004</td>\n",
              "      <td>17</td>\n",
              "    </tr>\n",
              "    <tr>\n",
              "      <th>1</th>\n",
              "      <td>C1056</td>\n",
              "      <td>10</td>\n",
              "    </tr>\n",
              "    <tr>\n",
              "      <th>2</th>\n",
              "      <td>C1109</td>\n",
              "      <td>20</td>\n",
              "    </tr>\n",
              "  </tbody>\n",
              "</table>\n",
              "</div>"
            ],
            "text/plain": [
              "    단지코드  rent_mall\n",
              "0  C1004         17\n",
              "1  C1056         10\n",
              "2  C1109         20"
            ]
          },
          "metadata": {
            "tags": []
          },
          "execution_count": 16
        }
      ]
    },
    {
      "cell_type": "code",
      "metadata": {
        "colab": {
          "base_uri": "https://localhost:8080/",
          "height": 518
        },
        "id": "TW8QgT00arbB",
        "outputId": "3caa5cb4-4704-457a-91de-f8605db3cb6d"
      },
      "source": [
        "train3 = pd.merge(train2, 단지별임대, on='단지코드',how='left') #임대상가가 있으면 단지별임대값을 넣음\n",
        "train3.rent_mall[train3.rent_mall.isnull()] = 0 #임대상가가 없으면 0 넣음.\n",
        "train3.head(3)"
      ],
      "execution_count": 17,
      "outputs": [
        {
          "output_type": "stream",
          "text": [
            "/usr/local/lib/python3.7/dist-packages/ipykernel_launcher.py:2: SettingWithCopyWarning: \n",
            "A value is trying to be set on a copy of a slice from a DataFrame\n",
            "\n",
            "See the caveats in the documentation: https://pandas.pydata.org/pandas-docs/stable/user_guide/indexing.html#returning-a-view-versus-a-copy\n",
            "  \n"
          ],
          "name": "stderr"
        },
        {
          "output_type": "execute_result",
          "data": {
            "text/html": [
              "<div>\n",
              "<style scoped>\n",
              "    .dataframe tbody tr th:only-of-type {\n",
              "        vertical-align: middle;\n",
              "    }\n",
              "\n",
              "    .dataframe tbody tr th {\n",
              "        vertical-align: top;\n",
              "    }\n",
              "\n",
              "    .dataframe thead th {\n",
              "        text-align: right;\n",
              "    }\n",
              "</style>\n",
              "<table border=\"1\" class=\"dataframe\">\n",
              "  <thead>\n",
              "    <tr style=\"text-align: right;\">\n",
              "      <th></th>\n",
              "      <th>단지코드</th>\n",
              "      <th>총세대수</th>\n",
              "      <th>임대건물구분</th>\n",
              "      <th>지역</th>\n",
              "      <th>공급유형</th>\n",
              "      <th>전용면적</th>\n",
              "      <th>전용면적별세대수</th>\n",
              "      <th>공가수</th>\n",
              "      <th>자격유형</th>\n",
              "      <th>임대보증금</th>\n",
              "      <th>임대료</th>\n",
              "      <th>지하철</th>\n",
              "      <th>버스</th>\n",
              "      <th>단지내주차면수</th>\n",
              "      <th>등록차량수</th>\n",
              "      <th>ssd</th>\n",
              "      <th>dif</th>\n",
              "      <th>rent_mall</th>\n",
              "    </tr>\n",
              "  </thead>\n",
              "  <tbody>\n",
              "    <tr>\n",
              "      <th>0</th>\n",
              "      <td>C2515</td>\n",
              "      <td>545</td>\n",
              "      <td>아파트</td>\n",
              "      <td>경상남도</td>\n",
              "      <td>국민임대</td>\n",
              "      <td>33.48</td>\n",
              "      <td>276</td>\n",
              "      <td>17</td>\n",
              "      <td>A</td>\n",
              "      <td>9216000</td>\n",
              "      <td>82940</td>\n",
              "      <td>0.0</td>\n",
              "      <td>3</td>\n",
              "      <td>624</td>\n",
              "      <td>205</td>\n",
              "      <td>545</td>\n",
              "      <td>0</td>\n",
              "      <td>0.0</td>\n",
              "    </tr>\n",
              "    <tr>\n",
              "      <th>1</th>\n",
              "      <td>C2515</td>\n",
              "      <td>545</td>\n",
              "      <td>아파트</td>\n",
              "      <td>경상남도</td>\n",
              "      <td>국민임대</td>\n",
              "      <td>39.60</td>\n",
              "      <td>60</td>\n",
              "      <td>17</td>\n",
              "      <td>A</td>\n",
              "      <td>12672000</td>\n",
              "      <td>107130</td>\n",
              "      <td>0.0</td>\n",
              "      <td>3</td>\n",
              "      <td>624</td>\n",
              "      <td>205</td>\n",
              "      <td>545</td>\n",
              "      <td>0</td>\n",
              "      <td>0.0</td>\n",
              "    </tr>\n",
              "    <tr>\n",
              "      <th>2</th>\n",
              "      <td>C2515</td>\n",
              "      <td>545</td>\n",
              "      <td>아파트</td>\n",
              "      <td>경상남도</td>\n",
              "      <td>국민임대</td>\n",
              "      <td>39.60</td>\n",
              "      <td>20</td>\n",
              "      <td>17</td>\n",
              "      <td>A</td>\n",
              "      <td>12672000</td>\n",
              "      <td>107130</td>\n",
              "      <td>0.0</td>\n",
              "      <td>3</td>\n",
              "      <td>624</td>\n",
              "      <td>205</td>\n",
              "      <td>545</td>\n",
              "      <td>0</td>\n",
              "      <td>0.0</td>\n",
              "    </tr>\n",
              "  </tbody>\n",
              "</table>\n",
              "</div>"
            ],
            "text/plain": [
              "    단지코드  총세대수 임대건물구분    지역  공급유형  ...  단지내주차면수  등록차량수  ssd dif rent_mall\n",
              "0  C2515   545    아파트  경상남도  국민임대  ...      624    205  545   0       0.0\n",
              "1  C2515   545    아파트  경상남도  국민임대  ...      624    205  545   0       0.0\n",
              "2  C2515   545    아파트  경상남도  국민임대  ...      624    205  545   0       0.0\n",
              "\n",
              "[3 rows x 18 columns]"
            ]
          },
          "metadata": {
            "tags": []
          },
          "execution_count": 17
        }
      ]
    },
    {
      "cell_type": "code",
      "metadata": {
        "colab": {
          "base_uri": "https://localhost:8080/",
          "height": 481
        },
        "id": "tZf3G4rk8VT8",
        "outputId": "d17535fa-fae1-4cf6-ad83-391ffab6aa6f"
      },
      "source": [
        "# test 적용\n",
        "# 임대가 같이 있는지?\n",
        "임대상가 = test2.loc[test2.공급유형 == \"임대상가\"]\n",
        "임대단지코드 = 임대상가.단지코드.unique()\n",
        "임대상가아파트 = test2.loc[test2.단지코드.isin(임대단지코드)]\n",
        "임대상가아파트.head(3)"
      ],
      "execution_count": 18,
      "outputs": [
        {
          "output_type": "execute_result",
          "data": {
            "text/html": [
              "<div>\n",
              "<style scoped>\n",
              "    .dataframe tbody tr th:only-of-type {\n",
              "        vertical-align: middle;\n",
              "    }\n",
              "\n",
              "    .dataframe tbody tr th {\n",
              "        vertical-align: top;\n",
              "    }\n",
              "\n",
              "    .dataframe thead th {\n",
              "        text-align: right;\n",
              "    }\n",
              "</style>\n",
              "<table border=\"1\" class=\"dataframe\">\n",
              "  <thead>\n",
              "    <tr style=\"text-align: right;\">\n",
              "      <th></th>\n",
              "      <th>단지코드</th>\n",
              "      <th>총세대수</th>\n",
              "      <th>임대건물구분</th>\n",
              "      <th>지역</th>\n",
              "      <th>공급유형</th>\n",
              "      <th>전용면적</th>\n",
              "      <th>전용면적별세대수</th>\n",
              "      <th>공가수</th>\n",
              "      <th>자격유형</th>\n",
              "      <th>임대보증금</th>\n",
              "      <th>임대료</th>\n",
              "      <th>지하철</th>\n",
              "      <th>버스</th>\n",
              "      <th>단지내주차면수</th>\n",
              "      <th>ssd</th>\n",
              "      <th>dif</th>\n",
              "    </tr>\n",
              "  </thead>\n",
              "  <tbody>\n",
              "    <tr>\n",
              "      <th>73</th>\n",
              "      <td>C1006</td>\n",
              "      <td>1505</td>\n",
              "      <td>아파트</td>\n",
              "      <td>대전광역시</td>\n",
              "      <td>영구임대</td>\n",
              "      <td>26.37</td>\n",
              "      <td>358</td>\n",
              "      <td>27</td>\n",
              "      <td>C</td>\n",
              "      <td>5787000</td>\n",
              "      <td>79980</td>\n",
              "      <td>2.0</td>\n",
              "      <td>5</td>\n",
              "      <td>428</td>\n",
              "      <td>1505</td>\n",
              "      <td>0</td>\n",
              "    </tr>\n",
              "    <tr>\n",
              "      <th>74</th>\n",
              "      <td>C1006</td>\n",
              "      <td>1505</td>\n",
              "      <td>아파트</td>\n",
              "      <td>대전광역시</td>\n",
              "      <td>영구임대</td>\n",
              "      <td>26.37</td>\n",
              "      <td>229</td>\n",
              "      <td>27</td>\n",
              "      <td>C</td>\n",
              "      <td>5787000</td>\n",
              "      <td>79980</td>\n",
              "      <td>2.0</td>\n",
              "      <td>5</td>\n",
              "      <td>428</td>\n",
              "      <td>1505</td>\n",
              "      <td>0</td>\n",
              "    </tr>\n",
              "    <tr>\n",
              "      <th>75</th>\n",
              "      <td>C1006</td>\n",
              "      <td>1505</td>\n",
              "      <td>아파트</td>\n",
              "      <td>대전광역시</td>\n",
              "      <td>영구임대</td>\n",
              "      <td>26.37</td>\n",
              "      <td>574</td>\n",
              "      <td>27</td>\n",
              "      <td>C</td>\n",
              "      <td>5787000</td>\n",
              "      <td>79980</td>\n",
              "      <td>2.0</td>\n",
              "      <td>5</td>\n",
              "      <td>428</td>\n",
              "      <td>1505</td>\n",
              "      <td>0</td>\n",
              "    </tr>\n",
              "  </tbody>\n",
              "</table>\n",
              "</div>"
            ],
            "text/plain": [
              "     단지코드  총세대수 임대건물구분     지역  공급유형   전용면적  ...    임대료  지하철 버스 단지내주차면수   ssd  dif\n",
              "73  C1006  1505    아파트  대전광역시  영구임대  26.37  ...  79980  2.0  5     428  1505    0\n",
              "74  C1006  1505    아파트  대전광역시  영구임대  26.37  ...  79980  2.0  5     428  1505    0\n",
              "75  C1006  1505    아파트  대전광역시  영구임대  26.37  ...  79980  2.0  5     428  1505    0\n",
              "\n",
              "[3 rows x 16 columns]"
            ]
          },
          "metadata": {
            "tags": []
          },
          "execution_count": 18
        }
      ]
    },
    {
      "cell_type": "code",
      "metadata": {
        "colab": {
          "base_uri": "https://localhost:8080/"
        },
        "id": "5TAAlpBJ8jnN",
        "outputId": "71c4e3b0-d1cd-4afa-8d86-556165e92f7c"
      },
      "source": [
        "# 임대상가가 있는 아파트 유형 확인\n",
        "임대상가아파트.groupby(임대상가아파트.단지코드).공급유형.unique() # 7개 단지코드"
      ],
      "execution_count": 19,
      "outputs": [
        {
          "output_type": "execute_result",
          "data": {
            "text/plain": [
              "단지코드\n",
              "C1006    [영구임대, 임대상가]\n",
              "C1729    [영구임대, 임대상가]\n",
              "C1812    [영구임대, 임대상가]\n",
              "C2033    [영구임대, 임대상가]\n",
              "C2177    [영구임대, 임대상가]\n",
              "C2253    [영구임대, 임대상가]\n",
              "C2676    [영구임대, 임대상가]\n",
              "Name: 공급유형, dtype: object"
            ]
          },
          "metadata": {
            "tags": []
          },
          "execution_count": 19
        }
      ]
    },
    {
      "cell_type": "code",
      "metadata": {
        "colab": {
          "base_uri": "https://localhost:8080/",
          "height": 142
        },
        "id": "qO9YpLiZ8jpM",
        "outputId": "42fd7a21-a4de-4300-cec7-9d65bc7a2410"
      },
      "source": [
        "# 임대상가 갯수 변수 만들기\n",
        "temp = 임대상가아파트.groupby(임대상가아파트.단지코드)\n",
        "단지별임대 = temp.공급유형.value_counts()[:,'임대상가']\n",
        "단지별임대 = 단지별임대.reset_index('단지코드')\n",
        "단지별임대.rename(columns = {\"공급유형\" : \"rent_mall\"}, inplace = True)\n",
        "단지별임대.head(3)"
      ],
      "execution_count": 20,
      "outputs": [
        {
          "output_type": "execute_result",
          "data": {
            "text/html": [
              "<div>\n",
              "<style scoped>\n",
              "    .dataframe tbody tr th:only-of-type {\n",
              "        vertical-align: middle;\n",
              "    }\n",
              "\n",
              "    .dataframe tbody tr th {\n",
              "        vertical-align: top;\n",
              "    }\n",
              "\n",
              "    .dataframe thead th {\n",
              "        text-align: right;\n",
              "    }\n",
              "</style>\n",
              "<table border=\"1\" class=\"dataframe\">\n",
              "  <thead>\n",
              "    <tr style=\"text-align: right;\">\n",
              "      <th></th>\n",
              "      <th>단지코드</th>\n",
              "      <th>rent_mall</th>\n",
              "    </tr>\n",
              "  </thead>\n",
              "  <tbody>\n",
              "    <tr>\n",
              "      <th>0</th>\n",
              "      <td>C1006</td>\n",
              "      <td>20</td>\n",
              "    </tr>\n",
              "    <tr>\n",
              "      <th>1</th>\n",
              "      <td>C1729</td>\n",
              "      <td>17</td>\n",
              "    </tr>\n",
              "    <tr>\n",
              "      <th>2</th>\n",
              "      <td>C1812</td>\n",
              "      <td>25</td>\n",
              "    </tr>\n",
              "  </tbody>\n",
              "</table>\n",
              "</div>"
            ],
            "text/plain": [
              "    단지코드  rent_mall\n",
              "0  C1006         20\n",
              "1  C1729         17\n",
              "2  C1812         25"
            ]
          },
          "metadata": {
            "tags": []
          },
          "execution_count": 20
        }
      ]
    },
    {
      "cell_type": "code",
      "metadata": {
        "colab": {
          "base_uri": "https://localhost:8080/",
          "height": 518
        },
        "id": "sy9mcQDX8jt0",
        "outputId": "975574b7-3376-4c6b-a06b-5c4c06cb5ecd"
      },
      "source": [
        "test3 = pd.merge(test2, 단지별임대, on='단지코드',how='left') #임대상가가 있으면 단지별임대값을 넣음\n",
        "test3.rent_mall[test3.rent_mall.isnull()] = 0 #임대상가가 없으면 0 넣음.\n",
        "test3.head(3)"
      ],
      "execution_count": 21,
      "outputs": [
        {
          "output_type": "stream",
          "text": [
            "/usr/local/lib/python3.7/dist-packages/ipykernel_launcher.py:2: SettingWithCopyWarning: \n",
            "A value is trying to be set on a copy of a slice from a DataFrame\n",
            "\n",
            "See the caveats in the documentation: https://pandas.pydata.org/pandas-docs/stable/user_guide/indexing.html#returning-a-view-versus-a-copy\n",
            "  \n"
          ],
          "name": "stderr"
        },
        {
          "output_type": "execute_result",
          "data": {
            "text/html": [
              "<div>\n",
              "<style scoped>\n",
              "    .dataframe tbody tr th:only-of-type {\n",
              "        vertical-align: middle;\n",
              "    }\n",
              "\n",
              "    .dataframe tbody tr th {\n",
              "        vertical-align: top;\n",
              "    }\n",
              "\n",
              "    .dataframe thead th {\n",
              "        text-align: right;\n",
              "    }\n",
              "</style>\n",
              "<table border=\"1\" class=\"dataframe\">\n",
              "  <thead>\n",
              "    <tr style=\"text-align: right;\">\n",
              "      <th></th>\n",
              "      <th>단지코드</th>\n",
              "      <th>총세대수</th>\n",
              "      <th>임대건물구분</th>\n",
              "      <th>지역</th>\n",
              "      <th>공급유형</th>\n",
              "      <th>전용면적</th>\n",
              "      <th>전용면적별세대수</th>\n",
              "      <th>공가수</th>\n",
              "      <th>자격유형</th>\n",
              "      <th>임대보증금</th>\n",
              "      <th>임대료</th>\n",
              "      <th>지하철</th>\n",
              "      <th>버스</th>\n",
              "      <th>단지내주차면수</th>\n",
              "      <th>ssd</th>\n",
              "      <th>dif</th>\n",
              "      <th>rent_mall</th>\n",
              "    </tr>\n",
              "  </thead>\n",
              "  <tbody>\n",
              "    <tr>\n",
              "      <th>0</th>\n",
              "      <td>C1072</td>\n",
              "      <td>754</td>\n",
              "      <td>아파트</td>\n",
              "      <td>경기도</td>\n",
              "      <td>국민임대</td>\n",
              "      <td>39.79</td>\n",
              "      <td>116</td>\n",
              "      <td>14</td>\n",
              "      <td>H</td>\n",
              "      <td>22830000</td>\n",
              "      <td>189840</td>\n",
              "      <td>0.0</td>\n",
              "      <td>2</td>\n",
              "      <td>683</td>\n",
              "      <td>754</td>\n",
              "      <td>0</td>\n",
              "      <td>0.0</td>\n",
              "    </tr>\n",
              "    <tr>\n",
              "      <th>1</th>\n",
              "      <td>C1072</td>\n",
              "      <td>754</td>\n",
              "      <td>아파트</td>\n",
              "      <td>경기도</td>\n",
              "      <td>국민임대</td>\n",
              "      <td>46.81</td>\n",
              "      <td>30</td>\n",
              "      <td>14</td>\n",
              "      <td>A</td>\n",
              "      <td>36048000</td>\n",
              "      <td>249930</td>\n",
              "      <td>0.0</td>\n",
              "      <td>2</td>\n",
              "      <td>683</td>\n",
              "      <td>754</td>\n",
              "      <td>0</td>\n",
              "      <td>0.0</td>\n",
              "    </tr>\n",
              "    <tr>\n",
              "      <th>2</th>\n",
              "      <td>C1072</td>\n",
              "      <td>754</td>\n",
              "      <td>아파트</td>\n",
              "      <td>경기도</td>\n",
              "      <td>국민임대</td>\n",
              "      <td>46.90</td>\n",
              "      <td>112</td>\n",
              "      <td>14</td>\n",
              "      <td>H</td>\n",
              "      <td>36048000</td>\n",
              "      <td>249930</td>\n",
              "      <td>0.0</td>\n",
              "      <td>2</td>\n",
              "      <td>683</td>\n",
              "      <td>754</td>\n",
              "      <td>0</td>\n",
              "      <td>0.0</td>\n",
              "    </tr>\n",
              "  </tbody>\n",
              "</table>\n",
              "</div>"
            ],
            "text/plain": [
              "    단지코드  총세대수 임대건물구분   지역  공급유형   전용면적  ...  지하철  버스 단지내주차면수  ssd dif  rent_mall\n",
              "0  C1072   754    아파트  경기도  국민임대  39.79  ...  0.0   2     683  754   0        0.0\n",
              "1  C1072   754    아파트  경기도  국민임대  46.81  ...  0.0   2     683  754   0        0.0\n",
              "2  C1072   754    아파트  경기도  국민임대  46.90  ...  0.0   2     683  754   0        0.0\n",
              "\n",
              "[3 rows x 17 columns]"
            ]
          },
          "metadata": {
            "tags": []
          },
          "execution_count": 21
        }
      ]
    },
    {
      "cell_type": "code",
      "metadata": {
        "id": "zrmD1Cqv8jx9"
      },
      "source": [
        "# 임대료 빈 곳 넣기\n",
        "# train\n",
        "# factor형으로 값 추가할 수 없어서, character형으로 변환\n",
        "train3.loc[(train3.단지코드 == \"C1326\") & (train3.전용면적 == 24.72),['임대보증금','임대료']] = [7287000,140530]\n",
        "train3.loc[(train3.단지코드 == \"C1326\") & (train3.전용면적 == 24.79),['임대보증금','임대료']] = [7287000,140530]\n",
        "train3.loc[(train3.단지코드 == \"C1326\") & (train3.전용면적 == 46.94),['임대보증금','임대료']] = [24047000,269610]\n",
        "train3.loc[(train3.단지코드 == \"C1326\") & (train3.전용면적 == 26.83),['임대보증금','임대료']] = [911000,147820]\n",
        "train3.loc[(train3.단지코드 == \"C1326\") & (train3.전용면적 == 37.7),['임대보증금','임대료']] = [15406000,206110]\n",
        "\n",
        "train3.loc[(train3.단지코드 == \"C1786\") & (train3.전용면적 == 16.91),['임대보증금','임대료']] = [13450000,65500]\n",
        "train3.loc[(train3.단지코드 == \"C1786\") & (train3.전용면적 == 26.9),['임대보증금']] = np.repeat(19820000,3)\n",
        "train3.loc[(train3.단지코드 == \"C1786\") & (train3.전용면적 == 26.9),['임대료']] = np.repeat(97000,3)\n",
        "\n",
        "train3.loc[(train3.단지코드 == \"C2186\") & (train3.전용면적 == 29.17),['임대보증금','임대료']] = [9692000,147880]\n",
        "train3.loc[(train3.단지코드 == \"C2186\") & (train3.전용면적 == 29.34),['임대보증금','임대료']] = [9692000,147880]\n",
        "train3.loc[(train3.단지코드 == \"C2186\") & (train3.전용면적 == 37.43),['임대보증금','임대료']] = [18319000,210240]\n",
        "\n"
      ],
      "execution_count": 22,
      "outputs": []
    },
    {
      "cell_type": "code",
      "metadata": {
        "id": "TxDF3dzRr--E"
      },
      "source": [
        "train3.임대료 = train3.임대료.replace('-', np.NaN) # '-'를 NaN으로 변경해야 float형으로 변경 가능"
      ],
      "execution_count": 23,
      "outputs": []
    },
    {
      "cell_type": "code",
      "metadata": {
        "id": "_egdtbPYrm-U"
      },
      "source": [
        "# 형변환\n",
        "train3 = train3.astype({'임대보증금' : np.float,\n",
        "                        '임대료' : np.float})"
      ],
      "execution_count": 24,
      "outputs": []
    },
    {
      "cell_type": "code",
      "metadata": {
        "colab": {
          "base_uri": "https://localhost:8080/"
        },
        "id": "Kxzaut_WasbG",
        "outputId": "e1490b03-8efa-440a-9957-162326b6b19c"
      },
      "source": [
        "# 결측값 있는지 double check\n",
        "print(pd.isnull(train3.임대보증금).sum())\n",
        "print(pd.isnull(train3.임대료).sum())\n",
        "### NULL값 존재함"
      ],
      "execution_count": 25,
      "outputs": [
        {
          "output_type": "stream",
          "text": [
            "569\n",
            "572\n"
          ],
          "name": "stdout"
        }
      ]
    },
    {
      "cell_type": "code",
      "metadata": {
        "id": "8FHL7J9F8j0s"
      },
      "source": [
        "# test\n",
        "test3.loc[(test3.단지코드 == \"C1267\") & (test3.전용면적 == 16.94),['임대보증금','임대료']] = [11200000,53200]\n",
        "test3.loc[(test3.단지코드 == \"C1267\") & (test3.전용면적 == 26.85),['임대보증금']] = [16333333,18620000]\n",
        "test3.loc[(test3.단지코드 == \"C1267\") & (test3.전용면적 == 26.85),['임대료']] = [77580,88440]\n",
        "test3.loc[(test3.단지코드 == \"C1267\") & (test3.전용면적 == 36.77),['임대보증금','임대료']] = [23760000,112860]\n",
        "\n",
        "test3.loc[(test3.단지코드 == \"C1006\") & (test3.전용면적 == 52.74),['임대보증금','임대료']] = [5000000,99520]\n",
        "\n",
        "test3.loc[(test3.단지코드 == \"C2152\") & (test3.전용면적 == 24.83),['임대보증금','임대료']] = [2129000,42350]\n",
        "test3.loc[(test3.단지코드 == \"C2152\") & (test3.전용면적 == 33.84),['임대보증금','임대료']] = [2902000,57730]\n",
        "\n"
      ],
      "execution_count": 26,
      "outputs": []
    },
    {
      "cell_type": "code",
      "metadata": {
        "id": "TXnV7EzXrQif"
      },
      "source": [
        "# 형변환\n",
        "test3 = test3.astype({'임대보증금' : np.float,\n",
        "                        '임대료' : np.float})"
      ],
      "execution_count": 27,
      "outputs": []
    },
    {
      "cell_type": "code",
      "metadata": {
        "colab": {
          "base_uri": "https://localhost:8080/"
        },
        "id": "1ZoTQYWz8j4b",
        "outputId": "0c1f562a-8e19-4af2-e9cf-2967f7f1040a"
      },
      "source": [
        "# 결측값 있는지 double check\n",
        "print(pd.isnull(test3.임대보증금).sum())\n",
        "print(pd.isnull(test3.임대료).sum())\n",
        "### NULL값 존재함"
      ],
      "execution_count": 28,
      "outputs": [
        {
          "output_type": "stream",
          "text": [
            "179\n",
            "179\n"
          ],
          "name": "stdout"
        }
      ]
    },
    {
      "cell_type": "code",
      "metadata": {
        "colab": {
          "base_uri": "https://localhost:8080/"
        },
        "id": "gR6i3eaDbfzZ",
        "outputId": "7c6d5287-19a7-4a54-8115-7c5dd137274b"
      },
      "source": [
        "#임대 상가, 장기전세, 공공분양 row 빼기\n",
        "# train\n",
        "삭제 = ['장기전세', '임대상가','공공분양']\n",
        "train3_1 = train3.loc[-train3.공급유형.isin(삭제)]\n",
        "# 제대로 제거되었는지 확인\n",
        "train3_1.공급유형.unique()"
      ],
      "execution_count": 29,
      "outputs": [
        {
          "output_type": "execute_result",
          "data": {
            "text/plain": [
              "array(['국민임대', '공공임대(50년)', '영구임대', '공공임대(10년)', '공공임대(분납)', '행복주택',\n",
              "       '공공임대(5년)'], dtype=object)"
            ]
          },
          "metadata": {
            "tags": []
          },
          "execution_count": 29
        }
      ]
    },
    {
      "cell_type": "code",
      "metadata": {
        "colab": {
          "base_uri": "https://localhost:8080/"
        },
        "id": "Lr7hIDZcd4M8",
        "outputId": "2277ddb9-43f1-4b1c-ce76-64539b98df0d"
      },
      "source": [
        "# test\n",
        "삭제 = ['장기전세', '임대상가','공공분양']\n",
        "test3_1 = test3.loc[-test3.공급유형.isin(삭제)]\n",
        "# 제대로 제거되었는지 확인\n",
        "test3_1.공급유형.unique()"
      ],
      "execution_count": 30,
      "outputs": [
        {
          "output_type": "execute_result",
          "data": {
            "text/plain": [
              "array(['국민임대', '영구임대', '공공임대(50년)', '공공임대(10년)', '공공임대(분납)', '행복주택'],\n",
              "      dtype=object)"
            ]
          },
          "metadata": {
            "tags": []
          },
          "execution_count": 30
        }
      ]
    },
    {
      "cell_type": "code",
      "metadata": {
        "id": "4YOeTb41p0WT"
      },
      "source": [
        "train3_1 = train3_1.drop('dif', axis=1)\n",
        "test3_1 = test3_1.drop('dif', axis=1)"
      ],
      "execution_count": 31,
      "outputs": []
    },
    {
      "cell_type": "code",
      "metadata": {
        "colab": {
          "base_uri": "https://localhost:8080/",
          "height": 430
        },
        "id": "4-IVdL69emTT",
        "outputId": "f5f53fab-9c10-426f-bd39-c3c4908d2a1e"
      },
      "source": [
        "real_train = pd.read_csv('train3_1.csv',encoding='cp949')\n",
        "real_test = pd.read_csv('test3_1.csv',encoding='cp949')\n",
        "real_train.rename(columns = {'도보.10분거리.내.지하철역.수.환승노선.수.반영.' : '지하철',\"도보.10분거리.내.버스정류장.수\" : \"버스\"}, inplace = True)\n",
        "real_test.rename(columns = {'도보.10분거리.내.지하철역.수.환승노선.수.반영.' : '지하철',\"도보.10분거리.내.버스정류장.수\" : \"버스\"}, inplace = True)\n",
        "\n",
        "real_test.tail(3)"
      ],
      "execution_count": 32,
      "outputs": [
        {
          "output_type": "execute_result",
          "data": {
            "text/html": [
              "<div>\n",
              "<style scoped>\n",
              "    .dataframe tbody tr th:only-of-type {\n",
              "        vertical-align: middle;\n",
              "    }\n",
              "\n",
              "    .dataframe tbody tr th {\n",
              "        vertical-align: top;\n",
              "    }\n",
              "\n",
              "    .dataframe thead th {\n",
              "        text-align: right;\n",
              "    }\n",
              "</style>\n",
              "<table border=\"1\" class=\"dataframe\">\n",
              "  <thead>\n",
              "    <tr style=\"text-align: right;\">\n",
              "      <th></th>\n",
              "      <th>단지코드</th>\n",
              "      <th>총세대수</th>\n",
              "      <th>임대건물구분</th>\n",
              "      <th>지역</th>\n",
              "      <th>공급유형</th>\n",
              "      <th>전용면적</th>\n",
              "      <th>전용면적별세대수</th>\n",
              "      <th>공가수</th>\n",
              "      <th>자격유형</th>\n",
              "      <th>임대보증금</th>\n",
              "      <th>임대료</th>\n",
              "      <th>지하철</th>\n",
              "      <th>버스</th>\n",
              "      <th>단지내주차면수</th>\n",
              "      <th>ssd</th>\n",
              "      <th>rent_mall</th>\n",
              "    </tr>\n",
              "  </thead>\n",
              "  <tbody>\n",
              "    <tr>\n",
              "      <th>828</th>\n",
              "      <td>C2189</td>\n",
              "      <td>382</td>\n",
              "      <td>아파트</td>\n",
              "      <td>전라북도</td>\n",
              "      <td>국민임대</td>\n",
              "      <td>29.19</td>\n",
              "      <td>20</td>\n",
              "      <td>45</td>\n",
              "      <td>H</td>\n",
              "      <td>6872000.0</td>\n",
              "      <td>106400.0</td>\n",
              "      <td>0</td>\n",
              "      <td>2</td>\n",
              "      <td>300</td>\n",
              "      <td>378</td>\n",
              "      <td>0</td>\n",
              "    </tr>\n",
              "    <tr>\n",
              "      <th>829</th>\n",
              "      <td>C2189</td>\n",
              "      <td>382</td>\n",
              "      <td>아파트</td>\n",
              "      <td>전라북도</td>\n",
              "      <td>국민임대</td>\n",
              "      <td>39.45</td>\n",
              "      <td>202</td>\n",
              "      <td>45</td>\n",
              "      <td>H</td>\n",
              "      <td>13410000.0</td>\n",
              "      <td>144600.0</td>\n",
              "      <td>0</td>\n",
              "      <td>2</td>\n",
              "      <td>300</td>\n",
              "      <td>378</td>\n",
              "      <td>0</td>\n",
              "    </tr>\n",
              "    <tr>\n",
              "      <th>830</th>\n",
              "      <td>C2189</td>\n",
              "      <td>382</td>\n",
              "      <td>아파트</td>\n",
              "      <td>전라북도</td>\n",
              "      <td>국민임대</td>\n",
              "      <td>46.23</td>\n",
              "      <td>60</td>\n",
              "      <td>45</td>\n",
              "      <td>H</td>\n",
              "      <td>18689000.0</td>\n",
              "      <td>166500.0</td>\n",
              "      <td>0</td>\n",
              "      <td>2</td>\n",
              "      <td>300</td>\n",
              "      <td>378</td>\n",
              "      <td>0</td>\n",
              "    </tr>\n",
              "  </tbody>\n",
              "</table>\n",
              "</div>"
            ],
            "text/plain": [
              "      단지코드  총세대수 임대건물구분    지역  공급유형  ...  지하철  버스  단지내주차면수  ssd  rent_mall\n",
              "828  C2189   382    아파트  전라북도  국민임대  ...    0   2      300  378          0\n",
              "829  C2189   382    아파트  전라북도  국민임대  ...    0   2      300  378          0\n",
              "830  C2189   382    아파트  전라북도  국민임대  ...    0   2      300  378          0\n",
              "\n",
              "[3 rows x 16 columns]"
            ]
          },
          "metadata": {
            "tags": []
          },
          "execution_count": 32
        }
      ]
    },
    {
      "cell_type": "code",
      "metadata": {
        "id": "N_EpOB-xifHA"
      },
      "source": [
        "# test3_1.to_csv('py_test3.csv',header=True, index=False, encoding='utf-8-sig')\n",
        "# train3_1.to_csv('py_train3.csv',header=True, index=False, encoding='utf-8-sig')"
      ],
      "execution_count": 33,
      "outputs": []
    },
    {
      "cell_type": "code",
      "metadata": {
        "colab": {
          "base_uri": "https://localhost:8080/"
        },
        "id": "VdfCg-uchpHK",
        "outputId": "b09c4680-f25a-4014-faeb-88e88d45f544"
      },
      "source": [
        "print(pd.isnull(test3_1.임대보증금).sum())\n",
        "print(pd.isnull(real_test.임대보증금).sum())\n",
        "print(pd.isnull(train3_1.임대보증금).sum())\n",
        "print(pd.isnull(real_train.임대보증금).sum())\n",
        "\n",
        "print(pd.isnull(test3_1.임대료).sum())\n",
        "print(pd.isnull(real_test.임대료).sum())\n",
        "print(pd.isnull(train3_1.임대료).sum())\n",
        "print(pd.isnull(real_train.임대료).sum())"
      ],
      "execution_count": 34,
      "outputs": [
        {
          "output_type": "stream",
          "text": [
            "2\n",
            "2\n",
            "0\n",
            "0\n",
            "2\n",
            "2\n",
            "0\n",
            "0\n"
          ],
          "name": "stdout"
        }
      ]
    },
    {
      "cell_type": "code",
      "metadata": {
        "colab": {
          "base_uri": "https://localhost:8080/",
          "height": 166
        },
        "id": "YAVpvP9He6k2",
        "outputId": "2405d017-545b-47a7-87a9-8d834e464047"
      },
      "source": [
        "# 파이썬으로 만든 데이터셋과 소담쓰 데이터셋이 동일한지 비교 (결과로 아무것도 안 나오면 동일한 것임.)\n",
        "df = pd.concat([real_train,train3_1])\n",
        "df = df.reset_index(drop=True)\n",
        "df_gpby = df.groupby(list(df.columns)) # 그룹화\n",
        "idx = [x[0] for x in df_gpby.groups.values() if len(x) == 1] # 고유 레코드 색인을 얻음\n",
        "df.reindex(idx) #필터"
      ],
      "execution_count": 35,
      "outputs": [
        {
          "output_type": "execute_result",
          "data": {
            "text/html": [
              "<div>\n",
              "<style scoped>\n",
              "    .dataframe tbody tr th:only-of-type {\n",
              "        vertical-align: middle;\n",
              "    }\n",
              "\n",
              "    .dataframe tbody tr th {\n",
              "        vertical-align: top;\n",
              "    }\n",
              "\n",
              "    .dataframe thead th {\n",
              "        text-align: right;\n",
              "    }\n",
              "</style>\n",
              "<table border=\"1\" class=\"dataframe\">\n",
              "  <thead>\n",
              "    <tr style=\"text-align: right;\">\n",
              "      <th></th>\n",
              "      <th>단지코드</th>\n",
              "      <th>총세대수</th>\n",
              "      <th>임대건물구분</th>\n",
              "      <th>지역</th>\n",
              "      <th>공급유형</th>\n",
              "      <th>전용면적</th>\n",
              "      <th>전용면적별세대수</th>\n",
              "      <th>공가수</th>\n",
              "      <th>자격유형</th>\n",
              "      <th>임대보증금</th>\n",
              "      <th>임대료</th>\n",
              "      <th>지하철</th>\n",
              "      <th>버스</th>\n",
              "      <th>단지내주차면수</th>\n",
              "      <th>등록차량수</th>\n",
              "      <th>ssd</th>\n",
              "      <th>rent_mall</th>\n",
              "    </tr>\n",
              "  </thead>\n",
              "  <tbody>\n",
              "  </tbody>\n",
              "</table>\n",
              "</div>"
            ],
            "text/plain": [
              "Empty DataFrame\n",
              "Columns: [단지코드, 총세대수, 임대건물구분, 지역, 공급유형, 전용면적, 전용면적별세대수, 공가수, 자격유형, 임대보증금, 임대료, 지하철, 버스, 단지내주차면수, 등록차량수, ssd, rent_mall]\n",
              "Index: []"
            ]
          },
          "metadata": {
            "tags": []
          },
          "execution_count": 35
        }
      ]
    },
    {
      "cell_type": "code",
      "metadata": {
        "id": "0s2JJ2OMtkfV"
      },
      "source": [
        "# 파이썬으로 만든 데이터셋과 소담쓰 데이터셋이 동일한지 비교 (결과로 아무것도 안 나오면 동일한 것임.)\n",
        "# 동일해보이는데... 뭐가 문제일까...ㅎ\n",
        "df = pd.concat([test3_1,real_test])\n",
        "df = df.reset_index(drop=True)\n",
        "df_gpby = df.groupby(list(df.columns)) # 그룹화\n",
        "idx = [x[0] for x in df_gpby.groups.values() if len(x) == 1] # 고유 레코드 색인을 얻음\n",
        "df.reindex(idx) #필터"
      ],
      "execution_count": null,
      "outputs": []
    },
    {
      "cell_type": "markdown",
      "metadata": {
        "id": "h0PfYf9XzZxU"
      },
      "source": [
        "* train_code_u : 공급유형별, 단지코드별 group by 한 데이터\n",
        "(가령 C1000에 국민임대와 영구임대가 있을경우,\n",
        "C1000-1 & 국민임대\n",
        "C1000-2 & 영구임대 \n",
        "로 나눔)\n",
        "* train_code : 단지코드별로 group by 한 데이터\n",
        "(앞선 C1000의 경우 공급유형에 상관없이 전체 임대료/세대수 등의 평균값으로 들어가고, 국민임대/영구임대 로 함께 작성되는 새 범주 생성)\n",
        "\n",
        "* train_code_no: 공급유형을 삭제하고 단지코드별로 group by 한 데이터"
      ]
    },
    {
      "cell_type": "code",
      "metadata": {
        "id": "fJi67A0SywmR"
      },
      "source": [
        "train_code_u = pd.read_csv(\"train_code_u.csv\", encoding=\"cp949\")\n",
        "test_code_u = pd.read_csv(\"test_code_u.csv\", encoding=\"cp949\")"
      ],
      "execution_count": 62,
      "outputs": []
    },
    {
      "cell_type": "code",
      "metadata": {
        "id": "U6zf16GQywoz"
      },
      "source": [
        "train_code = pd.read_csv(\"train_code.csv\", encoding=\"cp949\")\n",
        "test_code = pd.read_csv(\"test_code.csv\", encoding=\"cp949\")"
      ],
      "execution_count": 44,
      "outputs": []
    },
    {
      "cell_type": "code",
      "metadata": {
        "id": "7uGJ0_59ywts"
      },
      "source": [
        "train_code_no = pd.read_csv(\"train_code_no.csv\", encoding=\"cp949\")\n",
        "test_code_no = pd.read_csv(\"test_code_no.csv\", encoding=\"cp949\")"
      ],
      "execution_count": 47,
      "outputs": []
    },
    {
      "cell_type": "markdown",
      "metadata": {
        "id": "mG3MU7P7yQf-"
      },
      "source": [
        "Catboost 모델링"
      ]
    },
    {
      "cell_type": "code",
      "metadata": {
        "id": "Uvj4FgjLod4a"
      },
      "source": [
        "# !pip install catboost"
      ],
      "execution_count": null,
      "outputs": []
    },
    {
      "cell_type": "code",
      "metadata": {
        "id": "SckDJxiRx_KO"
      },
      "source": [
        "from catboost import CatBoostRegressor\n"
      ],
      "execution_count": 48,
      "outputs": []
    },
    {
      "cell_type": "code",
      "metadata": {
        "id": "Yx-pCw3Zx_Ne"
      },
      "source": [
        "cat_features = ['공급유형','gubun','area']  #범주형 변수\n",
        "target_col = 'Y' # Y 변수"
      ],
      "execution_count": 50,
      "outputs": []
    },
    {
      "cell_type": "markdown",
      "metadata": {
        "id": "Ty-jvAxiyjNX"
      },
      "source": [
        "catboost 모델 적합  \n",
        "https://2econsulting.github.io/catboost/2018/06/16/catboostSimpleVersion.html  \n",
        "특히 CatBoost의 full name은 Categorical Boost으로 범주형 변수가 많은 데이터셋에서 예측 성능이 우수"
      ]
    },
    {
      "cell_type": "code",
      "metadata": {
        "colab": {
          "base_uri": "https://localhost:8080/"
        },
        "id": "kscRkw2-x_Tq",
        "outputId": "c3d4370c-df52-4c35-b5da-23a2d3572d88"
      },
      "source": [
        "cat_model = CatBoostRegressor(\n",
        "         cat_features=cat_features,\n",
        "         loss_function='MAE',\n",
        "         n_estimators=500, \n",
        "         learning_rate=0.1, \n",
        "         random_state=3978\n",
        "    )\n",
        "    \n",
        "cat_model.fit(train_code_u.drop(columns=[target_col,'NEW_ID']), train_code_u[target_col], \n",
        "              verbose=100)"
      ],
      "execution_count": 59,
      "outputs": [
        {
          "output_type": "stream",
          "text": [
            "0:\tlearn: 268.4713623\ttotal: 4.12ms\tremaining: 2.05s\n",
            "100:\tlearn: 63.9736049\ttotal: 361ms\tremaining: 1.42s\n",
            "200:\tlearn: 42.8627857\ttotal: 699ms\tremaining: 1.04s\n",
            "300:\tlearn: 33.7069623\ttotal: 1.05s\tremaining: 696ms\n",
            "400:\tlearn: 28.1615521\ttotal: 1.4s\tremaining: 344ms\n",
            "499:\tlearn: 25.1079565\ttotal: 1.75s\tremaining: 0us\n"
          ],
          "name": "stdout"
        },
        {
          "output_type": "execute_result",
          "data": {
            "text/plain": [
              "<catboost.core.CatBoostRegressor at 0x7f711201e450>"
            ]
          },
          "metadata": {
            "tags": []
          },
          "execution_count": 59
        }
      ]
    },
    {
      "cell_type": "code",
      "metadata": {
        "colab": {
          "base_uri": "https://localhost:8080/",
          "height": 203
        },
        "id": "x-gxZZR5x_Wf",
        "outputId": "9cdfe37c-ee1d-48ef-c7e1-3042952ddb8c"
      },
      "source": [
        "sample_submission = pd.read_csv('sample_submission.csv')\n",
        "sample_submission.head()"
      ],
      "execution_count": 40,
      "outputs": [
        {
          "output_type": "execute_result",
          "data": {
            "text/html": [
              "<div>\n",
              "<style scoped>\n",
              "    .dataframe tbody tr th:only-of-type {\n",
              "        vertical-align: middle;\n",
              "    }\n",
              "\n",
              "    .dataframe tbody tr th {\n",
              "        vertical-align: top;\n",
              "    }\n",
              "\n",
              "    .dataframe thead th {\n",
              "        text-align: right;\n",
              "    }\n",
              "</style>\n",
              "<table border=\"1\" class=\"dataframe\">\n",
              "  <thead>\n",
              "    <tr style=\"text-align: right;\">\n",
              "      <th></th>\n",
              "      <th>code</th>\n",
              "      <th>num</th>\n",
              "    </tr>\n",
              "  </thead>\n",
              "  <tbody>\n",
              "    <tr>\n",
              "      <th>0</th>\n",
              "      <td>C1072</td>\n",
              "      <td>0</td>\n",
              "    </tr>\n",
              "    <tr>\n",
              "      <th>1</th>\n",
              "      <td>C1128</td>\n",
              "      <td>0</td>\n",
              "    </tr>\n",
              "    <tr>\n",
              "      <th>2</th>\n",
              "      <td>C1456</td>\n",
              "      <td>0</td>\n",
              "    </tr>\n",
              "    <tr>\n",
              "      <th>3</th>\n",
              "      <td>C1840</td>\n",
              "      <td>0</td>\n",
              "    </tr>\n",
              "    <tr>\n",
              "      <th>4</th>\n",
              "      <td>C1332</td>\n",
              "      <td>0</td>\n",
              "    </tr>\n",
              "  </tbody>\n",
              "</table>\n",
              "</div>"
            ],
            "text/plain": [
              "    code  num\n",
              "0  C1072    0\n",
              "1  C1128    0\n",
              "2  C1456    0\n",
              "3  C1840    0\n",
              "4  C1332    0"
            ]
          },
          "metadata": {
            "tags": []
          },
          "execution_count": 40
        }
      ]
    },
    {
      "cell_type": "code",
      "metadata": {
        "id": "l_Iybk8mx_aH"
      },
      "source": [
        "## catboost모델 예측값\n",
        "result1 = cat_model.predict(test_code_u.drop(columns=['NEW_ID']))"
      ],
      "execution_count": 69,
      "outputs": []
    },
    {
      "cell_type": "code",
      "metadata": {
        "colab": {
          "base_uri": "https://localhost:8080/",
          "height": 142
        },
        "id": "Ql90o_Np2L1x",
        "outputId": "8559170f-6313-49ce-de07-725f7f86f193"
      },
      "source": [
        "cat_result1 = pd.DataFrame(test_code_u.loc[:,'NEW_ID'])\n",
        "cat_result1['num'] = result1\n",
        "cat_result1.head(3)"
      ],
      "execution_count": 80,
      "outputs": [
        {
          "output_type": "execute_result",
          "data": {
            "text/html": [
              "<div>\n",
              "<style scoped>\n",
              "    .dataframe tbody tr th:only-of-type {\n",
              "        vertical-align: middle;\n",
              "    }\n",
              "\n",
              "    .dataframe tbody tr th {\n",
              "        vertical-align: top;\n",
              "    }\n",
              "\n",
              "    .dataframe thead th {\n",
              "        text-align: right;\n",
              "    }\n",
              "</style>\n",
              "<table border=\"1\" class=\"dataframe\">\n",
              "  <thead>\n",
              "    <tr style=\"text-align: right;\">\n",
              "      <th></th>\n",
              "      <th>NEW_ID</th>\n",
              "      <th>num</th>\n",
              "    </tr>\n",
              "  </thead>\n",
              "  <tbody>\n",
              "    <tr>\n",
              "      <th>0</th>\n",
              "      <td>C1003_1</td>\n",
              "      <td>254.153142</td>\n",
              "    </tr>\n",
              "    <tr>\n",
              "      <th>1</th>\n",
              "      <td>C1006_1</td>\n",
              "      <td>342.310001</td>\n",
              "    </tr>\n",
              "    <tr>\n",
              "      <th>2</th>\n",
              "      <td>C1016_1</td>\n",
              "      <td>670.763803</td>\n",
              "    </tr>\n",
              "  </tbody>\n",
              "</table>\n",
              "</div>"
            ],
            "text/plain": [
              "    NEW_ID         num\n",
              "0  C1003_1  254.153142\n",
              "1  C1006_1  342.310001\n",
              "2  C1016_1  670.763803"
            ]
          },
          "metadata": {
            "tags": []
          },
          "execution_count": 80
        }
      ]
    },
    {
      "cell_type": "code",
      "metadata": {
        "colab": {
          "base_uri": "https://localhost:8080/"
        },
        "id": "0_WGcjLC2L7E",
        "outputId": "07481f92-8ba4-4807-c08f-0f0b0be258e0"
      },
      "source": [
        "## 여러행의 정보가 담겨져 있는 단지코드 정보 추출\n",
        "def sub_code(x):\n",
        "   return x[:5]   # NEW_ID에서 단지코드 5글자만 추출\n",
        "\n",
        "단지코드만 = cat_result1.NEW_ID.apply(sub_code)\n",
        "여러단지코드 = 단지코드만[단지코드만.duplicated()].unique()\n",
        "여러단지코드\n",
        "cat_result1['code'] = 단지코드만"
      ],
      "execution_count": 89,
      "outputs": [
        {
          "output_type": "execute_result",
          "data": {
            "text/plain": [
              "array(['C1147', 'C1267', 'C1849', 'C2091', 'C2113', 'C2131', 'C2430',\n",
              "       'C2688'], dtype=object)"
            ]
          },
          "metadata": {
            "tags": []
          },
          "execution_count": 89
        }
      ]
    },
    {
      "cell_type": "code",
      "metadata": {
        "id": "UA4iQkIN2MAC"
      },
      "source": [
        "## 여러행의 정보가 담겨져 있는 단지코드의 결과는 MEAN값으로 넣어줌.\n",
        "temp = cat_result1.loc[단지코드만.isin(여러단지코드)]\n",
        "temp['code'] = 단지코드만\n",
        "temp2 = temp.num.groupby(temp.code).mean()\n",
        "temp3 = pd.DataFrame(temp2).reset_index()"
      ],
      "execution_count": null,
      "outputs": []
    },
    {
      "cell_type": "code",
      "metadata": {
        "colab": {
          "base_uri": "https://localhost:8080/",
          "height": 142
        },
        "id": "ra4q1XUBCRs0",
        "outputId": "a082bbcd-c7bd-45e0-eba7-d0b7b266bf41"
      },
      "source": [
        "## cat_boost의 결과값 + 위에서 만든 평균값(temp3) = 147개이므로\n",
        "## submission에 147개의 결과를 left_join 시켜서 최종 제출결과값 cat_result5를 만듦.\n",
        "cat_result2 = cat_result1[['code','num']]\n",
        "cat_result3 = cat_result2.loc[-cat_result2.code.isin(여러단지코드)]\n",
        "cat_result4 = pd.concat([cat_result3, temp3])\n",
        "cat_result5 = pd.merge(submission, cat_result4, on='code',how='left')\n",
        "cat_result5.drop('num_x',axis=1, inplace=True)\n",
        "cat_result5.rename(columns={'num_y':'num'}, inplace=True)\n",
        "cat_result5.head(3)"
      ],
      "execution_count": 163,
      "outputs": [
        {
          "output_type": "execute_result",
          "data": {
            "text/html": [
              "<div>\n",
              "<style scoped>\n",
              "    .dataframe tbody tr th:only-of-type {\n",
              "        vertical-align: middle;\n",
              "    }\n",
              "\n",
              "    .dataframe tbody tr th {\n",
              "        vertical-align: top;\n",
              "    }\n",
              "\n",
              "    .dataframe thead th {\n",
              "        text-align: right;\n",
              "    }\n",
              "</style>\n",
              "<table border=\"1\" class=\"dataframe\">\n",
              "  <thead>\n",
              "    <tr style=\"text-align: right;\">\n",
              "      <th></th>\n",
              "      <th>code</th>\n",
              "      <th>num</th>\n",
              "    </tr>\n",
              "  </thead>\n",
              "  <tbody>\n",
              "    <tr>\n",
              "      <th>0</th>\n",
              "      <td>C1072</td>\n",
              "      <td>813.540274</td>\n",
              "    </tr>\n",
              "    <tr>\n",
              "      <th>1</th>\n",
              "      <td>C1128</td>\n",
              "      <td>1241.575843</td>\n",
              "    </tr>\n",
              "    <tr>\n",
              "      <th>2</th>\n",
              "      <td>C1456</td>\n",
              "      <td>521.333601</td>\n",
              "    </tr>\n",
              "  </tbody>\n",
              "</table>\n",
              "</div>"
            ],
            "text/plain": [
              "    code          num\n",
              "0  C1072   813.540274\n",
              "1  C1128  1241.575843\n",
              "2  C1456   521.333601"
            ]
          },
          "metadata": {
            "tags": []
          },
          "execution_count": 163
        }
      ]
    },
    {
      "cell_type": "code",
      "metadata": {
        "id": "6gfIOPlX8Wce"
      },
      "source": [
        "cat_result5.to_csv('cat_result1.csv',index=False,encoding='cp949')"
      ],
      "execution_count": 151,
      "outputs": []
    },
    {
      "cell_type": "code",
      "metadata": {
        "id": "yPoe6hHk8WeP"
      },
      "source": [
        ""
      ],
      "execution_count": null,
      "outputs": []
    }
  ]
}