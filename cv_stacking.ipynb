{
  "nbformat": 4,
  "nbformat_minor": 0,
  "metadata": {
    "colab": {
      "name": "cv_stacking.ipynb",
      "provenance": [],
      "collapsed_sections": [],
      "authorship_tag": "ABX9TyPOBkcSZJ27k1iMzO8d/IlC",
      "include_colab_link": true
    },
    "kernelspec": {
      "name": "python3",
      "display_name": "Python 3"
    }
  },
  "cells": [
    {
      "cell_type": "markdown",
      "metadata": {
        "id": "view-in-github",
        "colab_type": "text"
      },
      "source": [
        "<a href=\"https://colab.research.google.com/github/blockmoo/Python/blob/main/cv_stacking.ipynb\" target=\"_parent\"><img src=\"https://colab.research.google.com/assets/colab-badge.svg\" alt=\"Open In Colab\"/></a>"
      ]
    },
    {
      "cell_type": "markdown",
      "metadata": {
        "id": "7sxl9uS_E2gh"
      },
      "source": [
        "# **구글 드라이브 마운트**"
      ]
    },
    {
      "cell_type": "code",
      "metadata": {
        "id": "_fLpBHKWubuh",
        "colab": {
          "base_uri": "https://localhost:8080/"
        },
        "outputId": "540f42a7-03c6-4b11-91a6-5c7110d4e717"
      },
      "source": [
        "# 구드 마운트 \n",
        "import os, sys\n",
        "from google.colab import drive\n",
        "drive.mount('/content/drive')"
      ],
      "execution_count": null,
      "outputs": [
        {
          "output_type": "stream",
          "text": [
            "Mounted at /content/drive\n"
          ],
          "name": "stdout"
        }
      ]
    },
    {
      "cell_type": "markdown",
      "metadata": {
        "id": "VokrZKgWET48"
      },
      "source": [
        "# #  **새로운 방법**\n",
        "\n",
        "\n"
      ]
    },
    {
      "cell_type": "code",
      "metadata": {
        "id": "ROLDTJXbD5IV"
      },
      "source": [
        "import sklearn\n",
        "import numpy as np\n",
        "import matplotlib.pyplot as plt\n",
        "%matplotlib inline\n",
        "import seaborn as sns\n",
        "\n",
        "from sklearn.linear_model import LinearRegression\n",
        "from sklearn.model_selection import train_test_split\n",
        "from sklearn.model_selection import KFold\n",
        "from sklearn.linear_model import LogisticRegression"
      ],
      "execution_count": null,
      "outputs": []
    },
    {
      "cell_type": "code",
      "metadata": {
        "id": "bOM0OPU-m6ZV"
      },
      "source": [
        "# 사용할 패키지들을 불러와서 포함시키는 코드이다.\n",
        "# python package들을 가져오는 것과 matplotlib 출력 옵션 설정에 대한 내용이다.\n",
        "from sklearn import linear_model\n",
        "import numpy as np\n",
        "import pandas as pd\n",
        "import matplotlib\n",
        "import matplotlib.pyplot as plt\n",
        "%matplotlib inline\n",
        "matplotlib.style.use('ggplot')"
      ],
      "execution_count": null,
      "outputs": []
    },
    {
      "cell_type": "markdown",
      "metadata": {
        "id": "J3F5kt6WEDx9"
      },
      "source": [
        "# **데이터 불러오기**"
      ]
    },
    {
      "cell_type": "code",
      "metadata": {
        "id": "6gXUEFC3iCrZ",
        "colab": {
          "base_uri": "https://localhost:8080/",
          "height": 304
        },
        "outputId": "69755b0f-0e1e-434b-8f1a-bc9e42cc268f"
      },
      "source": [
        "import pandas as pd\n",
        "\n",
        "os.chdir('/content/drive/MyDrive/응통_통계연구논문')\n",
        "X_train = pd.read_csv(\"./train_x.csv\")\n",
        "X_test = pd.read_csv(\"./test_x.csv\")\n",
        "y_train = pd.read_csv(\"./train_y.csv\")\n",
        "y_test = pd.read_csv(\"./test_y.csv\")\n",
        "# train 데이터 살펴보기\n",
        "X_test.describe(include=\"all\")\n"
      ],
      "execution_count": null,
      "outputs": [
        {
          "output_type": "execute_result",
          "data": {
            "text/html": [
              "<div>\n",
              "<style scoped>\n",
              "    .dataframe tbody tr th:only-of-type {\n",
              "        vertical-align: middle;\n",
              "    }\n",
              "\n",
              "    .dataframe tbody tr th {\n",
              "        vertical-align: top;\n",
              "    }\n",
              "\n",
              "    .dataframe thead th {\n",
              "        text-align: right;\n",
              "    }\n",
              "</style>\n",
              "<table border=\"1\" class=\"dataframe\">\n",
              "  <thead>\n",
              "    <tr style=\"text-align: right;\">\n",
              "      <th></th>\n",
              "      <th>temp</th>\n",
              "      <th>atemp</th>\n",
              "      <th>humidity</th>\n",
              "      <th>windspeed</th>\n",
              "      <th>casual</th>\n",
              "      <th>registered</th>\n",
              "      <th>month</th>\n",
              "      <th>hour</th>\n",
              "      <th>season</th>\n",
              "      <th>holiday</th>\n",
              "      <th>workingday</th>\n",
              "      <th>weather</th>\n",
              "      <th>year2011</th>\n",
              "      <th>year2012</th>\n",
              "      <th>weekday5</th>\n",
              "      <th>weekday4</th>\n",
              "      <th>weekday3</th>\n",
              "      <th>weekday1</th>\n",
              "      <th>weekday7</th>\n",
              "      <th>weekday6</th>\n",
              "      <th>weekday2</th>\n",
              "    </tr>\n",
              "  </thead>\n",
              "  <tbody>\n",
              "    <tr>\n",
              "      <th>count</th>\n",
              "      <td>3266.000000</td>\n",
              "      <td>3266.000000</td>\n",
              "      <td>3266.000000</td>\n",
              "      <td>3266.000000</td>\n",
              "      <td>3266.000000</td>\n",
              "      <td>3266.000000</td>\n",
              "      <td>3266.000000</td>\n",
              "      <td>3266.000000</td>\n",
              "      <td>3266.000000</td>\n",
              "      <td>3266.000000</td>\n",
              "      <td>3266.000000</td>\n",
              "      <td>3266.000000</td>\n",
              "      <td>3266.000000</td>\n",
              "      <td>3266.000000</td>\n",
              "      <td>3266.000000</td>\n",
              "      <td>3266.000000</td>\n",
              "      <td>3266.000000</td>\n",
              "      <td>3266.000000</td>\n",
              "      <td>3266.000000</td>\n",
              "      <td>3266.000000</td>\n",
              "      <td>3266.000000</td>\n",
              "    </tr>\n",
              "    <tr>\n",
              "      <th>mean</th>\n",
              "      <td>20.388022</td>\n",
              "      <td>23.842754</td>\n",
              "      <td>62.086038</td>\n",
              "      <td>12.764542</td>\n",
              "      <td>37.413962</td>\n",
              "      <td>154.315677</td>\n",
              "      <td>6.568585</td>\n",
              "      <td>11.447336</td>\n",
              "      <td>2.526944</td>\n",
              "      <td>0.031231</td>\n",
              "      <td>0.673913</td>\n",
              "      <td>1.417330</td>\n",
              "      <td>0.490508</td>\n",
              "      <td>0.509492</td>\n",
              "      <td>0.140539</td>\n",
              "      <td>0.140845</td>\n",
              "      <td>0.139008</td>\n",
              "      <td>0.142070</td>\n",
              "      <td>0.144519</td>\n",
              "      <td>0.150337</td>\n",
              "      <td>0.142682</td>\n",
              "    </tr>\n",
              "    <tr>\n",
              "      <th>std</th>\n",
              "      <td>7.882911</td>\n",
              "      <td>8.575272</td>\n",
              "      <td>19.162358</td>\n",
              "      <td>8.146262</td>\n",
              "      <td>52.062244</td>\n",
              "      <td>149.029156</td>\n",
              "      <td>3.422614</td>\n",
              "      <td>6.938969</td>\n",
              "      <td>1.104928</td>\n",
              "      <td>0.173968</td>\n",
              "      <td>0.468851</td>\n",
              "      <td>0.636361</td>\n",
              "      <td>0.499986</td>\n",
              "      <td>0.499986</td>\n",
              "      <td>0.347598</td>\n",
              "      <td>0.347915</td>\n",
              "      <td>0.346008</td>\n",
              "      <td>0.349175</td>\n",
              "      <td>0.351669</td>\n",
              "      <td>0.357456</td>\n",
              "      <td>0.349802</td>\n",
              "    </tr>\n",
              "    <tr>\n",
              "      <th>min</th>\n",
              "      <td>0.820000</td>\n",
              "      <td>0.760000</td>\n",
              "      <td>0.000000</td>\n",
              "      <td>0.000000</td>\n",
              "      <td>0.000000</td>\n",
              "      <td>0.000000</td>\n",
              "      <td>1.000000</td>\n",
              "      <td>0.000000</td>\n",
              "      <td>1.000000</td>\n",
              "      <td>0.000000</td>\n",
              "      <td>0.000000</td>\n",
              "      <td>1.000000</td>\n",
              "      <td>0.000000</td>\n",
              "      <td>0.000000</td>\n",
              "      <td>0.000000</td>\n",
              "      <td>0.000000</td>\n",
              "      <td>0.000000</td>\n",
              "      <td>0.000000</td>\n",
              "      <td>0.000000</td>\n",
              "      <td>0.000000</td>\n",
              "      <td>0.000000</td>\n",
              "    </tr>\n",
              "    <tr>\n",
              "      <th>25%</th>\n",
              "      <td>13.940000</td>\n",
              "      <td>16.665000</td>\n",
              "      <td>47.000000</td>\n",
              "      <td>7.001500</td>\n",
              "      <td>4.000000</td>\n",
              "      <td>37.000000</td>\n",
              "      <td>4.000000</td>\n",
              "      <td>6.000000</td>\n",
              "      <td>2.000000</td>\n",
              "      <td>0.000000</td>\n",
              "      <td>0.000000</td>\n",
              "      <td>1.000000</td>\n",
              "      <td>0.000000</td>\n",
              "      <td>0.000000</td>\n",
              "      <td>0.000000</td>\n",
              "      <td>0.000000</td>\n",
              "      <td>0.000000</td>\n",
              "      <td>0.000000</td>\n",
              "      <td>0.000000</td>\n",
              "      <td>0.000000</td>\n",
              "      <td>0.000000</td>\n",
              "    </tr>\n",
              "    <tr>\n",
              "      <th>50%</th>\n",
              "      <td>20.500000</td>\n",
              "      <td>24.240000</td>\n",
              "      <td>62.000000</td>\n",
              "      <td>12.998000</td>\n",
              "      <td>17.000000</td>\n",
              "      <td>118.000000</td>\n",
              "      <td>7.000000</td>\n",
              "      <td>12.000000</td>\n",
              "      <td>3.000000</td>\n",
              "      <td>0.000000</td>\n",
              "      <td>1.000000</td>\n",
              "      <td>1.000000</td>\n",
              "      <td>0.000000</td>\n",
              "      <td>1.000000</td>\n",
              "      <td>0.000000</td>\n",
              "      <td>0.000000</td>\n",
              "      <td>0.000000</td>\n",
              "      <td>0.000000</td>\n",
              "      <td>0.000000</td>\n",
              "      <td>0.000000</td>\n",
              "      <td>0.000000</td>\n",
              "    </tr>\n",
              "    <tr>\n",
              "      <th>75%</th>\n",
              "      <td>27.060000</td>\n",
              "      <td>31.060000</td>\n",
              "      <td>77.000000</td>\n",
              "      <td>16.997900</td>\n",
              "      <td>51.750000</td>\n",
              "      <td>223.000000</td>\n",
              "      <td>9.000000</td>\n",
              "      <td>17.000000</td>\n",
              "      <td>3.000000</td>\n",
              "      <td>0.000000</td>\n",
              "      <td>1.000000</td>\n",
              "      <td>2.000000</td>\n",
              "      <td>1.000000</td>\n",
              "      <td>1.000000</td>\n",
              "      <td>0.000000</td>\n",
              "      <td>0.000000</td>\n",
              "      <td>0.000000</td>\n",
              "      <td>0.000000</td>\n",
              "      <td>0.000000</td>\n",
              "      <td>0.000000</td>\n",
              "      <td>0.000000</td>\n",
              "    </tr>\n",
              "    <tr>\n",
              "      <th>max</th>\n",
              "      <td>39.360000</td>\n",
              "      <td>45.455000</td>\n",
              "      <td>100.000000</td>\n",
              "      <td>56.996900</td>\n",
              "      <td>367.000000</td>\n",
              "      <td>886.000000</td>\n",
              "      <td>12.000000</td>\n",
              "      <td>23.000000</td>\n",
              "      <td>4.000000</td>\n",
              "      <td>1.000000</td>\n",
              "      <td>1.000000</td>\n",
              "      <td>4.000000</td>\n",
              "      <td>1.000000</td>\n",
              "      <td>1.000000</td>\n",
              "      <td>1.000000</td>\n",
              "      <td>1.000000</td>\n",
              "      <td>1.000000</td>\n",
              "      <td>1.000000</td>\n",
              "      <td>1.000000</td>\n",
              "      <td>1.000000</td>\n",
              "      <td>1.000000</td>\n",
              "    </tr>\n",
              "  </tbody>\n",
              "</table>\n",
              "</div>"
            ],
            "text/plain": [
              "              temp        atemp  ...     weekday6     weekday2\n",
              "count  3266.000000  3266.000000  ...  3266.000000  3266.000000\n",
              "mean     20.388022    23.842754  ...     0.150337     0.142682\n",
              "std       7.882911     8.575272  ...     0.357456     0.349802\n",
              "min       0.820000     0.760000  ...     0.000000     0.000000\n",
              "25%      13.940000    16.665000  ...     0.000000     0.000000\n",
              "50%      20.500000    24.240000  ...     0.000000     0.000000\n",
              "75%      27.060000    31.060000  ...     0.000000     0.000000\n",
              "max      39.360000    45.455000  ...     1.000000     1.000000\n",
              "\n",
              "[8 rows x 21 columns]"
            ]
          },
          "metadata": {
            "tags": []
          },
          "execution_count": 4
        }
      ]
    },
    {
      "cell_type": "code",
      "metadata": {
        "id": "TSyVOaL5zSn4"
      },
      "source": [
        "# pd dataframe을 numpy 배열로 변환\n",
        "X_train = X_train.values\n",
        "X_test = X_test.values\n",
        "y_train = y_train.values\n",
        "y_test = y_test.values"
      ],
      "execution_count": null,
      "outputs": []
    },
    {
      "cell_type": "markdown",
      "metadata": {
        "id": "mLUiMAbnH6Hr"
      },
      "source": [
        "# 범주형변수 / 수치형변수 나누기"
      ]
    },
    {
      "cell_type": "code",
      "metadata": {
        "colab": {
          "base_uri": "https://localhost:8080/",
          "height": 338
        },
        "id": "VNx2i10QHE-9",
        "outputId": "b4b1524a-566c-41f8-fae9-cb9289f07943"
      },
      "source": [
        "sns.distplot(all['windspeed']);"
      ],
      "execution_count": null,
      "outputs": [
        {
          "output_type": "stream",
          "text": [
            "/usr/local/lib/python3.6/dist-packages/seaborn/distributions.py:2557: FutureWarning: `distplot` is a deprecated function and will be removed in a future version. Please adapt your code to use either `displot` (a figure-level function with similar flexibility) or `histplot` (an axes-level function for histograms).\n",
            "  warnings.warn(msg, FutureWarning)\n"
          ],
          "name": "stderr"
        },
        {
          "output_type": "display_data",
          "data": {
            "image/png": "[encoded data removed]",
            "text/plain": [
              "<Figure size 432x288 with 1 Axes>"
            ]
          },
          "metadata": {
            "tags": [],
            "needs_background": "light"
          }
        }
      ]
    },
    {
      "cell_type": "markdown",
      "metadata": {
        "id": "gHhB0PRnEIbJ"
      },
      "source": [
        "\n",
        "\n",
        "\n",
        "\n",
        "\n",
        "\n",
        "\n",
        "\n",
        "\n",
        "# **Classification cv_stacking**\n"
      ]
    },
    {
      "cell_type": "code",
      "metadata": {
        "id": "IohwxdjwWQ7f"
      },
      "source": [
        "############ classification\n",
        "from sklearn.svm import SVC\n",
        "from sklearn.neural_network import MLPClassifier\n",
        "from sklearn.ensemble import RandomForestClassifier\n",
        "\n",
        "svm = SVC()\n",
        "rf = RandomForestClassifier()\n",
        "logis = LogisticRegression()\n",
        "nnet = MLPClassifier()\n",
        "\n",
        "## classification dataset\n",
        "os.chdir(\"/content/drive/MyDrive/응통_통계연구논문\")"
      ],
      "execution_count": null,
      "outputs": []
    },
    {
      "cell_type": "code",
      "metadata": {
        "id": "-Pb3tbtD-i9b"
      },
      "source": [
        "def get_stacking_dat(model, X_train, y_train, X_test, n_folds):\n",
        "  kfold = KFold(n_splits = n_folds, random_state = 0, shuffle=False)\n",
        "\n",
        "  #최종 모델에서 사용할 데이터셋 셋팅(0 값으로)\n",
        "  #만약 shape가 (100,10) 이었으면 폴드의 검증 과정에서 저장할 데이터는 (100,1) 모양을 갖게 한다.\n",
        "  train_fold_predict = np.zeros((X_train.shape[0],1))   # 2차원으로 \n",
        "  # test는 X_test 값을 이용해서 매 폴드마다 예측을 하기 때문에 (100, fold개수) 만큼의 shape를 각제 된다.\n",
        "  # 그래서 해당 폴드마다 X_test의 예측 값을 해당 fold에 해당되는 열에 넣는다.\n",
        "  test_predict = np.zeros((X_test.shape[0], n_folds))\n",
        "  print(\"model : \", model.__class__.__name__)\n",
        "\n",
        "  for cnt, (train_index, valid_index) in enumerate(kfold.split(X_train)):\n",
        "    print(f\" Fold 횟수 : {cnt+1}\")\n",
        "    X_train_ = X_train[train_index]\n",
        "    y_train_ = y_train[train_index]\n",
        "    X_validation = X_train[valid_index]\n",
        "\n",
        "    #학습 (개별 모델이 학습한 후 1개의 fold데이터셋으로 예측값 반환 후 최종 메타모델이 학습할 데이터셋에 첨가)\n",
        "    model.fit(X_train_, y_train_)\n",
        "\n",
        "    #해당 폴드에서 학습된 모델에다가 검증 데이터(X_validation)로 예측 후 저장\n",
        "    train_fold_predict[valid_index, :] = model.predict(X_validation).reshape(-1,1)\n",
        "\n",
        "    #해당 폴드에서 생성된 모델에 원본 테스트 데이터(X_test)를 이용해서 예측 후 최종 메타모델이 검증할 데이터셋에 저장\n",
        "    test_predict[:, cnt] = model.predict(X_test)\n",
        "\n",
        "  #for문이 끝나면 test_predict는 평균을 내서 하나로 합친다.\n",
        "  # 개별모델안에서 테스트 데이터셋을 기반으로 예측한 결과값들을 mean 취해주고 2차원으로 바꾸어주기\n",
        "  test_predict_mean = np.mean(test_predict, axis=1).reshape(-1,1)\n",
        "\n",
        "  return train_fold_predict, test_predict_mean\n"
      ],
      "execution_count": null,
      "outputs": []
    },
    {
      "cell_type": "code",
      "metadata": {
        "id": "7JwLI9Ie-jCH"
      },
      "source": [
        "svm_train, svm_test = get_stacking_dat(svm, X_train, y_train, X_test, n_folds = 5)\n",
        "rf_train, rf_test = get_stacking_dat(rf, X_train, y_train, X_test, n_folds = 5)\n",
        "nnet_train, nnet_test = get_stacking_dat(nnet, X_train, y_train, X_test, n_folds = 5)"
      ],
      "execution_count": null,
      "outputs": []
    },
    {
      "cell_type": "code",
      "metadata": {
        "id": "uy2a1GV_-jHn"
      },
      "source": [
        "# 개별모델이 생성한 학습/검증 데이터 최종 메타 모델이 학습/검증하도록 결합\n",
        "new_X_train = np.concatenate((svm_train, rf_train, nnet_train), axis = 1)\n",
        "new_X_test = np.concatenate((svm_test, rf_test, nnet_test), axis = 1)"
      ],
      "execution_count": null,
      "outputs": []
    },
    {
      "cell_type": "code",
      "metadata": {
        "colab": {
          "base_uri": "https://localhost:8080/"
        },
        "id": "c6zzspXS-jM1",
        "outputId": "acf6ef63-4e80-45fd-a480-d6b54ece932c"
      },
      "source": [
        "print(\"원본 : \", X_train.shape, X_test.shape)\n",
        "print(\"새로운 : \", new_X_train.shape, new_X_test.shape)"
      ],
      "execution_count": null,
      "outputs": [
        {
          "output_type": "stream",
          "text": [
            "원본 :  (21000, 35) (9000, 35)\n",
            "새로운 :  (21000, 3) (9000, 3)\n"
          ],
          "name": "stdout"
        }
      ]
    },
    {
      "cell_type": "code",
      "metadata": {
        "id": "q8AIL4bfwqBU"
      },
      "source": [
        "#최종 메타모델로 학습\n",
        "#최종 메타모델 학습시 label은 원본데이터의 label(y값)\n",
        "logis.fit(new_X_train, y_train)\n",
        "stack_pred = logis.predict(new_X_test)\n",
        "\n",
        "#최종 메타모델 성능 평가(비교할 때 원본 데이터의 검증 데이터 label과 비교)\n",
        "print(f\"최종 메타모델 정확도 : {accuracy_score(stack_pred, y_test):.4f}\")"
      ],
      "execution_count": null,
      "outputs": []
    },
    {
      "cell_type": "markdown",
      "metadata": {
        "id": "s5V20ISJFXdO"
      },
      "source": [
        "# **모델 성능을 나타내는 함수 get_accuracy : (accuracy)**"
      ]
    },
    {
      "cell_type": "code",
      "metadata": {
        "id": "MrQMpHhacq5S"
      },
      "source": [
        "##### 모델 성능을 나타내는 함수 (accuracy)\n",
        "def get_accuracy(model, X_train, y_train, X_test, y_test):\n",
        "  model.fit(X_train, y_train)\n",
        "  model.pred = model.predict(X_test)\n",
        "  print(\"최종 메타모델 정확도 : {0:.4f}\".format(accuracy_score(model.pred, y_test)))\n",
        "  print(model.pred)"
      ],
      "execution_count": null,
      "outputs": []
    },
    {
      "cell_type": "code",
      "metadata": {
        "id": "KgRXfkTidLVe"
      },
      "source": [
        "print(get_accuracy(svm, X_train, y_train, X_test, y_test))\n",
        "print(get_accuracy(rf, X_train, y_train, X_test, y_test))\n",
        "print(get_accuracy(nnet, X_train, y_train, X_test, y_test))\n",
        "print(get_accuracy(logis, new_X_train, y_train, new_X_test, y_test))"
      ],
      "execution_count": null,
      "outputs": []
    },
    {
      "cell_type": "markdown",
      "metadata": {
        "id": "j4tIbjMlD1_N"
      },
      "source": [
        "# **Regression cv-stacking**"
      ]
    },
    {
      "cell_type": "code",
      "metadata": {
        "id": "fHlmIRdqK0fS"
      },
      "source": [
        "##### Regression\n",
        "from sklearn.neural_network import MLPRegressor\n",
        "from sklearn.svm import SVR\n",
        "from sklearn.ensemble import RandomForestRegressor\n",
        "# 생성된 회귀분석모델에 대한 결정계수 MSE, RMSE를 구해보자. \n",
        "from sklearn.metrics import mean_squared_error\n",
        "from sklearn.model_selection import GridSearchCV\n",
        "from sklearn.metrics import fbeta_score, make_scorer\n",
        "\n",
        "svm = SVR()\n",
        "rf = RandomForestRegressor()\n",
        "lr = LinearRegression()\n",
        "logis = LogisticRegression()\n",
        "nnet = MLPRegressor()"
      ],
      "execution_count": null,
      "outputs": []
    },
    {
      "cell_type": "code",
      "metadata": {
        "colab": {
          "base_uri": "https://localhost:8080/"
        },
        "id": "_IM3GYvLXsSo",
        "outputId": "ada64df2-2411-40a9-9b2a-ca5ab4229204"
      },
      "source": [
        "svm_train, svm_test = get_stacking_dat(svm, X_train, y_train, X_test, n_folds = 10)\n",
        "rf_train, rf_test = get_stacking_dat(rf, X_train, y_train, X_test, n_folds = 10)\n",
        "nnet_train, nnet_test = get_stacking_dat(nnet, X_train, y_train, X_test, n_folds = 10)"
      ],
      "execution_count": null,
      "outputs": [
        {
          "output_type": "stream",
          "text": [
            "/usr/local/lib/python3.6/dist-packages/sklearn/model_selection/_split.py:296: FutureWarning: Setting a random_state has no effect since shuffle is False. This will raise an error in 0.24. You should leave random_state to its default (None), or set shuffle=True.\n",
            "  FutureWarning\n",
            "/usr/local/lib/python3.6/dist-packages/sklearn/utils/validation.py:760: DataConversionWarning: A column-vector y was passed when a 1d array was expected. Please change the shape of y to (n_samples, ), for example using ravel().\n",
            "  y = column_or_1d(y, warn=True)\n"
          ],
          "name": "stderr"
        },
        {
          "output_type": "stream",
          "text": [
            "model :  SVR\n",
            " Fold 횟수 : 1\n",
            " Fold 횟수 : 2\n"
          ],
          "name": "stdout"
        },
        {
          "output_type": "stream",
          "text": [
            "/usr/local/lib/python3.6/dist-packages/sklearn/utils/validation.py:760: DataConversionWarning: A column-vector y was passed when a 1d array was expected. Please change the shape of y to (n_samples, ), for example using ravel().\n",
            "  y = column_or_1d(y, warn=True)\n"
          ],
          "name": "stderr"
        },
        {
          "output_type": "stream",
          "text": [
            " Fold 횟수 : 3\n"
          ],
          "name": "stdout"
        },
        {
          "output_type": "stream",
          "text": [
            "/usr/local/lib/python3.6/dist-packages/sklearn/utils/validation.py:760: DataConversionWarning: A column-vector y was passed when a 1d array was expected. Please change the shape of y to (n_samples, ), for example using ravel().\n",
            "  y = column_or_1d(y, warn=True)\n"
          ],
          "name": "stderr"
        },
        {
          "output_type": "stream",
          "text": [
            " Fold 횟수 : 4\n"
          ],
          "name": "stdout"
        },
        {
          "output_type": "stream",
          "text": [
            "/usr/local/lib/python3.6/dist-packages/sklearn/utils/validation.py:760: DataConversionWarning: A column-vector y was passed when a 1d array was expected. Please change the shape of y to (n_samples, ), for example using ravel().\n",
            "  y = column_or_1d(y, warn=True)\n"
          ],
          "name": "stderr"
        },
        {
          "output_type": "stream",
          "text": [
            " Fold 횟수 : 5\n"
          ],
          "name": "stdout"
        },
        {
          "output_type": "stream",
          "text": [
            "/usr/local/lib/python3.6/dist-packages/sklearn/utils/validation.py:760: DataConversionWarning: A column-vector y was passed when a 1d array was expected. Please change the shape of y to (n_samples, ), for example using ravel().\n",
            "  y = column_or_1d(y, warn=True)\n"
          ],
          "name": "stderr"
        },
        {
          "output_type": "stream",
          "text": [
            " Fold 횟수 : 6\n"
          ],
          "name": "stdout"
        },
        {
          "output_type": "stream",
          "text": [
            "/usr/local/lib/python3.6/dist-packages/sklearn/utils/validation.py:760: DataConversionWarning: A column-vector y was passed when a 1d array was expected. Please change the shape of y to (n_samples, ), for example using ravel().\n",
            "  y = column_or_1d(y, warn=True)\n"
          ],
          "name": "stderr"
        },
        {
          "output_type": "stream",
          "text": [
            " Fold 횟수 : 7\n"
          ],
          "name": "stdout"
        },
        {
          "output_type": "stream",
          "text": [
            "/usr/local/lib/python3.6/dist-packages/sklearn/utils/validation.py:760: DataConversionWarning: A column-vector y was passed when a 1d array was expected. Please change the shape of y to (n_samples, ), for example using ravel().\n",
            "  y = column_or_1d(y, warn=True)\n"
          ],
          "name": "stderr"
        },
        {
          "output_type": "stream",
          "text": [
            " Fold 횟수 : 8\n"
          ],
          "name": "stdout"
        },
        {
          "output_type": "stream",
          "text": [
            "/usr/local/lib/python3.6/dist-packages/sklearn/utils/validation.py:760: DataConversionWarning: A column-vector y was passed when a 1d array was expected. Please change the shape of y to (n_samples, ), for example using ravel().\n",
            "  y = column_or_1d(y, warn=True)\n"
          ],
          "name": "stderr"
        },
        {
          "output_type": "stream",
          "text": [
            " Fold 횟수 : 9\n"
          ],
          "name": "stdout"
        },
        {
          "output_type": "stream",
          "text": [
            "/usr/local/lib/python3.6/dist-packages/sklearn/utils/validation.py:760: DataConversionWarning: A column-vector y was passed when a 1d array was expected. Please change the shape of y to (n_samples, ), for example using ravel().\n",
            "  y = column_or_1d(y, warn=True)\n"
          ],
          "name": "stderr"
        },
        {
          "output_type": "stream",
          "text": [
            " Fold 횟수 : 10\n"
          ],
          "name": "stdout"
        },
        {
          "output_type": "stream",
          "text": [
            "/usr/local/lib/python3.6/dist-packages/sklearn/utils/validation.py:760: DataConversionWarning: A column-vector y was passed when a 1d array was expected. Please change the shape of y to (n_samples, ), for example using ravel().\n",
            "  y = column_or_1d(y, warn=True)\n",
            "/usr/local/lib/python3.6/dist-packages/sklearn/model_selection/_split.py:296: FutureWarning: Setting a random_state has no effect since shuffle is False. This will raise an error in 0.24. You should leave random_state to its default (None), or set shuffle=True.\n",
            "  FutureWarning\n",
            "/usr/local/lib/python3.6/dist-packages/ipykernel_launcher.py:19: DataConversionWarning: A column-vector y was passed when a 1d array was expected. Please change the shape of y to (n_samples,), for example using ravel().\n"
          ],
          "name": "stderr"
        },
        {
          "output_type": "stream",
          "text": [
            "model :  RandomForestRegressor\n",
            " Fold 횟수 : 1\n",
            " Fold 횟수 : 2\n"
          ],
          "name": "stdout"
        },
        {
          "output_type": "stream",
          "text": [
            "/usr/local/lib/python3.6/dist-packages/ipykernel_launcher.py:19: DataConversionWarning: A column-vector y was passed when a 1d array was expected. Please change the shape of y to (n_samples,), for example using ravel().\n"
          ],
          "name": "stderr"
        },
        {
          "output_type": "stream",
          "text": [
            " Fold 횟수 : 3\n"
          ],
          "name": "stdout"
        },
        {
          "output_type": "stream",
          "text": [
            "/usr/local/lib/python3.6/dist-packages/ipykernel_launcher.py:19: DataConversionWarning: A column-vector y was passed when a 1d array was expected. Please change the shape of y to (n_samples,), for example using ravel().\n"
          ],
          "name": "stderr"
        },
        {
          "output_type": "stream",
          "text": [
            " Fold 횟수 : 4\n"
          ],
          "name": "stdout"
        },
        {
          "output_type": "stream",
          "text": [
            "/usr/local/lib/python3.6/dist-packages/ipykernel_launcher.py:19: DataConversionWarning: A column-vector y was passed when a 1d array was expected. Please change the shape of y to (n_samples,), for example using ravel().\n"
          ],
          "name": "stderr"
        },
        {
          "output_type": "stream",
          "text": [
            " Fold 횟수 : 5\n"
          ],
          "name": "stdout"
        },
        {
          "output_type": "stream",
          "text": [
            "/usr/local/lib/python3.6/dist-packages/ipykernel_launcher.py:19: DataConversionWarning: A column-vector y was passed when a 1d array was expected. Please change the shape of y to (n_samples,), for example using ravel().\n"
          ],
          "name": "stderr"
        },
        {
          "output_type": "stream",
          "text": [
            " Fold 횟수 : 6\n"
          ],
          "name": "stdout"
        },
        {
          "output_type": "stream",
          "text": [
            "/usr/local/lib/python3.6/dist-packages/ipykernel_launcher.py:19: DataConversionWarning: A column-vector y was passed when a 1d array was expected. Please change the shape of y to (n_samples,), for example using ravel().\n"
          ],
          "name": "stderr"
        },
        {
          "output_type": "stream",
          "text": [
            " Fold 횟수 : 7\n"
          ],
          "name": "stdout"
        },
        {
          "output_type": "stream",
          "text": [
            "/usr/local/lib/python3.6/dist-packages/ipykernel_launcher.py:19: DataConversionWarning: A column-vector y was passed when a 1d array was expected. Please change the shape of y to (n_samples,), for example using ravel().\n"
          ],
          "name": "stderr"
        },
        {
          "output_type": "stream",
          "text": [
            " Fold 횟수 : 8\n"
          ],
          "name": "stdout"
        },
        {
          "output_type": "stream",
          "text": [
            "/usr/local/lib/python3.6/dist-packages/ipykernel_launcher.py:19: DataConversionWarning: A column-vector y was passed when a 1d array was expected. Please change the shape of y to (n_samples,), for example using ravel().\n"
          ],
          "name": "stderr"
        },
        {
          "output_type": "stream",
          "text": [
            " Fold 횟수 : 9\n"
          ],
          "name": "stdout"
        },
        {
          "output_type": "stream",
          "text": [
            "/usr/local/lib/python3.6/dist-packages/ipykernel_launcher.py:19: DataConversionWarning: A column-vector y was passed when a 1d array was expected. Please change the shape of y to (n_samples,), for example using ravel().\n"
          ],
          "name": "stderr"
        },
        {
          "output_type": "stream",
          "text": [
            " Fold 횟수 : 10\n"
          ],
          "name": "stdout"
        },
        {
          "output_type": "stream",
          "text": [
            "/usr/local/lib/python3.6/dist-packages/ipykernel_launcher.py:19: DataConversionWarning: A column-vector y was passed when a 1d array was expected. Please change the shape of y to (n_samples,), for example using ravel().\n",
            "/usr/local/lib/python3.6/dist-packages/sklearn/model_selection/_split.py:296: FutureWarning: Setting a random_state has no effect since shuffle is False. This will raise an error in 0.24. You should leave random_state to its default (None), or set shuffle=True.\n",
            "  FutureWarning\n",
            "/usr/local/lib/python3.6/dist-packages/sklearn/neural_network/_multilayer_perceptron.py:1342: DataConversionWarning: A column-vector y was passed when a 1d array was expected. Please change the shape of y to (n_samples, ), for example using ravel().\n",
            "  y = column_or_1d(y, warn=True)\n"
          ],
          "name": "stderr"
        },
        {
          "output_type": "stream",
          "text": [
            "model :  MLPRegressor\n",
            " Fold 횟수 : 1\n",
            " Fold 횟수 : 2\n"
          ],
          "name": "stdout"
        },
        {
          "output_type": "stream",
          "text": [
            "/usr/local/lib/python3.6/dist-packages/sklearn/neural_network/_multilayer_perceptron.py:1342: DataConversionWarning: A column-vector y was passed when a 1d array was expected. Please change the shape of y to (n_samples, ), for example using ravel().\n",
            "  y = column_or_1d(y, warn=True)\n",
            "/usr/local/lib/python3.6/dist-packages/sklearn/neural_network/_multilayer_perceptron.py:571: ConvergenceWarning: Stochastic Optimizer: Maximum iterations (200) reached and the optimization hasn't converged yet.\n",
            "  % self.max_iter, ConvergenceWarning)\n",
            "/usr/local/lib/python3.6/dist-packages/sklearn/neural_network/_multilayer_perceptron.py:1342: DataConversionWarning: A column-vector y was passed when a 1d array was expected. Please change the shape of y to (n_samples, ), for example using ravel().\n",
            "  y = column_or_1d(y, warn=True)\n"
          ],
          "name": "stderr"
        },
        {
          "output_type": "stream",
          "text": [
            " Fold 횟수 : 3\n",
            " Fold 횟수 : 4\n"
          ],
          "name": "stdout"
        },
        {
          "output_type": "stream",
          "text": [
            "/usr/local/lib/python3.6/dist-packages/sklearn/neural_network/_multilayer_perceptron.py:1342: DataConversionWarning: A column-vector y was passed when a 1d array was expected. Please change the shape of y to (n_samples, ), for example using ravel().\n",
            "  y = column_or_1d(y, warn=True)\n"
          ],
          "name": "stderr"
        },
        {
          "output_type": "stream",
          "text": [
            " Fold 횟수 : 5\n"
          ],
          "name": "stdout"
        },
        {
          "output_type": "stream",
          "text": [
            "/usr/local/lib/python3.6/dist-packages/sklearn/neural_network/_multilayer_perceptron.py:1342: DataConversionWarning: A column-vector y was passed when a 1d array was expected. Please change the shape of y to (n_samples, ), for example using ravel().\n",
            "  y = column_or_1d(y, warn=True)\n",
            "/usr/local/lib/python3.6/dist-packages/sklearn/neural_network/_multilayer_perceptron.py:571: ConvergenceWarning: Stochastic Optimizer: Maximum iterations (200) reached and the optimization hasn't converged yet.\n",
            "  % self.max_iter, ConvergenceWarning)\n",
            "/usr/local/lib/python3.6/dist-packages/sklearn/neural_network/_multilayer_perceptron.py:1342: DataConversionWarning: A column-vector y was passed when a 1d array was expected. Please change the shape of y to (n_samples, ), for example using ravel().\n",
            "  y = column_or_1d(y, warn=True)\n"
          ],
          "name": "stderr"
        },
        {
          "output_type": "stream",
          "text": [
            " Fold 횟수 : 6\n",
            " Fold 횟수 : 7\n"
          ],
          "name": "stdout"
        },
        {
          "output_type": "stream",
          "text": [
            "/usr/local/lib/python3.6/dist-packages/sklearn/neural_network/_multilayer_perceptron.py:1342: DataConversionWarning: A column-vector y was passed when a 1d array was expected. Please change the shape of y to (n_samples, ), for example using ravel().\n",
            "  y = column_or_1d(y, warn=True)\n",
            "/usr/local/lib/python3.6/dist-packages/sklearn/neural_network/_multilayer_perceptron.py:571: ConvergenceWarning: Stochastic Optimizer: Maximum iterations (200) reached and the optimization hasn't converged yet.\n",
            "  % self.max_iter, ConvergenceWarning)\n",
            "/usr/local/lib/python3.6/dist-packages/sklearn/neural_network/_multilayer_perceptron.py:1342: DataConversionWarning: A column-vector y was passed when a 1d array was expected. Please change the shape of y to (n_samples, ), for example using ravel().\n",
            "  y = column_or_1d(y, warn=True)\n"
          ],
          "name": "stderr"
        },
        {
          "output_type": "stream",
          "text": [
            " Fold 횟수 : 8\n",
            " Fold 횟수 : 9\n"
          ],
          "name": "stdout"
        },
        {
          "output_type": "stream",
          "text": [
            "/usr/local/lib/python3.6/dist-packages/sklearn/neural_network/_multilayer_perceptron.py:1342: DataConversionWarning: A column-vector y was passed when a 1d array was expected. Please change the shape of y to (n_samples, ), for example using ravel().\n",
            "  y = column_or_1d(y, warn=True)\n",
            "/usr/local/lib/python3.6/dist-packages/sklearn/neural_network/_multilayer_perceptron.py:571: ConvergenceWarning: Stochastic Optimizer: Maximum iterations (200) reached and the optimization hasn't converged yet.\n",
            "  % self.max_iter, ConvergenceWarning)\n",
            "/usr/local/lib/python3.6/dist-packages/sklearn/neural_network/_multilayer_perceptron.py:1342: DataConversionWarning: A column-vector y was passed when a 1d array was expected. Please change the shape of y to (n_samples, ), for example using ravel().\n",
            "  y = column_or_1d(y, warn=True)\n"
          ],
          "name": "stderr"
        },
        {
          "output_type": "stream",
          "text": [
            " Fold 횟수 : 10\n"
          ],
          "name": "stdout"
        },
        {
          "output_type": "stream",
          "text": [
            "/usr/local/lib/python3.6/dist-packages/sklearn/neural_network/_multilayer_perceptron.py:571: ConvergenceWarning: Stochastic Optimizer: Maximum iterations (200) reached and the optimization hasn't converged yet.\n",
            "  % self.max_iter, ConvergenceWarning)\n"
          ],
          "name": "stderr"
        }
      ]
    },
    {
      "cell_type": "markdown",
      "metadata": {
        "id": "ULeI4ncuDxSk"
      },
      "source": [
        "## **gridsearch 작업 코드**  (일단 보류)"
      ]
    },
    {
      "cell_type": "code",
      "metadata": {
        "id": "B0ZKEk68CDHP"
      },
      "source": [
        "# # rmsle\n",
        "# def rmsle(y, y_,convertExp=True):\n",
        "#     if convertExp:\n",
        "#         y = np.exp(y),\n",
        "#         y_ = np.exp(y_)\n",
        "#     log1 = np.nan_to_num(np.array([np.log(v + 1) for v in y]))\n",
        "#     log2 = np.nan_to_num(np.array([np.log(v + 1) for v in y_]))\n",
        "#     calc = (log1 - log2) ** 2\n",
        "#     return np.sqrt(np.mean(calc))"
      ],
      "execution_count": null,
      "outputs": []
    },
    {
      "cell_type": "code",
      "metadata": {
        "id": "uj6MIONEBB3G"
      },
      "source": [
        "# #You can do grid search in SVM\n",
        "# scorer = make_scorer(rmsle, greater_is_better=False)\n",
        "# params = {'coef0':[0, 0.1, 0.5, 1], 'C' :[0.1, 0.5, 1], 'epsilon':[0.1, 0.3, 0.5]}\n",
        "\n",
        "# grid_search = GridSearchCV(svm, params, cv=5, scoring=scorer)\n",
        "# grid_search.fit(X_train, y_train)"
      ],
      "execution_count": null,
      "outputs": []
    },
    {
      "cell_type": "code",
      "metadata": {
        "id": "CwR8bDluBQF8"
      },
      "source": [
        "# grid_search.best_estimator_"
      ],
      "execution_count": null,
      "outputs": []
    },
    {
      "cell_type": "code",
      "metadata": {
        "id": "8P81nr64BU_4"
      },
      "source": [
        "#You can do grid search in RandomForest\n",
        "\n",
        "# param_grid = [\n",
        "#    {'n_estimators': [3, 10, 30, 60, 90], 'max_features': [10,20,30,40,50]},\n",
        "#    {'bootstrap': [True], 'n_estimators': [3, 10, 30, 60, 90], 'max_features': [10,20,30,40,50]},\n",
        "# ]\n",
        "\n",
        "# grid_search = GridSearchCV(rf, param_grid, cv=5, scoring=scorer)\n",
        "# grid_search.fit(X_train, y_train)"
      ],
      "execution_count": null,
      "outputs": []
    },
    {
      "cell_type": "code",
      "metadata": {
        "id": "qrw81sErBfTT"
      },
      "source": [
        "# grid_search.best_estimator_"
      ],
      "execution_count": null,
      "outputs": []
    },
    {
      "cell_type": "code",
      "metadata": {
        "colab": {
          "base_uri": "https://localhost:8080/"
        },
        "id": "puWH-fjyXseB",
        "outputId": "ae4d36c3-9196-4b08-83b6-24925467adcd"
      },
      "source": [
        "new_X_train = np.concatenate((svm_train, rf_train, nnet_train), axis = 1)\n",
        "new_X_test = np.concatenate((svm_test, rf_test, nnet_test), axis = 1)\n",
        "print(\"원본 : \", X_train.shape, X_test.shape)\n",
        "print(\"새로운 : \", new_X_train.shape, new_X_test.shape)\n"
      ],
      "execution_count": null,
      "outputs": [
        {
          "output_type": "stream",
          "text": [
            "원본 :  (7620, 21) (3266, 21)\n",
            "새로운 :  (7620, 3) (3266, 3)\n"
          ],
          "name": "stdout"
        }
      ]
    },
    {
      "cell_type": "code",
      "metadata": {
        "id": "162MC9uPXslR"
      },
      "source": [
        "lr.fit(new_X_train, y_train)\n",
        "stack_pred = lr.predict(new_X_test)\n"
      ],
      "execution_count": null,
      "outputs": []
    },
    {
      "cell_type": "markdown",
      "metadata": {
        "id": "zLk82a9UFCxi"
      },
      "source": [
        "# **모델성능을 나타내는 함수 get_mse  : (score, MSE, RMSE)**\n",
        "\n",
        "\n"
      ]
    },
    {
      "cell_type": "code",
      "metadata": {
        "id": "P64704PeamCw"
      },
      "source": [
        "##### 모델 성능을 나타내는 함수 (score, MSE, RMSE)\n",
        "def get_mse(model, X_train, y_train, X_test, y_test):\n",
        "  model.fit(X_train, y_train)\n",
        "  model_pred = model.predict(X_test)\n",
        "\n",
        "  # 적합도 검증 - 잔차\n",
        "  residuals = y_test-model_pred\n",
        "\n",
        "  # 적합도 검증 - 결정계수\n",
        "  SSE = (residuals**2).sum()\n",
        "  SST = ((y_test-y_test.mean())**2).sum()\n",
        "  R_squared = 1 - (SSE/SST)\n",
        "  print('R_squared = ', R_squared)\n",
        "\n",
        "  # 생성된 회귀분석모델에 대한 결정계수, MSE, RMSE를 구해보자. \n",
        "  print('score = ', model.score(X = X_train, y=y_train))\n",
        "  print('Mean_Squared_Error = ', mean_squared_error(model_pred, y_test))\n",
        "  print('RMSE = ', mean_squared_error(model_pred, y_test)**0.5)\n",
        "\n"
      ],
      "execution_count": null,
      "outputs": []
    },
    {
      "cell_type": "code",
      "metadata": {
        "colab": {
          "base_uri": "https://localhost:8080/"
        },
        "id": "yRT5Pih8bVTM",
        "outputId": "edaf564d-b589-4c95-be58-fd04d2b7be57"
      },
      "source": [
        "#print(get_mse(svm, X_train, y_train, X_test, y_test))\n",
        "#print(get_mse(rf, X_train, y_train, X_test, y_test))\n",
        "#print(get_mse(nnet, X_train, y_train, X_test, y_test))\n",
        "print(get_mse(lr, new_X_train, y_train, new_X_test, y_test))"
      ],
      "execution_count": null,
      "outputs": [
        {
          "output_type": "stream",
          "text": [
            "R_squared =  0.999999761681031\n",
            "score =  0.9999982080320119\n",
            "Mean_Squared_Error =  0.007814193555759992\n",
            "RMSE =  0.08839792732728519\n",
            "None\n"
          ],
          "name": "stdout"
        }
      ]
    },
    {
      "cell_type": "markdown",
      "metadata": {
        "id": "fQQj2ZYszWGq"
      },
      "source": [
        "**cv를 적용한 개별 모델들의 성능**"
      ]
    },
    {
      "cell_type": "code",
      "metadata": {
        "colab": {
          "base_uri": "https://localhost:8080/"
        },
        "id": "HFcsVQIbxqa8",
        "outputId": "19270ee9-8580-40a4-d03c-0be197aa417c"
      },
      "source": [
        "X_train_all = np.concatenate((X_train, X_test),axis=0)\n",
        "y_train_all = np.concatenate((y_train, y_test),axis=None)\n",
        "X_train_all.shape"
      ],
      "execution_count": null,
      "outputs": [
        {
          "output_type": "execute_result",
          "data": {
            "text/plain": [
              "(10886, 21)"
            ]
          },
          "metadata": {
            "tags": []
          },
          "execution_count": 76
        }
      ]
    },
    {
      "cell_type": "code",
      "metadata": {
        "colab": {
          "base_uri": "https://localhost:8080/"
        },
        "id": "u7ym9JWYtKje",
        "outputId": "fcfc8fc8-da74-4ac3-ba0d-1b76cb3182b5"
      },
      "source": [
        "from sklearn.model_selection import cross_val_score\n",
        "scores = cross_val_score(svm, X_train_all, y_train_all, scoring=\"r2\", cv=5)\n",
        "print(scores)\n",
        "print(\"교차 검증 평균 점수: {:.2f}\".format(scores.mean()))\n"
      ],
      "execution_count": null,
      "outputs": [
        {
          "output_type": "stream",
          "text": [
            "[0.96297784 0.96747531 0.9698155  0.98154234 0.94136347]\n",
            "교차 검증 평균 점수: 0.96\n"
          ],
          "name": "stdout"
        }
      ]
    },
    {
      "cell_type": "code",
      "metadata": {
        "colab": {
          "base_uri": "https://localhost:8080/"
        },
        "id": "zUhE3j49xe8L",
        "outputId": "4530199c-4dd9-4535-c6e5-433adce2987f"
      },
      "source": [
        "from sklearn.model_selection import cross_val_score\n",
        "scores = cross_val_score(rf, X_train_all, y_train_all, scoring=\"r2\", cv=5)\n",
        "print(scores)\n",
        "print(\"교차 검증 평균 점수: {:.2f}\".format(scores.mean()))\n"
      ],
      "execution_count": null,
      "outputs": [
        {
          "output_type": "stream",
          "text": [
            "[0.99976357 0.99975164 0.99979226 0.99959803 0.99956359]\n",
            "교차 검증 평균 점수: 1.00\n"
          ],
          "name": "stdout"
        }
      ]
    },
    {
      "cell_type": "code",
      "metadata": {
        "colab": {
          "base_uri": "https://localhost:8080/"
        },
        "id": "kF6cKs-LzaJW",
        "outputId": "52ad431b-0559-410f-eed8-ed88d34720dd"
      },
      "source": [
        "from sklearn.model_selection import cross_val_score\n",
        "scores = cross_val_score(nnet, X_train_all, y_train_all, scoring=\"r2\", cv=5)\n",
        "print(scores)\n",
        "print(\"교차 검증 평균 점수: {:.2f}\".format(scores.mean()))"
      ],
      "execution_count": null,
      "outputs": [
        {
          "output_type": "stream",
          "text": [
            "/usr/local/lib/python3.6/dist-packages/sklearn/neural_network/_multilayer_perceptron.py:571: ConvergenceWarning: Stochastic Optimizer: Maximum iterations (200) reached and the optimization hasn't converged yet.\n",
            "  % self.max_iter, ConvergenceWarning)\n",
            "/usr/local/lib/python3.6/dist-packages/sklearn/neural_network/_multilayer_perceptron.py:571: ConvergenceWarning: Stochastic Optimizer: Maximum iterations (200) reached and the optimization hasn't converged yet.\n",
            "  % self.max_iter, ConvergenceWarning)\n",
            "/usr/local/lib/python3.6/dist-packages/sklearn/neural_network/_multilayer_perceptron.py:571: ConvergenceWarning: Stochastic Optimizer: Maximum iterations (200) reached and the optimization hasn't converged yet.\n",
            "  % self.max_iter, ConvergenceWarning)\n"
          ],
          "name": "stderr"
        },
        {
          "output_type": "stream",
          "text": [
            "[0.99999827 0.99999869 0.99999867 0.99999809 0.99999844]\n",
            "교차 검증 평균 점수: 1.00\n"
          ],
          "name": "stdout"
        }
      ]
    }
  ]
}