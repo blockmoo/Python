{
  "nbformat": 4,
  "nbformat_minor": 0,
  "metadata": {
    "colab": {
      "name": "설문조사 주관식 분석.ipynb",
      "provenance": [],
      "collapsed_sections": [],
      "mount_file_id": "1zHwNvX6NGHVt895oJmgEa_yas6_pv0wF",
      "authorship_tag": "ABX9TyM1hnW5fImmWoc3qi/pvLM9",
      "include_colab_link": true
    },
    "kernelspec": {
      "name": "python3",
      "display_name": "Python 3"
    },
    "language_info": {
      "name": "python"
    }
  },
  "cells": [
    {
      "cell_type": "markdown",
      "metadata": {
        "id": "view-in-github",
        "colab_type": "text"
      },
      "source": [
        "<a href=\"https://colab.research.google.com/github/blockmoo/Python/blob/main/%EC%84%A4%EB%AC%B8%EC%A1%B0%EC%82%AC_%EC%A3%BC%EA%B4%80%EC%8B%9D_%EB%B6%84%EC%84%9D.ipynb\" target=\"_parent\"><img src=\"https://colab.research.google.com/assets/colab-badge.svg\" alt=\"Open In Colab\"/></a>"
      ]
    },
    {
      "cell_type": "code",
      "metadata": {
        "id": "n7pHPj_D_xmk"
      },
      "source": [
        "import os\n",
        "os.chdir(\"/content/drive/MyDrive/설문지 분석/주관식\")"
      ],
      "execution_count": null,
      "outputs": []
    },
    {
      "cell_type": "code",
      "metadata": {
        "id": "-hwg_frgAAw5"
      },
      "source": [
        "!pip install konlpy wordcloud"
      ],
      "execution_count": null,
      "outputs": []
    },
    {
      "cell_type": "code",
      "metadata": {
        "id": "64X7BM4gAAZD"
      },
      "source": [
        "import pandas as pd\n",
        "import numpy as np\n",
        "from konlpy.tag import Okt\n",
        "from collections import Counter\n",
        "import sys\n",
        "from wordcloud import WordCloud\n",
        "from konlpy.tag import Twitter\n",
        "import re\n",
        "import nltk\n",
        "import string # 단어 찾기"
      ],
      "execution_count": null,
      "outputs": []
    },
    {
      "cell_type": "code",
      "metadata": {
        "colab": {
          "base_uri": "https://localhost:8080/",
          "height": 255
        },
        "id": "IB0i_2GqAAzT",
        "outputId": "51caf29a-0b9e-4fe5-ef28-2d92aa74b77f"
      },
      "source": [
        "dt19 = pd.read_csv(\"2019_text.csv\", encoding=\"cp949\")\n",
        "dt19.head()"
      ],
      "execution_count": null,
      "outputs": [
        {
          "output_type": "execute_result",
          "data": {
            "text/html": [
              "<div>\n",
              "<style scoped>\n",
              "    .dataframe tbody tr th:only-of-type {\n",
              "        vertical-align: middle;\n",
              "    }\n",
              "\n",
              "    .dataframe tbody tr th {\n",
              "        vertical-align: top;\n",
              "    }\n",
              "\n",
              "    .dataframe thead th {\n",
              "        text-align: right;\n",
              "    }\n",
              "</style>\n",
              "<table border=\"1\" class=\"dataframe\">\n",
              "  <thead>\n",
              "    <tr style=\"text-align: right;\">\n",
              "      <th></th>\n",
              "      <th>연도</th>\n",
              "      <th>구분 ID</th>\n",
              "      <th>진단Level</th>\n",
              "      <th>평가자그룹명</th>\n",
              "      <th>42. 진단대상자의 '강점' 을 관찰한 행동 및 사례 중심으로 구체적으로 기술해 주십시오.\\n(※ 본인일 경우 본인의 강점 기술)</th>\n",
              "      <th>43. 진단대상자의 보완할 점이나 개발이 필요한 부분을 관찰한 행동 및 사례 중심으로 구체적으로 기술해 주십시오.\\n(※ 본인일 경우 본인의 개발 필요점 기술)</th>\n",
              "      <th>39. 강점/보완점 외에, 진단대상자의 리더십 역량 향상에 도움이 될만한 제언/의견을 자유롭게 기술해 주십시오.</th>\n",
              "    </tr>\n",
              "  </thead>\n",
              "  <tbody>\n",
              "    <tr>\n",
              "      <th>0</th>\n",
              "      <td>2019</td>\n",
              "      <td>ki0341</td>\n",
              "      <td>L1</td>\n",
              "      <td>본인</td>\n",
              "      <td>업무든 개인역량이든 솔선수범하여 업무 진행하는 스타일</td>\n",
              "      <td>미완된 과제에 대해서 끝까지 챙기는 부분 부족</td>\n",
              "      <td>본인이 실무적인 일을 하기 보다는 주로 부하직원들이 막혀 있는 요소가 무엇인지 찾고...</td>\n",
              "    </tr>\n",
              "    <tr>\n",
              "      <th>1</th>\n",
              "      <td>2019</td>\n",
              "      <td>dh0575</td>\n",
              "      <td>L1</td>\n",
              "      <td>본인</td>\n",
              "      <td>맡은바 업무를 완수하기 위해 최선의 노력을 다함.</td>\n",
              "      <td>부서원들에게 성과에 대해 주기적인 Feedback(1:1 미팅)이 부족함.</td>\n",
              "      <td>특이사항 없음.</td>\n",
              "    </tr>\n",
              "    <tr>\n",
              "      <th>2</th>\n",
              "      <td>2019</td>\n",
              "      <td>cy0680</td>\n",
              "      <td>L1</td>\n",
              "      <td>본인</td>\n",
              "      <td>책임감이 강하다</td>\n",
              "      <td>사업부 협업을 더욱 강하게 이끌 필요가 있다.</td>\n",
              "      <td>사업부 경험</td>\n",
              "    </tr>\n",
              "    <tr>\n",
              "      <th>3</th>\n",
              "      <td>2019</td>\n",
              "      <td>hy0227</td>\n",
              "      <td>L2</td>\n",
              "      <td>본인</td>\n",
              "      <td>분석력. 예측력, 추진력</td>\n",
              "      <td>다혈질적 성향</td>\n",
              "      <td>.</td>\n",
              "    </tr>\n",
              "    <tr>\n",
              "      <th>4</th>\n",
              "      <td>2019</td>\n",
              "      <td>kw7154</td>\n",
              "      <td>L1</td>\n",
              "      <td>본인</td>\n",
              "      <td>후배 사원들을 이해하고 소통하려고 노력함.</td>\n",
              "      <td>때로 다소 급한성격에 빠른 결과를 바라는 경향이 있음.</td>\n",
              "      <td>개개인의 성향을 잘알고 각자에 맞는 제언이나 도움을 주려고 노력중임.</td>\n",
              "    </tr>\n",
              "  </tbody>\n",
              "</table>\n",
              "</div>"
            ],
            "text/plain": [
              "     연도  ... 39. 강점/보완점 외에, 진단대상자의 리더십 역량 향상에 도움이 될만한 제언/의견을 자유롭게 기술해 주십시오. \n",
              "0  2019  ...  본인이 실무적인 일을 하기 보다는 주로 부하직원들이 막혀 있는 요소가 무엇인지 찾고...             \n",
              "1  2019  ...                                           특이사항 없음.             \n",
              "2  2019  ...                                             사업부 경험             \n",
              "3  2019  ...                                                  .             \n",
              "4  2019  ...             개개인의 성향을 잘알고 각자에 맞는 제언이나 도움을 주려고 노력중임.             \n",
              "\n",
              "[5 rows x 7 columns]"
            ]
          },
          "metadata": {
            "tags": []
          },
          "execution_count": 136
        }
      ]
    },
    {
      "cell_type": "code",
      "metadata": {
        "colab": {
          "base_uri": "https://localhost:8080/",
          "height": 444
        },
        "id": "RXeOxUJUJrIm",
        "outputId": "3136c52b-5624-43d6-9411-37887ef23b6d"
      },
      "source": [
        "본인19 = dt19[\"평가자그룹명\"] == \"본인\"\n",
        "상사19 = dt19[\"평가자그룹명\"] == \"상사\"\n",
        "부서원19 = dt19[\"평가자그룹명\"] == \"부서원\"\n",
        "동료19 = dt19[\"평가자그룹명\"] == \"동료\"\n",
        "타인19 = dt19[\"평가자그룹명\"] != \"본인\"\n",
        "dt19[타인19].tail(10)"
      ],
      "execution_count": null,
      "outputs": [
        {
          "output_type": "execute_result",
          "data": {
            "text/html": [
              "<div>\n",
              "<style scoped>\n",
              "    .dataframe tbody tr th:only-of-type {\n",
              "        vertical-align: middle;\n",
              "    }\n",
              "\n",
              "    .dataframe tbody tr th {\n",
              "        vertical-align: top;\n",
              "    }\n",
              "\n",
              "    .dataframe thead th {\n",
              "        text-align: right;\n",
              "    }\n",
              "</style>\n",
              "<table border=\"1\" class=\"dataframe\">\n",
              "  <thead>\n",
              "    <tr style=\"text-align: right;\">\n",
              "      <th></th>\n",
              "      <th>연도</th>\n",
              "      <th>구분 ID</th>\n",
              "      <th>진단Level</th>\n",
              "      <th>평가자그룹명</th>\n",
              "      <th>42. 진단대상자의 '강점' 을 관찰한 행동 및 사례 중심으로 구체적으로 기술해 주십시오.\\n(※ 본인일 경우 본인의 강점 기술)</th>\n",
              "      <th>43. 진단대상자의 보완할 점이나 개발이 필요한 부분을 관찰한 행동 및 사례 중심으로 구체적으로 기술해 주십시오.\\n(※ 본인일 경우 본인의 개발 필요점 기술)</th>\n",
              "      <th>39. 강점/보완점 외에, 진단대상자의 리더십 역량 향상에 도움이 될만한 제언/의견을 자유롭게 기술해 주십시오.</th>\n",
              "    </tr>\n",
              "  </thead>\n",
              "  <tbody>\n",
              "    <tr>\n",
              "      <th>37544</th>\n",
              "      <td>2019</td>\n",
              "      <td>sm2020</td>\n",
              "      <td>L1</td>\n",
              "      <td>부서원</td>\n",
              "      <td>유연한 사고 및 후배 업무의 결정권 부여, 제한 없는 의사 소통</td>\n",
              "      <td>지금보다 더 지속할 수 있는 건강관리 필요</td>\n",
              "      <td>.</td>\n",
              "    </tr>\n",
              "    <tr>\n",
              "      <th>37545</th>\n",
              "      <td>2019</td>\n",
              "      <td>pa1940</td>\n",
              "      <td>L1</td>\n",
              "      <td>부서원</td>\n",
              "      <td>.</td>\n",
              "      <td>.</td>\n",
              "      <td>.</td>\n",
              "    </tr>\n",
              "    <tr>\n",
              "      <th>37546</th>\n",
              "      <td>2019</td>\n",
              "      <td>pa1940</td>\n",
              "      <td>L1</td>\n",
              "      <td>부서원</td>\n",
              "      <td>여러사람의 의견을 청취하고 최선의 결정을 하려고 행동합니다.</td>\n",
              "      <td>도전적인 부서업무 목표를 수립하여 추진하면 좋겠습니다.</td>\n",
              "      <td>의견을 듣고 논의하여 결정하는 업무진행이 좋습니다.</td>\n",
              "    </tr>\n",
              "    <tr>\n",
              "      <th>37547</th>\n",
              "      <td>2019</td>\n",
              "      <td>pa1940</td>\n",
              "      <td>L1</td>\n",
              "      <td>부서원</td>\n",
              "      <td>설비 5D 및 SEUP 업무 관련 유연한 사고 방식으로 담당자에게 매사 적극적인 도...</td>\n",
              "      <td>항상 부서원들을 관심 가져 주셔서, 항상 고마운 마음으로 만족하고 있습니다.</td>\n",
              "      <td>항상 도움주셔서 감사합니다.</td>\n",
              "    </tr>\n",
              "    <tr>\n",
              "      <th>37548</th>\n",
              "      <td>2019</td>\n",
              "      <td>sy0796</td>\n",
              "      <td>L1</td>\n",
              "      <td>부서원</td>\n",
              "      <td>목표 달성을 위해 우리가 어떻게 해나가야 하는지 알려주는 상사</td>\n",
              "      <td>잘모르겠습니다.</td>\n",
              "      <td>부서원의 부족한 점에 대해 좀더 말을 해주면 좋을 것 같습니다.</td>\n",
              "    </tr>\n",
              "    <tr>\n",
              "      <th>37549</th>\n",
              "      <td>2019</td>\n",
              "      <td>hd0212</td>\n",
              "      <td>L3</td>\n",
              "      <td>부서원</td>\n",
              "      <td>본인의 책임의식, 신속한 의사 결정으로 부서원들의 고충을 해결해주며 후배 사원 육성...</td>\n",
              "      <td>현장의 소리를 빨리 직접 듣는것은 매우 바람직하고 현장에서 많은 동기 부여를 받고 ...</td>\n",
              "      <td>노동적인 제조의 고질적 문제를 시스템적으로 변화하는 제조가 되게 도와 주십시요.</td>\n",
              "    </tr>\n",
              "    <tr>\n",
              "      <th>37550</th>\n",
              "      <td>2019</td>\n",
              "      <td>zi0870</td>\n",
              "      <td>L1</td>\n",
              "      <td>동료</td>\n",
              "      <td>-</td>\n",
              "      <td>-</td>\n",
              "      <td>-</td>\n",
              "    </tr>\n",
              "    <tr>\n",
              "      <th>37551</th>\n",
              "      <td>2019</td>\n",
              "      <td>dw2021</td>\n",
              "      <td>L2</td>\n",
              "      <td>부서원</td>\n",
              "      <td>업무 목표에 대한 계획 및 추진력</td>\n",
              "      <td>수고하세요</td>\n",
              "      <td>수고하세요</td>\n",
              "    </tr>\n",
              "    <tr>\n",
              "      <th>37552</th>\n",
              "      <td>2019</td>\n",
              "      <td>ik1074</td>\n",
              "      <td>L2</td>\n",
              "      <td>상사</td>\n",
              "      <td>책임감있고 리더십을 가지고 조직을 잘 이끌어 나간다.</td>\n",
              "      <td>어학 능력을 더 키워서 글로벌한 업무를 잘 할 수 있도록 한다.</td>\n",
              "      <td>보다 도전적인 과제를 수행하면서 성공의 경험을 더 많이 쌓는다.</td>\n",
              "    </tr>\n",
              "    <tr>\n",
              "      <th>37553</th>\n",
              "      <td>2019</td>\n",
              "      <td>kw1075</td>\n",
              "      <td>L2</td>\n",
              "      <td>상사</td>\n",
              "      <td>지식 습득 능력, 소통 능력이 뛰어납니다.</td>\n",
              "      <td>추진력 보완을 하면 좋을 것 같습니다.</td>\n",
              "      <td>지금 같이 하시되, 좀더 자신감을 갖고 하시면 좋을 것 같습니다.</td>\n",
              "    </tr>\n",
              "  </tbody>\n",
              "</table>\n",
              "</div>"
            ],
            "text/plain": [
              "         연도  ... 39. 강점/보완점 외에, 진단대상자의 리더십 역량 향상에 도움이 될만한 제언/의견을 자유롭게 기술해 주십시오. \n",
              "37544  2019  ...                                                  .             \n",
              "37545  2019  ...                                                  .             \n",
              "37546  2019  ...                       의견을 듣고 논의하여 결정하는 업무진행이 좋습니다.             \n",
              "37547  2019  ...                                   항상 도움주셔서 감사합니다.              \n",
              "37548  2019  ...                부서원의 부족한 점에 대해 좀더 말을 해주면 좋을 것 같습니다.             \n",
              "37549  2019  ...       노동적인 제조의 고질적 문제를 시스템적으로 변화하는 제조가 되게 도와 주십시요.             \n",
              "37550  2019  ...                                                  -             \n",
              "37551  2019  ...                                              수고하세요             \n",
              "37552  2019  ...                보다 도전적인 과제를 수행하면서 성공의 경험을 더 많이 쌓는다.             \n",
              "37553  2019  ...               지금 같이 하시되, 좀더 자신감을 갖고 하시면 좋을 것 같습니다.             \n",
              "\n",
              "[10 rows x 7 columns]"
            ]
          },
          "metadata": {
            "tags": []
          },
          "execution_count": 137
        }
      ]
    },
    {
      "cell_type": "code",
      "metadata": {
        "colab": {
          "base_uri": "https://localhost:8080/",
          "height": 212
        },
        "id": "sSPCvdBIDRzm",
        "outputId": "4f221fb7-22cf-4356-9438-d294f832b2ce"
      },
      "source": [
        "dt20 = pd.read_csv(\"2020_text.csv\", encoding=\"cp949\")\n",
        "dt20.head(3)"
      ],
      "execution_count": null,
      "outputs": [
        {
          "output_type": "stream",
          "text": [
            "/usr/local/lib/python3.7/dist-packages/IPython/core/interactiveshell.py:2718: DtypeWarning: Columns (1,2,3,4,5,6,7,8,9) have mixed types.Specify dtype option on import or set low_memory=False.\n",
            "  interactivity=interactivity, compiler=compiler, result=result)\n"
          ],
          "name": "stderr"
        },
        {
          "output_type": "execute_result",
          "data": {
            "text/html": [
              "<div>\n",
              "<style scoped>\n",
              "    .dataframe tbody tr th:only-of-type {\n",
              "        vertical-align: middle;\n",
              "    }\n",
              "\n",
              "    .dataframe tbody tr th {\n",
              "        vertical-align: top;\n",
              "    }\n",
              "\n",
              "    .dataframe thead th {\n",
              "        text-align: right;\n",
              "    }\n",
              "</style>\n",
              "<table border=\"1\" class=\"dataframe\">\n",
              "  <thead>\n",
              "    <tr style=\"text-align: right;\">\n",
              "      <th></th>\n",
              "      <th>연도</th>\n",
              "      <th>구분ID</th>\n",
              "      <th>진단Level</th>\n",
              "      <th>직급</th>\n",
              "      <th>직책</th>\n",
              "      <th>임원여부</th>\n",
              "      <th>대직무</th>\n",
              "      <th>평가자그룹명</th>\n",
              "      <th>42. 진단대상자의 '강점' 을 관찰한 행동 및 사례 중심으로 구체적으로 기술해 주십시오.\\n(※ 본인일 경우 본인의 강점 기술)</th>\n",
              "      <th>43. 진단대상자의 보완할 점이나 개발이 필요한 부분을 관찰한 행동 및 사례 중심으로 구체적으로 기술해 주십시오.\\n(※ 본인일 경우 본인의 개발 필요점 기술)</th>\n",
              "    </tr>\n",
              "  </thead>\n",
              "  <tbody>\n",
              "    <tr>\n",
              "      <th>0</th>\n",
              "      <td>2020.0</td>\n",
              "      <td>le1195</td>\n",
              "      <td>L1</td>\n",
              "      <td>CL4</td>\n",
              "      <td>NaN</td>\n",
              "      <td>NaN</td>\n",
              "      <td>인사 (JFG)</td>\n",
              "      <td>본인</td>\n",
              "      <td>부서원과 주 2~3회 소통하고 있으며 업무상의 자율성을 부여하여 본인의 업무에 ow...</td>\n",
              "      <td>때때로 문제의 본질보다는 현상에 주목하여 문제해결에 시간을 낭비하는 경우가 있음.\\...</td>\n",
              "    </tr>\n",
              "    <tr>\n",
              "      <th>1</th>\n",
              "      <td>2020.0</td>\n",
              "      <td>ke1195</td>\n",
              "      <td>L1</td>\n",
              "      <td>CL4</td>\n",
              "      <td>NaN</td>\n",
              "      <td>NaN</td>\n",
              "      <td>영업 (JFG)</td>\n",
              "      <td>본인</td>\n",
              "      <td>다양한 정보와 분석을 통해 의사결정 및 문제해결에 적합한 솔루션을 제시함. 동료 들...</td>\n",
              "      <td>파트원들의 업무 역량 향상 및 동기부여에 좀 더 노력이 필요하며, 전체를 보는 통찰...</td>\n",
              "    </tr>\n",
              "    <tr>\n",
              "      <th>2</th>\n",
              "      <td>2020.0</td>\n",
              "      <td>so1196</td>\n",
              "      <td>L1</td>\n",
              "      <td>CL4</td>\n",
              "      <td>NaN</td>\n",
              "      <td>NaN</td>\n",
              "      <td>연구개발 (JFG)</td>\n",
              "      <td>본인</td>\n",
              "      <td>DRAM 설계라는 한 분야에서  20년이 넘는 시간동안 다양한 제품개발을 통해 많은...</td>\n",
              "      <td>타 부서와의 지속적인 협업을 통해 부서 업무를 개선할 수 있는 방안을 모색해 나가야...</td>\n",
              "    </tr>\n",
              "  </tbody>\n",
              "</table>\n",
              "</div>"
            ],
            "text/plain": [
              "       연도  ... 43. 진단대상자의 보완할 점이나 개발이 필요한 부분을 관찰한 행동 및 사례 중심으로 구체적으로 기술해 주십시오.\\n(※ 본인일 경우 본인의 개발 필요점 기술) \n",
              "0  2020.0  ...  때때로 문제의 본질보다는 현상에 주목하여 문제해결에 시간을 낭비하는 경우가 있음.\\...                                        \n",
              "1  2020.0  ...  파트원들의 업무 역량 향상 및 동기부여에 좀 더 노력이 필요하며, 전체를 보는 통찰...                                        \n",
              "2  2020.0  ...  타 부서와의 지속적인 협업을 통해 부서 업무를 개선할 수 있는 방안을 모색해 나가야...                                        \n",
              "\n",
              "[3 rows x 10 columns]"
            ]
          },
          "metadata": {
            "tags": []
          },
          "execution_count": 138
        }
      ]
    },
    {
      "cell_type": "code",
      "metadata": {
        "colab": {
          "base_uri": "https://localhost:8080/",
          "height": 210
        },
        "id": "PT6jSYKLN8OH",
        "outputId": "2ba24d3b-4f93-4e88-d91b-2ae63ea7f417"
      },
      "source": [
        "본인20 = dt20[\"평가자그룹명\"] == \"본인\"\n",
        "상사20 = dt20[\"평가자그룹명\"] == \"상사\"\n",
        "부서원20 = dt20[\"평가자그룹명\"] == \"부서원\"\n",
        "동료20 = dt20[\"평가자그룹명\"] == \"동료\"\n",
        "타인20 = dt20[\"평가자그룹명\"] != \"본인\"\n",
        "dt20[타인20].head(3)"
      ],
      "execution_count": null,
      "outputs": [
        {
          "output_type": "execute_result",
          "data": {
            "text/html": [
              "<div>\n",
              "<style scoped>\n",
              "    .dataframe tbody tr th:only-of-type {\n",
              "        vertical-align: middle;\n",
              "    }\n",
              "\n",
              "    .dataframe tbody tr th {\n",
              "        vertical-align: top;\n",
              "    }\n",
              "\n",
              "    .dataframe thead th {\n",
              "        text-align: right;\n",
              "    }\n",
              "</style>\n",
              "<table border=\"1\" class=\"dataframe\">\n",
              "  <thead>\n",
              "    <tr style=\"text-align: right;\">\n",
              "      <th></th>\n",
              "      <th>연도</th>\n",
              "      <th>구분ID</th>\n",
              "      <th>진단Level</th>\n",
              "      <th>직급</th>\n",
              "      <th>직책</th>\n",
              "      <th>임원여부</th>\n",
              "      <th>대직무</th>\n",
              "      <th>평가자그룹명</th>\n",
              "      <th>42. 진단대상자의 '강점' 을 관찰한 행동 및 사례 중심으로 구체적으로 기술해 주십시오.\\n(※ 본인일 경우 본인의 강점 기술)</th>\n",
              "      <th>43. 진단대상자의 보완할 점이나 개발이 필요한 부분을 관찰한 행동 및 사례 중심으로 구체적으로 기술해 주십시오.\\n(※ 본인일 경우 본인의 개발 필요점 기술)</th>\n",
              "    </tr>\n",
              "  </thead>\n",
              "  <tbody>\n",
              "    <tr>\n",
              "      <th>1530</th>\n",
              "      <td>2020.0</td>\n",
              "      <td>sh1239</td>\n",
              "      <td>L1</td>\n",
              "      <td>CL4</td>\n",
              "      <td>NaN</td>\n",
              "      <td>NaN</td>\n",
              "      <td>연구개발 (JFG)</td>\n",
              "      <td>상사</td>\n",
              "      <td>난이도 높은 업무를 끝까지 책임지고 해결하려는 노력과 자세가 우수함</td>\n",
              "      <td>중국어등 어학향상에 노력이 필요함</td>\n",
              "    </tr>\n",
              "    <tr>\n",
              "      <th>1531</th>\n",
              "      <td>2020.0</td>\n",
              "      <td>sh1444</td>\n",
              "      <td>L2</td>\n",
              "      <td>CL4</td>\n",
              "      <td>PL</td>\n",
              "      <td>NaN</td>\n",
              "      <td>연구개발 (JFG)</td>\n",
              "      <td>상사</td>\n",
              "      <td>강한 책임감과 뛰어난 업무 추진력. 상사의 지시에 복종하는 충성심.</td>\n",
              "      <td>아랫 사람에게 강압적으로 보일 수 있는 언행이 간혹 보여 이 점을 보완할 필요가 있음.</td>\n",
              "    </tr>\n",
              "    <tr>\n",
              "      <th>1532</th>\n",
              "      <td>2020.0</td>\n",
              "      <td>ts1488</td>\n",
              "      <td>L1</td>\n",
              "      <td>CL4</td>\n",
              "      <td>NaN</td>\n",
              "      <td>NaN</td>\n",
              "      <td>연구개발 (JFG)</td>\n",
              "      <td>상사</td>\n",
              "      <td>기술적 data에 대한 검증을 진핸한다.</td>\n",
              "      <td>계획과 일정을 지속적으로 살핀다.</td>\n",
              "    </tr>\n",
              "  </tbody>\n",
              "</table>\n",
              "</div>"
            ],
            "text/plain": [
              "          연도  ... 43. 진단대상자의 보완할 점이나 개발이 필요한 부분을 관찰한 행동 및 사례 중심으로 구체적으로 기술해 주십시오.\\n(※ 본인일 경우 본인의 개발 필요점 기술) \n",
              "1530  2020.0  ...                                 중국어등 어학향상에 노력이 필요함                                        \n",
              "1531  2020.0  ...   아랫 사람에게 강압적으로 보일 수 있는 언행이 간혹 보여 이 점을 보완할 필요가 있음.                                        \n",
              "1532  2020.0  ...                                 계획과 일정을 지속적으로 살핀다.                                        \n",
              "\n",
              "[3 rows x 10 columns]"
            ]
          },
          "metadata": {
            "tags": []
          },
          "execution_count": 139
        }
      ]
    },
    {
      "cell_type": "code",
      "metadata": {
        "colab": {
          "base_uri": "https://localhost:8080/",
          "height": 159
        },
        "id": "R6D8NYBNwKkA",
        "outputId": "affe7e1f-d50e-4f9c-d8ff-86bddc66f2ac"
      },
      "source": [
        "dt = pd.read_excel(\"../Raw data/2021년.xlsx\")\n",
        "dt21 = dt.iloc[:,[0,1,2,3,4,5,32,33]]\n",
        "dt21.head(3)"
      ],
      "execution_count": null,
      "outputs": [
        {
          "output_type": "execute_result",
          "data": {
            "text/html": [
              "<div>\n",
              "<style scoped>\n",
              "    .dataframe tbody tr th:only-of-type {\n",
              "        vertical-align: middle;\n",
              "    }\n",
              "\n",
              "    .dataframe tbody tr th {\n",
              "        vertical-align: top;\n",
              "    }\n",
              "\n",
              "    .dataframe thead th {\n",
              "        text-align: right;\n",
              "    }\n",
              "</style>\n",
              "<table border=\"1\" class=\"dataframe\">\n",
              "  <thead>\n",
              "    <tr style=\"text-align: right;\">\n",
              "      <th></th>\n",
              "      <th>진단년도</th>\n",
              "      <th>구분ID</th>\n",
              "      <th>진단Level</th>\n",
              "      <th>직급</th>\n",
              "      <th>임원여부</th>\n",
              "      <th>평가자그룹명</th>\n",
              "      <th>29. 진단대상자의 '강점' 을 관찰한 행동 및 사례 중심으로 구체적으로 기술해 주십시오.\\r\\r\\r\\n(※ 본인일 경우 본인의 강점 기술)</th>\n",
              "      <th>30. 진단대상자의 보완할 점이나 개발이 필요한 부분을 관찰한 행동 및 사례 중심으로 구체적으로 기술해 주십시오.\\r\\r\\r\\n(※ 본인일 경우 본인의 개발 필요점 기술)</th>\n",
              "    </tr>\n",
              "  </thead>\n",
              "  <tbody>\n",
              "    <tr>\n",
              "      <th>0</th>\n",
              "      <td>2021</td>\n",
              "      <td>a71250</td>\n",
              "      <td>L2</td>\n",
              "      <td>CL4</td>\n",
              "      <td>NaN</td>\n",
              "      <td>본인</td>\n",
              "      <td>수명업무에 대해 합리적이고 효율적인 해결방안을 도출하고 실행하는 업무 처리방식</td>\n",
              "      <td>업무의 확장을 위한 공정/설비기술 전반적인 학습이 필요함</td>\n",
              "    </tr>\n",
              "    <tr>\n",
              "      <th>1</th>\n",
              "      <td>2021</td>\n",
              "      <td>a71250</td>\n",
              "      <td>L2</td>\n",
              "      <td>CL4</td>\n",
              "      <td>NaN</td>\n",
              "      <td>상사</td>\n",
              "      <td>꾸준하며, 본인 업의 본질을 잘 파악하고 최선을 다한다</td>\n",
              "      <td>욕심을 좀 더 가지고 전문 인력 양성에 좀 더 힘쓰면 좋을것 같음</td>\n",
              "    </tr>\n",
              "    <tr>\n",
              "      <th>2</th>\n",
              "      <td>2021</td>\n",
              "      <td>a71250</td>\n",
              "      <td>L2</td>\n",
              "      <td>CL4</td>\n",
              "      <td>NaN</td>\n",
              "      <td>부서원</td>\n",
              "      <td>개개인의 면담을 통하여 업무 전문성을 육성하고 자유롭게 업무를 진행 할 수 있게 함</td>\n",
              "      <td>...</td>\n",
              "    </tr>\n",
              "  </tbody>\n",
              "</table>\n",
              "</div>"
            ],
            "text/plain": [
              "   진단년도  ... 30. 진단대상자의 보완할 점이나 개발이 필요한 부분을 관찰한 행동 및 사례 중심으로 구체적으로 기술해 주십시오.\\r\\r\\r\\n(※ 본인일 경우 본인의 개발 필요점 기술)\n",
              "0  2021  ...                    업무의 확장을 위한 공정/설비기술 전반적인 학습이 필요함                                             \n",
              "1  2021  ...               욕심을 좀 더 가지고 전문 인력 양성에 좀 더 힘쓰면 좋을것 같음                                             \n",
              "2  2021  ...                                                ...                                             \n",
              "\n",
              "[3 rows x 8 columns]"
            ]
          },
          "metadata": {
            "tags": []
          },
          "execution_count": 140
        }
      ]
    },
    {
      "cell_type": "code",
      "metadata": {
        "colab": {
          "base_uri": "https://localhost:8080/",
          "height": 159
        },
        "id": "rWLD5fYdw6mZ",
        "outputId": "7a30d238-373e-49a0-ba4e-a369d8ed37ea"
      },
      "source": [
        "본인21 = dt21[\"평가자그룹명\"] == \"본인\"\n",
        "상사21 = dt21[\"평가자그룹명\"] == \"상사\"\n",
        "부서원21 = dt21[\"평가자그룹명\"] == \"부서원\"\n",
        "동료21 = dt21[\"평가자그룹명\"] == \"동료\"\n",
        "타인21 = dt21[\"평가자그룹명\"] != \"본인\"\n",
        "dt21[타인21].head(3)"
      ],
      "execution_count": null,
      "outputs": [
        {
          "output_type": "execute_result",
          "data": {
            "text/html": [
              "<div>\n",
              "<style scoped>\n",
              "    .dataframe tbody tr th:only-of-type {\n",
              "        vertical-align: middle;\n",
              "    }\n",
              "\n",
              "    .dataframe tbody tr th {\n",
              "        vertical-align: top;\n",
              "    }\n",
              "\n",
              "    .dataframe thead th {\n",
              "        text-align: right;\n",
              "    }\n",
              "</style>\n",
              "<table border=\"1\" class=\"dataframe\">\n",
              "  <thead>\n",
              "    <tr style=\"text-align: right;\">\n",
              "      <th></th>\n",
              "      <th>진단년도</th>\n",
              "      <th>구분ID</th>\n",
              "      <th>진단Level</th>\n",
              "      <th>직급</th>\n",
              "      <th>임원여부</th>\n",
              "      <th>평가자그룹명</th>\n",
              "      <th>29. 진단대상자의 '강점' 을 관찰한 행동 및 사례 중심으로 구체적으로 기술해 주십시오.\\r\\r\\r\\n(※ 본인일 경우 본인의 강점 기술)</th>\n",
              "      <th>30. 진단대상자의 보완할 점이나 개발이 필요한 부분을 관찰한 행동 및 사례 중심으로 구체적으로 기술해 주십시오.\\r\\r\\r\\n(※ 본인일 경우 본인의 개발 필요점 기술)</th>\n",
              "    </tr>\n",
              "  </thead>\n",
              "  <tbody>\n",
              "    <tr>\n",
              "      <th>1</th>\n",
              "      <td>2021</td>\n",
              "      <td>a71250</td>\n",
              "      <td>L2</td>\n",
              "      <td>CL4</td>\n",
              "      <td>NaN</td>\n",
              "      <td>상사</td>\n",
              "      <td>꾸준하며, 본인 업의 본질을 잘 파악하고 최선을 다한다</td>\n",
              "      <td>욕심을 좀 더 가지고 전문 인력 양성에 좀 더 힘쓰면 좋을것 같음</td>\n",
              "    </tr>\n",
              "    <tr>\n",
              "      <th>2</th>\n",
              "      <td>2021</td>\n",
              "      <td>a71250</td>\n",
              "      <td>L2</td>\n",
              "      <td>CL4</td>\n",
              "      <td>NaN</td>\n",
              "      <td>부서원</td>\n",
              "      <td>개개인의 면담을 통하여 업무 전문성을 육성하고 자유롭게 업무를 진행 할 수 있게 함</td>\n",
              "      <td>...</td>\n",
              "    </tr>\n",
              "    <tr>\n",
              "      <th>3</th>\n",
              "      <td>2021</td>\n",
              "      <td>a71250</td>\n",
              "      <td>L2</td>\n",
              "      <td>CL4</td>\n",
              "      <td>NaN</td>\n",
              "      <td>부서원</td>\n",
              "      <td>중장기적인 개선항목 발굴후 적절하게 인원분배가 이루어짐</td>\n",
              "      <td>.</td>\n",
              "    </tr>\n",
              "  </tbody>\n",
              "</table>\n",
              "</div>"
            ],
            "text/plain": [
              "   진단년도  ... 30. 진단대상자의 보완할 점이나 개발이 필요한 부분을 관찰한 행동 및 사례 중심으로 구체적으로 기술해 주십시오.\\r\\r\\r\\n(※ 본인일 경우 본인의 개발 필요점 기술)\n",
              "1  2021  ...               욕심을 좀 더 가지고 전문 인력 양성에 좀 더 힘쓰면 좋을것 같음                                             \n",
              "2  2021  ...                                                ...                                             \n",
              "3  2021  ...                                                  .                                             \n",
              "\n",
              "[3 rows x 8 columns]"
            ]
          },
          "metadata": {
            "tags": []
          },
          "execution_count": 141
        }
      ]
    },
    {
      "cell_type": "markdown",
      "metadata": {
        "id": "5hmjC9QB4jwf"
      },
      "source": [
        "임원과 비임원 비교"
      ]
    },
    {
      "cell_type": "code",
      "metadata": {
        "id": "o7KhsfEQ4i22"
      },
      "source": [
        "dat19 = pd.read_csv(\"2019_공유용.csv\", encoding=\"cp949\", header=1)"
      ],
      "execution_count": null,
      "outputs": []
    },
    {
      "cell_type": "code",
      "metadata": {
        "colab": {
          "base_uri": "https://localhost:8080/",
          "height": 210
        },
        "id": "4C0UtnVB5HCt",
        "outputId": "c7cf336f-db73-4756-f030-49a6f281d62c"
      },
      "source": [
        "data19 = dat19.iloc[:,[0,1,2,3,4,5,6,50,51]]\n",
        "data19.head(3)"
      ],
      "execution_count": null,
      "outputs": [
        {
          "output_type": "execute_result",
          "data": {
            "text/html": [
              "<div>\n",
              "<style scoped>\n",
              "    .dataframe tbody tr th:only-of-type {\n",
              "        vertical-align: middle;\n",
              "    }\n",
              "\n",
              "    .dataframe tbody tr th {\n",
              "        vertical-align: top;\n",
              "    }\n",
              "\n",
              "    .dataframe thead th {\n",
              "        text-align: right;\n",
              "    }\n",
              "</style>\n",
              "<table border=\"1\" class=\"dataframe\">\n",
              "  <thead>\n",
              "    <tr style=\"text-align: right;\">\n",
              "      <th></th>\n",
              "      <th>연도</th>\n",
              "      <th>구분 ID</th>\n",
              "      <th>진단Level</th>\n",
              "      <th>직책</th>\n",
              "      <th>임원여부</th>\n",
              "      <th>대직무</th>\n",
              "      <th>평가자그룹명</th>\n",
              "      <th>42. 진단대상자의 '강점' 을 관찰한 행동 및 사례 중심으로 구체적으로 기술해 주십시오.\\n(※ 본인일 경우 본인의 강점 기술)</th>\n",
              "      <th>43. 진단대상자의 보완할 점이나 개발이 필요한 부분을 관찰한 행동 및 사례 중심으로 구체적으로 기술해 주십시오.\\n(※ 본인일 경우 본인의 개발 필요점 기술)</th>\n",
              "    </tr>\n",
              "  </thead>\n",
              "  <tbody>\n",
              "    <tr>\n",
              "      <th>0</th>\n",
              "      <td>2019</td>\n",
              "      <td>ki0341</td>\n",
              "      <td>L1</td>\n",
              "      <td>NaN</td>\n",
              "      <td>NaN</td>\n",
              "      <td>인사 (JFG)</td>\n",
              "      <td>본인</td>\n",
              "      <td>업무든 개인역량이든 솔선수범하여 업무 진행하는 스타일</td>\n",
              "      <td>미완된 과제에 대해서 끝까지 챙기는 부분 부족</td>\n",
              "    </tr>\n",
              "    <tr>\n",
              "      <th>1</th>\n",
              "      <td>2019</td>\n",
              "      <td>dh0575</td>\n",
              "      <td>L1</td>\n",
              "      <td>NaN</td>\n",
              "      <td>NaN</td>\n",
              "      <td>인사 (JFG)</td>\n",
              "      <td>본인</td>\n",
              "      <td>맡은바 업무를 완수하기 위해 최선의 노력을 다함.</td>\n",
              "      <td>부서원들에게 성과에 대해 주기적인 Feedback(1:1 미팅)이 부족함.</td>\n",
              "    </tr>\n",
              "    <tr>\n",
              "      <th>2</th>\n",
              "      <td>2019</td>\n",
              "      <td>cy0680</td>\n",
              "      <td>L1</td>\n",
              "      <td>NaN</td>\n",
              "      <td>NaN</td>\n",
              "      <td>인사 (JFG)</td>\n",
              "      <td>본인</td>\n",
              "      <td>책임감이 강하다</td>\n",
              "      <td>사업부 협업을 더욱 강하게 이끌 필요가 있다.</td>\n",
              "    </tr>\n",
              "  </tbody>\n",
              "</table>\n",
              "</div>"
            ],
            "text/plain": [
              "     연도  ... 43. 진단대상자의 보완할 점이나 개발이 필요한 부분을 관찰한 행동 및 사례 중심으로 구체적으로 기술해 주십시오.\\n(※ 본인일 경우 본인의 개발 필요점 기술) \n",
              "0  2019  ...                          미완된 과제에 대해서 끝까지 챙기는 부분 부족                                        \n",
              "1  2019  ...          부서원들에게 성과에 대해 주기적인 Feedback(1:1 미팅)이 부족함.                                        \n",
              "2  2019  ...                          사업부 협업을 더욱 강하게 이끌 필요가 있다.                                        \n",
              "\n",
              "[3 rows x 9 columns]"
            ]
          },
          "metadata": {
            "tags": []
          },
          "execution_count": 143
        }
      ]
    },
    {
      "cell_type": "code",
      "metadata": {
        "colab": {
          "base_uri": "https://localhost:8080/"
        },
        "id": "0g6lJXjm6Fhh",
        "outputId": "498f4b36-1e5a-4014-acb9-82692a0c187c"
      },
      "source": [
        "dat20 = pd.read_csv(\"2020_공유용.csv\", encoding=\"cp949\", header=1)"
      ],
      "execution_count": null,
      "outputs": [
        {
          "output_type": "stream",
          "text": [
            "/usr/local/lib/python3.7/dist-packages/IPython/core/interactiveshell.py:2718: DtypeWarning: Columns (1,2,3,4,5,6,7,60,61) have mixed types.Specify dtype option on import or set low_memory=False.\n",
            "  interactivity=interactivity, compiler=compiler, result=result)\n"
          ],
          "name": "stderr"
        }
      ]
    },
    {
      "cell_type": "code",
      "metadata": {
        "colab": {
          "base_uri": "https://localhost:8080/",
          "height": 176
        },
        "id": "SN9PKq4s6TWr",
        "outputId": "52c94bf7-748c-4a98-f214-9931d8a249a7"
      },
      "source": [
        "data20 = dat20.iloc[:,[0,1,2,3,4,5,6,7,60,61]]\n",
        "data20.head(3)"
      ],
      "execution_count": null,
      "outputs": [
        {
          "output_type": "execute_result",
          "data": {
            "text/html": [
              "<div>\n",
              "<style scoped>\n",
              "    .dataframe tbody tr th:only-of-type {\n",
              "        vertical-align: middle;\n",
              "    }\n",
              "\n",
              "    .dataframe tbody tr th {\n",
              "        vertical-align: top;\n",
              "    }\n",
              "\n",
              "    .dataframe thead th {\n",
              "        text-align: right;\n",
              "    }\n",
              "</style>\n",
              "<table border=\"1\" class=\"dataframe\">\n",
              "  <thead>\n",
              "    <tr style=\"text-align: right;\">\n",
              "      <th></th>\n",
              "      <th>연도</th>\n",
              "      <th>구분ID</th>\n",
              "      <th>진단Level</th>\n",
              "      <th>직급</th>\n",
              "      <th>직책</th>\n",
              "      <th>임원여부</th>\n",
              "      <th>대직무</th>\n",
              "      <th>평가자그룹명</th>\n",
              "      <th>42. 진단대상자의 '강점' 을 관찰한 행동 및 사례 중심으로 구체적으로 기술해 주십시오.\\n(※ 본인일 경우 본인의 강점 기술)</th>\n",
              "      <th>43. 진단대상자의 보완할 점이나 개발이 필요한 부분을 관찰한 행동 및 사례 중심으로 구체적으로 기술해 주십시오.\\n(※ 본인일 경우 본인의 개발 필요점 기술)</th>\n",
              "    </tr>\n",
              "  </thead>\n",
              "  <tbody>\n",
              "    <tr>\n",
              "      <th>0</th>\n",
              "      <td>2020.0</td>\n",
              "      <td>le1195</td>\n",
              "      <td>L1</td>\n",
              "      <td>CL4</td>\n",
              "      <td>NaN</td>\n",
              "      <td>NaN</td>\n",
              "      <td>인사 (JFG)</td>\n",
              "      <td>본인</td>\n",
              "      <td>부서원과 주 2~3회 소통하고 있으며 업무상의 자율성을 부여하여 본인의 업무에 ow...</td>\n",
              "      <td>때때로 문제의 본질보다는 현상에 주목하여 문제해결에 시간을 낭비하는 경우가 있음.\\...</td>\n",
              "    </tr>\n",
              "    <tr>\n",
              "      <th>1</th>\n",
              "      <td>2020.0</td>\n",
              "      <td>ke1195</td>\n",
              "      <td>L1</td>\n",
              "      <td>CL4</td>\n",
              "      <td>NaN</td>\n",
              "      <td>NaN</td>\n",
              "      <td>영업 (JFG)</td>\n",
              "      <td>본인</td>\n",
              "      <td>다양한 정보와 분석을 통해 의사결정 및 문제해결에 적합한 솔루션을 제시함. 동료 들...</td>\n",
              "      <td>파트원들의 업무 역량 향상 및 동기부여에 좀 더 노력이 필요하며, 전체를 보는 통찰...</td>\n",
              "    </tr>\n",
              "    <tr>\n",
              "      <th>2</th>\n",
              "      <td>2020.0</td>\n",
              "      <td>so1196</td>\n",
              "      <td>L1</td>\n",
              "      <td>CL4</td>\n",
              "      <td>NaN</td>\n",
              "      <td>NaN</td>\n",
              "      <td>연구개발 (JFG)</td>\n",
              "      <td>본인</td>\n",
              "      <td>DRAM 설계라는 한 분야에서  20년이 넘는 시간동안 다양한 제품개발을 통해 많은...</td>\n",
              "      <td>타 부서와의 지속적인 협업을 통해 부서 업무를 개선할 수 있는 방안을 모색해 나가야...</td>\n",
              "    </tr>\n",
              "  </tbody>\n",
              "</table>\n",
              "</div>"
            ],
            "text/plain": [
              "       연도  ... 43. 진단대상자의 보완할 점이나 개발이 필요한 부분을 관찰한 행동 및 사례 중심으로 구체적으로 기술해 주십시오.\\n(※ 본인일 경우 본인의 개발 필요점 기술) \n",
              "0  2020.0  ...  때때로 문제의 본질보다는 현상에 주목하여 문제해결에 시간을 낭비하는 경우가 있음.\\...                                        \n",
              "1  2020.0  ...  파트원들의 업무 역량 향상 및 동기부여에 좀 더 노력이 필요하며, 전체를 보는 통찰...                                        \n",
              "2  2020.0  ...  타 부서와의 지속적인 협업을 통해 부서 업무를 개선할 수 있는 방안을 모색해 나가야...                                        \n",
              "\n",
              "[3 rows x 10 columns]"
            ]
          },
          "metadata": {
            "tags": []
          },
          "execution_count": 145
        }
      ]
    },
    {
      "cell_type": "code",
      "metadata": {
        "colab": {
          "base_uri": "https://localhost:8080/",
          "height": 210
        },
        "id": "IvwPNv8E5mtl",
        "outputId": "50f08694-04ff-4943-f6a4-ef7863d22ff9"
      },
      "source": [
        "임원본인19 = (data19.임원여부 == \"임원/FM\") & (data19.평가자그룹명 == \"본인\")\n",
        "임원타인19 = (data19.임원여부 == \"임원/FM\") & (data19.평가자그룹명 != \"본인\")\n",
        "비임원본인19 = (data19.임원여부 != \"임원/FM\") & (data19.평가자그룹명 == \"본인\")\n",
        "비임원타인19 = (data19.임원여부 != \"임원/FM\") & (data19.평가자그룹명 != \"본인\")\n",
        "data19[비임원본인19].head(3)"
      ],
      "execution_count": null,
      "outputs": [
        {
          "output_type": "execute_result",
          "data": {
            "text/html": [
              "<div>\n",
              "<style scoped>\n",
              "    .dataframe tbody tr th:only-of-type {\n",
              "        vertical-align: middle;\n",
              "    }\n",
              "\n",
              "    .dataframe tbody tr th {\n",
              "        vertical-align: top;\n",
              "    }\n",
              "\n",
              "    .dataframe thead th {\n",
              "        text-align: right;\n",
              "    }\n",
              "</style>\n",
              "<table border=\"1\" class=\"dataframe\">\n",
              "  <thead>\n",
              "    <tr style=\"text-align: right;\">\n",
              "      <th></th>\n",
              "      <th>연도</th>\n",
              "      <th>구분 ID</th>\n",
              "      <th>진단Level</th>\n",
              "      <th>직책</th>\n",
              "      <th>임원여부</th>\n",
              "      <th>대직무</th>\n",
              "      <th>평가자그룹명</th>\n",
              "      <th>42. 진단대상자의 '강점' 을 관찰한 행동 및 사례 중심으로 구체적으로 기술해 주십시오.\\n(※ 본인일 경우 본인의 강점 기술)</th>\n",
              "      <th>43. 진단대상자의 보완할 점이나 개발이 필요한 부분을 관찰한 행동 및 사례 중심으로 구체적으로 기술해 주십시오.\\n(※ 본인일 경우 본인의 개발 필요점 기술)</th>\n",
              "    </tr>\n",
              "  </thead>\n",
              "  <tbody>\n",
              "    <tr>\n",
              "      <th>0</th>\n",
              "      <td>2019</td>\n",
              "      <td>ki0341</td>\n",
              "      <td>L1</td>\n",
              "      <td>NaN</td>\n",
              "      <td>NaN</td>\n",
              "      <td>인사 (JFG)</td>\n",
              "      <td>본인</td>\n",
              "      <td>업무든 개인역량이든 솔선수범하여 업무 진행하는 스타일</td>\n",
              "      <td>미완된 과제에 대해서 끝까지 챙기는 부분 부족</td>\n",
              "    </tr>\n",
              "    <tr>\n",
              "      <th>1</th>\n",
              "      <td>2019</td>\n",
              "      <td>dh0575</td>\n",
              "      <td>L1</td>\n",
              "      <td>NaN</td>\n",
              "      <td>NaN</td>\n",
              "      <td>인사 (JFG)</td>\n",
              "      <td>본인</td>\n",
              "      <td>맡은바 업무를 완수하기 위해 최선의 노력을 다함.</td>\n",
              "      <td>부서원들에게 성과에 대해 주기적인 Feedback(1:1 미팅)이 부족함.</td>\n",
              "    </tr>\n",
              "    <tr>\n",
              "      <th>2</th>\n",
              "      <td>2019</td>\n",
              "      <td>cy0680</td>\n",
              "      <td>L1</td>\n",
              "      <td>NaN</td>\n",
              "      <td>NaN</td>\n",
              "      <td>인사 (JFG)</td>\n",
              "      <td>본인</td>\n",
              "      <td>책임감이 강하다</td>\n",
              "      <td>사업부 협업을 더욱 강하게 이끌 필요가 있다.</td>\n",
              "    </tr>\n",
              "  </tbody>\n",
              "</table>\n",
              "</div>"
            ],
            "text/plain": [
              "     연도  ... 43. 진단대상자의 보완할 점이나 개발이 필요한 부분을 관찰한 행동 및 사례 중심으로 구체적으로 기술해 주십시오.\\n(※ 본인일 경우 본인의 개발 필요점 기술) \n",
              "0  2019  ...                          미완된 과제에 대해서 끝까지 챙기는 부분 부족                                        \n",
              "1  2019  ...          부서원들에게 성과에 대해 주기적인 Feedback(1:1 미팅)이 부족함.                                        \n",
              "2  2019  ...                          사업부 협업을 더욱 강하게 이끌 필요가 있다.                                        \n",
              "\n",
              "[3 rows x 9 columns]"
            ]
          },
          "metadata": {
            "tags": []
          },
          "execution_count": 146
        }
      ]
    },
    {
      "cell_type": "code",
      "metadata": {
        "colab": {
          "base_uri": "https://localhost:8080/",
          "height": 176
        },
        "id": "4uv5LvfF61Ii",
        "outputId": "725192b2-20f3-498c-b00c-1fea5fef8e4e"
      },
      "source": [
        "임원본인20 = (data20.임원여부 == \"임원/FM\") & (data20.평가자그룹명 == \"본인\")\n",
        "임원타인20 = (data20.임원여부 == \"임원/FM\") & (data20.평가자그룹명 != \"본인\")\n",
        "비임원본인20 = (data20.임원여부 != \"임원/FM\") & (data20.평가자그룹명 == \"본인\")\n",
        "비임원타인20 = (data20.임원여부 != \"임원/FM\") & (data20.평가자그룹명 != \"본인\")\n",
        "data20[비임원본인20].head(3)"
      ],
      "execution_count": null,
      "outputs": [
        {
          "output_type": "execute_result",
          "data": {
            "text/html": [
              "<div>\n",
              "<style scoped>\n",
              "    .dataframe tbody tr th:only-of-type {\n",
              "        vertical-align: middle;\n",
              "    }\n",
              "\n",
              "    .dataframe tbody tr th {\n",
              "        vertical-align: top;\n",
              "    }\n",
              "\n",
              "    .dataframe thead th {\n",
              "        text-align: right;\n",
              "    }\n",
              "</style>\n",
              "<table border=\"1\" class=\"dataframe\">\n",
              "  <thead>\n",
              "    <tr style=\"text-align: right;\">\n",
              "      <th></th>\n",
              "      <th>연도</th>\n",
              "      <th>구분ID</th>\n",
              "      <th>진단Level</th>\n",
              "      <th>직급</th>\n",
              "      <th>직책</th>\n",
              "      <th>임원여부</th>\n",
              "      <th>대직무</th>\n",
              "      <th>평가자그룹명</th>\n",
              "      <th>42. 진단대상자의 '강점' 을 관찰한 행동 및 사례 중심으로 구체적으로 기술해 주십시오.\\n(※ 본인일 경우 본인의 강점 기술)</th>\n",
              "      <th>43. 진단대상자의 보완할 점이나 개발이 필요한 부분을 관찰한 행동 및 사례 중심으로 구체적으로 기술해 주십시오.\\n(※ 본인일 경우 본인의 개발 필요점 기술)</th>\n",
              "    </tr>\n",
              "  </thead>\n",
              "  <tbody>\n",
              "    <tr>\n",
              "      <th>0</th>\n",
              "      <td>2020.0</td>\n",
              "      <td>le1195</td>\n",
              "      <td>L1</td>\n",
              "      <td>CL4</td>\n",
              "      <td>NaN</td>\n",
              "      <td>NaN</td>\n",
              "      <td>인사 (JFG)</td>\n",
              "      <td>본인</td>\n",
              "      <td>부서원과 주 2~3회 소통하고 있으며 업무상의 자율성을 부여하여 본인의 업무에 ow...</td>\n",
              "      <td>때때로 문제의 본질보다는 현상에 주목하여 문제해결에 시간을 낭비하는 경우가 있음.\\...</td>\n",
              "    </tr>\n",
              "    <tr>\n",
              "      <th>1</th>\n",
              "      <td>2020.0</td>\n",
              "      <td>ke1195</td>\n",
              "      <td>L1</td>\n",
              "      <td>CL4</td>\n",
              "      <td>NaN</td>\n",
              "      <td>NaN</td>\n",
              "      <td>영업 (JFG)</td>\n",
              "      <td>본인</td>\n",
              "      <td>다양한 정보와 분석을 통해 의사결정 및 문제해결에 적합한 솔루션을 제시함. 동료 들...</td>\n",
              "      <td>파트원들의 업무 역량 향상 및 동기부여에 좀 더 노력이 필요하며, 전체를 보는 통찰...</td>\n",
              "    </tr>\n",
              "    <tr>\n",
              "      <th>2</th>\n",
              "      <td>2020.0</td>\n",
              "      <td>so1196</td>\n",
              "      <td>L1</td>\n",
              "      <td>CL4</td>\n",
              "      <td>NaN</td>\n",
              "      <td>NaN</td>\n",
              "      <td>연구개발 (JFG)</td>\n",
              "      <td>본인</td>\n",
              "      <td>DRAM 설계라는 한 분야에서  20년이 넘는 시간동안 다양한 제품개발을 통해 많은...</td>\n",
              "      <td>타 부서와의 지속적인 협업을 통해 부서 업무를 개선할 수 있는 방안을 모색해 나가야...</td>\n",
              "    </tr>\n",
              "  </tbody>\n",
              "</table>\n",
              "</div>"
            ],
            "text/plain": [
              "       연도  ... 43. 진단대상자의 보완할 점이나 개발이 필요한 부분을 관찰한 행동 및 사례 중심으로 구체적으로 기술해 주십시오.\\n(※ 본인일 경우 본인의 개발 필요점 기술) \n",
              "0  2020.0  ...  때때로 문제의 본질보다는 현상에 주목하여 문제해결에 시간을 낭비하는 경우가 있음.\\...                                        \n",
              "1  2020.0  ...  파트원들의 업무 역량 향상 및 동기부여에 좀 더 노력이 필요하며, 전체를 보는 통찰...                                        \n",
              "2  2020.0  ...  타 부서와의 지속적인 협업을 통해 부서 업무를 개선할 수 있는 방안을 모색해 나가야...                                        \n",
              "\n",
              "[3 rows x 10 columns]"
            ]
          },
          "metadata": {
            "tags": []
          },
          "execution_count": 147
        }
      ]
    },
    {
      "cell_type": "code",
      "metadata": {
        "colab": {
          "base_uri": "https://localhost:8080/",
          "height": 193
        },
        "id": "3E16HFGn7UvZ",
        "outputId": "559787f7-16e4-4bb4-e30f-64284e3c8574"
      },
      "source": [
        "임원본인21 = (dt21.임원여부 == \"임원\") & (dt21.평가자그룹명 == \"본인\")\n",
        "임원타인21 = (dt21.임원여부 == \"임원\") & (dt21.평가자그룹명 != \"본인\")\n",
        "비임원본인21 = (dt21.임원여부 != \"임원\") & (dt21.평가자그룹명 == \"본인\")\n",
        "비임원타인21 = (dt21.임원여부 != \"임원\") & (dt21.평가자그룹명 != \"본인\")\n",
        "dt21[비임원본인21].head(3)"
      ],
      "execution_count": null,
      "outputs": [
        {
          "output_type": "execute_result",
          "data": {
            "text/html": [
              "<div>\n",
              "<style scoped>\n",
              "    .dataframe tbody tr th:only-of-type {\n",
              "        vertical-align: middle;\n",
              "    }\n",
              "\n",
              "    .dataframe tbody tr th {\n",
              "        vertical-align: top;\n",
              "    }\n",
              "\n",
              "    .dataframe thead th {\n",
              "        text-align: right;\n",
              "    }\n",
              "</style>\n",
              "<table border=\"1\" class=\"dataframe\">\n",
              "  <thead>\n",
              "    <tr style=\"text-align: right;\">\n",
              "      <th></th>\n",
              "      <th>진단년도</th>\n",
              "      <th>구분ID</th>\n",
              "      <th>진단Level</th>\n",
              "      <th>직급</th>\n",
              "      <th>임원여부</th>\n",
              "      <th>평가자그룹명</th>\n",
              "      <th>29. 진단대상자의 '강점' 을 관찰한 행동 및 사례 중심으로 구체적으로 기술해 주십시오.\\r\\r\\r\\n(※ 본인일 경우 본인의 강점 기술)</th>\n",
              "      <th>30. 진단대상자의 보완할 점이나 개발이 필요한 부분을 관찰한 행동 및 사례 중심으로 구체적으로 기술해 주십시오.\\r\\r\\r\\n(※ 본인일 경우 본인의 개발 필요점 기술)</th>\n",
              "    </tr>\n",
              "  </thead>\n",
              "  <tbody>\n",
              "    <tr>\n",
              "      <th>0</th>\n",
              "      <td>2021</td>\n",
              "      <td>a71250</td>\n",
              "      <td>L2</td>\n",
              "      <td>CL4</td>\n",
              "      <td>NaN</td>\n",
              "      <td>본인</td>\n",
              "      <td>수명업무에 대해 합리적이고 효율적인 해결방안을 도출하고 실행하는 업무 처리방식</td>\n",
              "      <td>업무의 확장을 위한 공정/설비기술 전반적인 학습이 필요함</td>\n",
              "    </tr>\n",
              "    <tr>\n",
              "      <th>24</th>\n",
              "      <td>2021</td>\n",
              "      <td>aa1521</td>\n",
              "      <td>L1</td>\n",
              "      <td>CL3 이하</td>\n",
              "      <td>NaN</td>\n",
              "      <td>본인</td>\n",
              "      <td>문제의 핵심을 파악하고 신속한 의사 결정</td>\n",
              "      <td>부서원들 동기 부여하는 skill 향상이 필요함</td>\n",
              "    </tr>\n",
              "    <tr>\n",
              "      <th>44</th>\n",
              "      <td>2021</td>\n",
              "      <td>ab1292</td>\n",
              "      <td>L1</td>\n",
              "      <td>CL3 이하</td>\n",
              "      <td>NaN</td>\n",
              "      <td>본인</td>\n",
              "      <td>편안하게 다가가려고 노력하고 동료애를 느끼게 해주려고 하고있음</td>\n",
              "      <td>업무에 대한 지식부족과 더 좋은 환경의 교육을 만들어 줘야할 것 같음</td>\n",
              "    </tr>\n",
              "  </tbody>\n",
              "</table>\n",
              "</div>"
            ],
            "text/plain": [
              "    진단년도  ... 30. 진단대상자의 보완할 점이나 개발이 필요한 부분을 관찰한 행동 및 사례 중심으로 구체적으로 기술해 주십시오.\\r\\r\\r\\n(※ 본인일 경우 본인의 개발 필요점 기술)\n",
              "0   2021  ...                    업무의 확장을 위한 공정/설비기술 전반적인 학습이 필요함                                             \n",
              "24  2021  ...                         부서원들 동기 부여하는 skill 향상이 필요함                                             \n",
              "44  2021  ...             업무에 대한 지식부족과 더 좋은 환경의 교육을 만들어 줘야할 것 같음                                             \n",
              "\n",
              "[3 rows x 8 columns]"
            ]
          },
          "metadata": {
            "tags": []
          },
          "execution_count": 148
        }
      ]
    },
    {
      "cell_type": "markdown",
      "metadata": {
        "id": "CkPl8dIaFeKY"
      },
      "source": [
        "2019년도 strength 명사만 추출"
      ]
    },
    {
      "cell_type": "code",
      "metadata": {
        "id": "RrVKE5tFAA1w",
        "colab": {
          "base_uri": "https://localhost:8080/"
        },
        "outputId": "af266d5d-6ad4-4af4-fa4d-d6387b7e50e1"
      },
      "source": [
        "### \"없음\"으로 답한 비율\n",
        "dt21[비임원본인21].iloc[1,7].find(\"없\")\n",
        "dt21[비임원본인21].apply(lambda x : x.iloc[,7], axis = 0)"
      ],
      "execution_count": null,
      "outputs": [
        {
          "output_type": "execute_result",
          "data": {
            "text/plain": [
              "-1"
            ]
          },
          "metadata": {
            "tags": []
          },
          "execution_count": 153
        }
      ]
    },
    {
      "cell_type": "markdown",
      "metadata": {
        "id": "KYcqN7kPFmId"
      },
      "source": [
        "## 트위터 단어 추출"
      ]
    },
    {
      "cell_type": "code",
      "metadata": {
        "id": "oanvTG0wFlsw"
      },
      "source": [
        "!pip install customized_konlpy"
      ],
      "execution_count": null,
      "outputs": []
    },
    {
      "cell_type": "code",
      "metadata": {
        "id": "ax_fumheGOUQ"
      },
      "source": [
        "def twitter_noun(temp, dic):\n",
        "     #okt 객체 생성\n",
        "    twitter = Twitter()\n",
        "    # twitter.add_dictionary(dic, 'Noun')\n",
        "    noun = twitter.nouns(temp)\n",
        "    nltk.download('punkt')\n",
        "    stopwords = dic\n",
        "    clean_words = [] \n",
        "    for word in noun: \n",
        "        if word not in stopwords: #불용어 제거\n",
        "            clean_words.append(word)  \n",
        "    for i,v in enumerate(clean_words):\n",
        "        if len(v)<2:\n",
        "                clean_words.pop(i)\n",
        "\n",
        "    count = Counter(clean_words)\n",
        "\n",
        "    #명사 빈도 카운트\n",
        "    noun_list = count.most_common(100)\n",
        "    return noun_list"
      ],
      "execution_count": null,
      "outputs": []
    },
    {
      "cell_type": "code",
      "metadata": {
        "colab": {
          "base_uri": "https://localhost:8080/"
        },
        "id": "u2wKmDxtOeRo",
        "outputId": "0c4e7715-f5d4-4505-96e8-6ebbe1921fde"
      },
      "source": [
        "list1 = []\n",
        "# data = dt21[타인21].iloc[:,7]\n",
        "data = dt21[비임원본인21].iloc[:,7]\n",
        "for i in data:\n",
        "  # item = i.replace(\"다양한\",\"쩡보\")\n",
        "  # item = item.replace(\"에\",\"?\")\n",
        "  # list1.append(item)\n",
        "  list1.append(i)\n",
        "list1 = [str(x) for x in list1 ]  # 숫자형이 있으면 문자형으로 변환 (이유 : 숫자형은 .join이 안됨.)\n",
        "list2 = '\\n'.join(list1)\n",
        "print(list2[0:20])"
      ],
      "execution_count": null,
      "outputs": [
        {
          "output_type": "stream",
          "text": [
            "업무의 확장을 위한 공정/설비기술 전\n"
          ],
          "name": "stdout"
        }
      ]
    },
    {
      "cell_type": "code",
      "metadata": {
        "colab": {
          "base_uri": "https://localhost:8080/"
        },
        "id": "Zc6Gk7CVFlxq",
        "outputId": "7df6783e-4fe8-4d6b-9bc9-b3a6e8de0bdd"
      },
      "source": [
        "# filename = \"./데이터 중간단계/me_weak_2019.csv\"\n",
        "# f = open(filename, \"r\", encoding=\"utf-8\")\n",
        "# temp = f.read()\n",
        "dic = ['업무','부서', '노력', '진행', '대한', '위해', '통해', '바탕', '대해', '가지', '관련', '통한', '기반', '부분', '수', '또한', '유관',\n",
        "       '필요','보완','본인','생각','더','조금','특별','경우','서원','도록','파트','부족','극적','좀더','사항','모습','시간','해주','이나',\n",
        "       '다른','요하','것','다소','현재','주시','원','로서','까지','족하','려고', \"항상\",'해주시',\"가끔\",\"상황\",\"개발\", \"리더\", \"강화\", \"지금\"]\n",
        "noun_list = twitter_noun(list2, dic)\n",
        "\n",
        "noun_list[0:10]"
      ],
      "execution_count": null,
      "outputs": [
        {
          "output_type": "stream",
          "text": [
            "/usr/local/lib/python3.7/dist-packages/konlpy/tag/_okt.py:16: UserWarning: \"Twitter\" has changed to \"Okt\" since KoNLPy v0.4.5.\n",
            "  warn('\"Twitter\" has changed to \"Okt\" since KoNLPy v0.4.5.')\n"
          ],
          "name": "stderr"
        },
        {
          "output_type": "stream",
          "text": [
            "[nltk_data] Downloading package punkt to /root/nltk_data...\n",
            "[nltk_data]   Package punkt is already up-to-date!\n"
          ],
          "name": "stdout"
        },
        {
          "output_type": "execute_result",
          "data": {
            "text/plain": [
              "[('기술', 563),\n",
              " ('역량', 546),\n",
              " ('능력', 504),\n",
              " ('소통', 355),\n",
              " ('관리', 291),\n",
              " ('향상', 271),\n",
              " ('지식', 265),\n",
              " ('조직', 221),\n",
              " ('추진', 218),\n",
              " ('전문', 201)]"
            ]
          },
          "metadata": {
            "tags": []
          },
          "execution_count": 131
        }
      ]
    },
    {
      "cell_type": "code",
      "metadata": {
        "id": "ads5moE9GjNC"
      },
      "source": [
        "import csv\n",
        "# csv 파일에 저장\n",
        "# with open(\"./result/타인_21_단점.csv\", \"w\", newline='', encoding=\"utf-8\") as f:\n",
        "with open(\"./result/비임원본인_21_단점.csv\", \"w\", newline='', encoding=\"utf-8\") as f:\n",
        "\n",
        "  csvw = csv.writer(f)\n",
        "  for v in noun_list:\n",
        "    csvw.writerow(v)  "
      ],
      "execution_count": null,
      "outputs": []
    },
    {
      "cell_type": "code",
      "metadata": {
        "id": "rPHKoOLiS4kO"
      },
      "source": [
        "# 워드 클라우드\n",
        "def visualize(noun_list):\n",
        "\n",
        "  wc = WordCloud(font_path = \"./데이터 중간단계/H2GTRM.TTF\", \\\n",
        "                 background_color = \"white\", \\\n",
        "                 width=1000, \\\n",
        "                 height=1000, \\\n",
        "                 max_words=100,\\\n",
        "                 max_font_size=300)\n",
        "  wc.generate_from_frequencies(dict(noun_list))\n",
        "  wc.to_file('./워드클라우드/keyword_other_weak_2019.png')\n",
        "\n",
        "\n",
        "visualize(noun_list)"
      ],
      "execution_count": null,
      "outputs": []
    },
    {
      "cell_type": "code",
      "metadata": {
        "id": "MRVlUoVSS4m8",
        "colab": {
          "base_uri": "https://localhost:8080/"
        },
        "outputId": "072ebe65-38c2-41ac-9fb8-5b4ba14cdb25"
      },
      "source": [
        "### 단점이 \"없다\" 혹은 \".\"으로 기재한 비율\n",
        "new = dt21[동료].iloc[:,7]\n",
        "new.str.count(\"없\")"
      ],
      "execution_count": null,
      "outputs": [
        {
          "output_type": "execute_result",
          "data": {
            "text/plain": [
              "18       0.0\n",
              "19       0.0\n",
              "20       1.0\n",
              "21       0.0\n",
              "22       0.0\n",
              "        ... \n",
              "89348    1.0\n",
              "89357    0.0\n",
              "89358    0.0\n",
              "89359    0.0\n",
              "89360    1.0\n",
              "Name: 30. 진단대상자의 보완할 점이나 개발이 필요한 부분을 관찰한 행동 및 사례 중심으로 구체적으로 기술해 주십시오.\\r\\r\\r\\n(※ 본인일 경우 본인의 개발 필요점 기술), Length: 20597, dtype: float64"
            ]
          },
          "metadata": {
            "tags": []
          },
          "execution_count": 53
        }
      ]
    },
    {
      "cell_type": "code",
      "metadata": {
        "id": "lkAvSKPc2_Hs"
      },
      "source": [
        ""
      ],
      "execution_count": null,
      "outputs": []
    }
  ]
}