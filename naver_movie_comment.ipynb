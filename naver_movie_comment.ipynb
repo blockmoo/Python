{
  "nbformat": 4,
  "nbformat_minor": 0,
  "metadata": {
    "colab": {
      "name": "naver_movie_comment.ipynb",
      "provenance": [],
      "collapsed_sections": [],
      "toc_visible": true,
      "authorship_tag": "ABX9TyOS7z9H0Jzy9oobDug4TIuw",
      "include_colab_link": true
    },
    "kernelspec": {
      "name": "python3",
      "display_name": "Python 3"
    }
  },
  "cells": [
    {
      "cell_type": "markdown",
      "metadata": {
        "id": "view-in-github",
        "colab_type": "text"
      },
      "source": [
        "<a href=\"https://colab.research.google.com/github/blockmoo/Python/blob/main/naver_movie_comment.ipynb\" target=\"_parent\"><img src=\"https://colab.research.google.com/assets/colab-badge.svg\" alt=\"Open In Colab\"/></a>"
      ]
    },
    {
      "cell_type": "markdown",
      "metadata": {
        "id": "BFhsOh6a0TKH"
      },
      "source": [
        "# **네이버 영화 댓글 크롤링**"
      ]
    },
    {
      "cell_type": "code",
      "metadata": {
        "colab": {
          "base_uri": "https://localhost:8080/"
        },
        "id": "JmdXAYoQNMv-",
        "outputId": "fa2cced9-8fed-494a-f9dc-2382b48aafb0"
      },
      "source": [
        "from google.colab import drive\n",
        "drive.mount('/content/drive')"
      ],
      "execution_count": null,
      "outputs": [
        {
          "output_type": "stream",
          "text": [
            "Mounted at /content/drive\n"
          ],
          "name": "stdout"
        }
      ]
    },
    {
      "cell_type": "code",
      "metadata": {
        "id": "-sl0kZgR1WOb"
      },
      "source": [
        "import requests\n",
        "from urllib import parse\n",
        "from bs4 import BeautifulSoup"
      ],
      "execution_count": null,
      "outputs": []
    },
    {
      "cell_type": "code",
      "metadata": {
        "id": "RYT83VCx1ttr"
      },
      "source": [
        "base_url = \"https://movie.naver.com/movie/point/af/list.nhn?st=mcode&sword=190010&target=&page={}\"\n",
        "url = base_url.format(1)\n",
        "res=requests.get(url)"
      ],
      "execution_count": null,
      "outputs": []
    },
    {
      "cell_type": "code",
      "metadata": {
        "colab": {
          "base_uri": "https://localhost:8080/"
        },
        "id": "k9twpfbz2fcP",
        "outputId": "0a09248a-5581-4546-a638-9fb0760f4c87"
      },
      "source": [
        "if res.status_code == 200:\n",
        "  soup = BeautifulSoup(res.text)\n",
        "  tds = soup.select('table.list_netizen > tbody > tr > td.title')\n",
        "  print(len(tds))\n",
        "  for td in tds:\n",
        "    movie_title = td.select_one('a.movie').test.strip()\n",
        "    link = td.select_one('a.movie').get('href')\n",
        "    link = parse.urljoin(base_url, link)\n",
        "    score = td.select_one('div.list_netizen_score > em').text.strip()\n",
        "    comment = td.select_one('br').next_sibling.strip() #textnode인 경우 text로 조회할 필요 없다.\n",
        "    print(movie_title, link, score, comment, sep=' :: ')\n",
        "    print('------------------------------------------------')"
      ],
      "execution_count": null,
      "outputs": [
        {
          "output_type": "stream",
          "text": [
            "0\n"
          ],
          "name": "stdout"
        }
      ]
    },
    {
      "cell_type": "code",
      "metadata": {
        "id": "oFpS7icscKGk"
      },
      "source": [
        "soup"
      ],
      "execution_count": null,
      "outputs": []
    },
    {
      "cell_type": "code",
      "metadata": {
        "colab": {
          "base_uri": "https://localhost:8080/"
        },
        "id": "VvcaH0Ng6lc4",
        "outputId": "69c7d491-7220-4c1c-e229-f6be7800281e"
      },
      "source": [
        "base_url = \"https://movie.naver.com/movie/point/af/list.nhn?st=mcode&sword=190010&target=&page={}\"\n",
        "url = base_url.format(2)\n",
        "res=requests.get(url)\n",
        "\n",
        "if res.status_code == 200:\n",
        "  soup = BeautifulSoup(res.text,'html.parser', from_encoding=\"utf-8\")\n",
        "  tds = soup.select('div#old_content > table.list_netizen > tbody > tr > td.title')\n",
        "  print(len(tds))  #old_content > table > tbody > tr\n",
        "  for td in tds:\n",
        "    movie_title = td.select_one('a.movie').test.strip()\n",
        "    link = td.select_one('a.movie').get('href')\n",
        "    link = parse.urljoin(base_url, link)\n",
        "    score = td.select_one('div.list_netizen_score > em').text.strip()\n",
        "    comment = td.select_one('br').next_sibling.strip() #textnode인 경우 text로 조회할 필요 없다.\n",
        "    print(movie_title, link, score, comment, sep=' :: ')\n",
        "    print('------------------------------------------------')"
      ],
      "execution_count": null,
      "outputs": [
        {
          "output_type": "stream",
          "text": [
            "0\n"
          ],
          "name": "stdout"
        },
        {
          "output_type": "stream",
          "text": [
            "/usr/local/lib/python3.6/dist-packages/bs4/__init__.py:179: UserWarning: You provided Unicode markup but also provided a value for from_encoding. Your from_encoding will be ignored.\n",
            "  warnings.warn(\"You provided Unicode markup but also provided a value for from_encoding. Your from_encoding will be ignored.\")\n"
          ],
          "name": "stderr"
        }
      ]
    },
    {
      "cell_type": "code",
      "metadata": {
        "id": "h_jOehMncr2N"
      },
      "source": [
        "soup"
      ],
      "execution_count": null,
      "outputs": []
    },
    {
      "cell_type": "code",
      "metadata": {
        "id": "Yhcwhhbv6loo"
      },
      "source": [
        "base_url = \"https://movie.naver.com/movie/point/af/list.nhn?&page={}\"\n",
        "url = base_url.format(2)\n",
        "res=requests.get(url)\n",
        "\n",
        "if res.status_code == 200:\n",
        "  soup = BeautifulSoup(res.text,'html.parser')\n",
        "  a = soup.select(\"table.list_netizen > tbody > tr > td.title\")\n"
      ],
      "execution_count": null,
      "outputs": []
    },
    {
      "cell_type": "code",
      "metadata": {
        "id": "bzwoz1_2AI6o"
      },
      "source": [
        "base_url = \"https://movie.naver.com/movie/point/af/list.nhn?st=mcode&sword=190010&target=&page={}\"\n",
        "url = base_url.format(2)\n",
        "res=requests.get(url)\n",
        "\n",
        "if res.status_code == 200:\n",
        "  soup = BeautifulSoup(res.text,'html.parser')\n",
        "  a = soup.select(\"#old_content > table > tbody > tr\")\n",
        "  list = []\n",
        "  for item in a:\n",
        "     temp = []\n",
        "     name = item.select_one(\"#old_content > table > tbody > tr > td\")[\"title\"]\n",
        "     print(name)"
      ],
      "execution_count": null,
      "outputs": []
    },
    {
      "cell_type": "code",
      "metadata": {
        "id": "UZnVSixKH0qv"
      },
      "source": [
        ""
      ],
      "execution_count": null,
      "outputs": []
    },
    {
      "cell_type": "code",
      "metadata": {
        "id": "r8tc_PihJ2_y"
      },
      "source": [
        "import requests\n",
        "\n",
        "from bs4 import BeautifulSoup\n",
        "\n",
        "#select는 만족하는 여러 인스턴스를 찾고, find는 첫 번째 인스턴스를 반환합니다.\n",
        "\n",
        "def get_movie_point(start, end):\n",
        "\n",
        "    result = []\n",
        "\n",
        "    for i in range(start, end+1):\n",
        "\n",
        "        url = 'https://movie.naver.com/movie/point/af/list.nhn?st=mcode&sword=190010&target=&page={}'.format(i)\n",
        "\n",
        "        r = requests.get(url)\n",
        "\n",
        "        bs = BeautifulSoup(r.text, \"lxml\")\n",
        "\n",
        "\n",
        "\n",
        "        trs = bs.select(\"table.list_netizen > tbody > tr\")\n",
        "\n",
        "        for tr in trs:#다수의 평점\n",
        "\n",
        "            # td = tr.select(\"td\")\n",
        "\n",
        "            # title= td[1].select(\"a\")[0].text\n",
        "\n",
        "            # score=tr.find(\"div\",{\"class\":\"list_netizen_score\"}).find(\"em\").text\n",
        "\n",
        "            # print(title, score)\n",
        "\n",
        "\n",
        "\n",
        "            content=tr.find(\"td\",{\"class\",\"title\"}).text\n",
        "\n",
        "            content=content.split('\\n')\n",
        "\n",
        "            content=\"\\n\".join(content[0:6])\n",
        "\n",
        "            print(content)\n",
        "\n",
        "            print()\n",
        "\n",
        "            \n",
        "\n",
        "#get_movie_point(1,1000)"
      ],
      "execution_count": null,
      "outputs": []
    },
    {
      "cell_type": "code",
      "metadata": {
        "id": "UMUimznFXX-j"
      },
      "source": [
        "a = get_movie_point(1,2)\n",
        "print(a)"
      ],
      "execution_count": null,
      "outputs": []
    },
    {
      "cell_type": "markdown",
      "metadata": {
        "id": "2Sk0d-nm0bRo"
      },
      "source": [
        "# **네이버 영화 상영 시간 크롤링**"
      ]
    },
    {
      "cell_type": "code",
      "metadata": {
        "colab": {
          "base_uri": "https://localhost:8080/"
        },
        "id": "dPa7QAPX0fHe",
        "outputId": "ffb22212-e6b4-46ce-95b0-0e202cbc9fe1"
      },
      "source": [
        "import requests\n",
        "from urllib import parse\n",
        "from bs4 import BeautifulSoup\n",
        "import re\n",
        "import pandas as pd\n",
        "import os\n",
        "os.chdir('/content/drive/MyDrive/Mixture_lab/naver_movie/영화댓글')\n",
        "\n",
        "code = '17421'\n",
        "base_url = 'https://movie.naver.com/movie/bi/mi/basic.nhn?code=' + code \n",
        "url = base_url.format(1)\n",
        "res=requests.get(url)\n",
        "\n",
        "if res.status_code == 200:\n",
        "  soup = BeautifulSoup(res.text)\n",
        "  tds = soup.select('#content > div.article > div.mv_info_area > div.mv_info > dl > dd:nth-child(2) > p > span:nth-child(3)')\n",
        "  print(len(tds))\n",
        "  for td in tds:\n",
        "    movie_title = td.select_one('a.movie').text.strip()\n",
        "    link = td.select_one('a.movie').get('href')\n",
        "    link = parse.urljoin(base_url, link)\n",
        "    print(movie_title, link)\n",
        "    print('-----------------------------------------------')\n"
      ],
      "execution_count": null,
      "outputs": [
        {
          "output_type": "stream",
          "text": [
            "0\n"
          ],
          "name": "stdout"
        }
      ]
    },
    {
      "cell_type": "code",
      "metadata": {
        "colab": {
          "base_uri": "https://localhost:8080/"
        },
        "id": "eUxauhNuCuje",
        "outputId": "1c246804-cb48-41b0-f461-03e32d9cce32"
      },
      "source": [
        "import re\n",
        "code = '17421'\n",
        "base_url = 'https://movie.naver.com/movie/bi/mi/basic.nhn?code=' + code \n",
        "url = base_url.format(1)\n",
        "res=requests.get(url)\n",
        "\n",
        "if res.status_code == 200:\n",
        "  soup = BeautifulSoup(res.text)\n",
        "  tds = soup.select('#content > div.article > div.mv_info_area > div.mv_info > dl > dd > p > span')\n",
        "  print(tds[2].text.strip())"
      ],
      "execution_count": null,
      "outputs": [
        {
          "output_type": "stream",
          "text": [
            "142분\n"
          ],
          "name": "stdout"
        }
      ]
    },
    {
      "cell_type": "code",
      "metadata": {
        "colab": {
          "base_uri": "https://localhost:8080/"
        },
        "id": "nUu_vYOWN1RF",
        "outputId": "31b910a2-d746-421b-d6b7-2c6b5f6c573a"
      },
      "source": [
        "import pandas as pd\n",
        "import os\n",
        "os.chdir('/content/drive/MyDrive/Mixture_lab/naver_movie/영화댓글')\n",
        "\n",
        "df = pd.read_csv('movie_list_code.csv')\n",
        "df.iloc[0,0]"
      ],
      "execution_count": null,
      "outputs": [
        {
          "output_type": "execute_result",
          "data": {
            "text/plain": [
              "174830"
            ]
          },
          "metadata": {
            "tags": []
          },
          "execution_count": 23
        }
      ]
    },
    {
      "cell_type": "code",
      "metadata": {
        "colab": {
          "base_uri": "https://localhost:8080/"
        },
        "id": "xDHCMAUHQpyy",
        "outputId": "d80acbe1-c91e-4707-f416-b40cdde64a1f"
      },
      "source": [
        ""
      ],
      "execution_count": null,
      "outputs": [
        {
          "output_type": "stream",
          "text": [
            "drive  movie_list_p400.txt  sample_data\n"
          ],
          "name": "stdout"
        }
      ]
    }
  ]
}